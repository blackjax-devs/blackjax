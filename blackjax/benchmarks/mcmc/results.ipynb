{
 "cells": [
  {
   "cell_type": "code",
   "execution_count": 1,
   "metadata": {},
   "outputs": [
    {
     "name": "stdout",
     "output_type": "stream",
     "text": [
      "\n",
      "Model: StandardNormal, Sampler: mhmclmc\n",
      " Coefficients: [0.5, 1.0, 0.5]\n",
      "\n"
     ]
    },
    {
     "data": {
      "text/html": [
       "\n",
       "<style>\n",
       "    /* Turns off some styling */\n",
       "    progress {\n",
       "        /* gets rid of default border in Firefox and Opera. */\n",
       "        border: none;\n",
       "        /* Needs to be in here for Safari polyfill so background images work as expected. */\n",
       "        background-size: auto;\n",
       "    }\n",
       "    progress:not([value]), progress:not([value])::-webkit-progress-bar {\n",
       "        background: repeating-linear-gradient(45deg, #7e7e7e, #7e7e7e 10px, #5c5c5c 10px, #5c5c5c 20px);\n",
       "    }\n",
       "    .progress-bar-interrupted, .progress-bar-interrupted::-webkit-progress-bar {\n",
       "        background: #F44336;\n",
       "    }\n",
       "</style>\n"
      ],
      "text/plain": [
       "<IPython.core.display.HTML object>"
      ]
     },
     "metadata": {},
     "output_type": "display_data"
    },
    {
     "data": {
      "text/html": [
       "\n",
       "    <div>\n",
       "      <progress value='2000' class='' max='2000' style='width:300px; height:20px; vertical-align: middle;'></progress>\n",
       "      100.00% [2000/2000 00:00&lt;?]\n",
       "    </div>\n",
       "    "
      ],
      "text/plain": [
       "<IPython.core.display.HTML object>"
      ]
     },
     "metadata": {},
     "output_type": "display_data"
    },
    {
     "name": "stdout",
     "output_type": "stream",
     "text": [
      "\n",
      "4.701172 33.226685\n",
      "grads to low bias: 7972.41650390625\n",
      "\n",
      "Model: StandardNormal, Sampler: mhmclmc\n",
      " Coefficients: [0.1931833275037836, 0.5, 0.6136333449924328, 0.5, 0.1931833275037836]\n",
      "\n"
     ]
    },
    {
     "data": {
      "text/html": [
       "\n",
       "<style>\n",
       "    /* Turns off some styling */\n",
       "    progress {\n",
       "        /* gets rid of default border in Firefox and Opera. */\n",
       "        border: none;\n",
       "        /* Needs to be in here for Safari polyfill so background images work as expected. */\n",
       "        background-size: auto;\n",
       "    }\n",
       "    progress:not([value]), progress:not([value])::-webkit-progress-bar {\n",
       "        background: repeating-linear-gradient(45deg, #7e7e7e, #7e7e7e 10px, #5c5c5c 10px, #5c5c5c 20px);\n",
       "    }\n",
       "    .progress-bar-interrupted, .progress-bar-interrupted::-webkit-progress-bar {\n",
       "        background: #F44336;\n",
       "    }\n",
       "</style>\n"
      ],
      "text/plain": [
       "<IPython.core.display.HTML object>"
      ]
     },
     "metadata": {},
     "output_type": "display_data"
    },
    {
     "data": {
      "text/html": [
       "\n",
       "    <div>\n",
       "      <progress value='2000' class='' max='2000' style='width:300px; height:20px; vertical-align: middle;'></progress>\n",
       "      100.00% [2000/2000 00:00&lt;?]\n",
       "    </div>\n",
       "    "
      ],
      "text/plain": [
       "<IPython.core.display.HTML object>"
      ]
     },
     "metadata": {},
     "output_type": "display_data"
    },
    {
     "name": "stdout",
     "output_type": "stream",
     "text": [
      "\n",
      "5.77816 33.97205\n",
      "grads to low bias: 5409.03759765625\n",
      "\n",
      "Model: StandardNormal, Sampler: mhmclmc\n",
      " Coefficients: [0.11888010966548, 0.29619504261126, 0.38111989033452, 0.40760991477748, 0.38111989033452, 0.29619504261126, 0.11888010966548]\n",
      "\n"
     ]
    },
    {
     "data": {
      "text/html": [
       "\n",
       "<style>\n",
       "    /* Turns off some styling */\n",
       "    progress {\n",
       "        /* gets rid of default border in Firefox and Opera. */\n",
       "        border: none;\n",
       "        /* Needs to be in here for Safari polyfill so background images work as expected. */\n",
       "        background-size: auto;\n",
       "    }\n",
       "    progress:not([value]), progress:not([value])::-webkit-progress-bar {\n",
       "        background: repeating-linear-gradient(45deg, #7e7e7e, #7e7e7e 10px, #5c5c5c 10px, #5c5c5c 20px);\n",
       "    }\n",
       "    .progress-bar-interrupted, .progress-bar-interrupted::-webkit-progress-bar {\n",
       "        background: #F44336;\n",
       "    }\n",
       "</style>\n"
      ],
      "text/plain": [
       "<IPython.core.display.HTML object>"
      ]
     },
     "metadata": {},
     "output_type": "display_data"
    },
    {
     "data": {
      "text/html": [
       "\n",
       "    <div>\n",
       "      <progress value='2000' class='' max='2000' style='width:300px; height:20px; vertical-align: middle;'></progress>\n",
       "      100.00% [2000/2000 00:00&lt;?]\n",
       "    </div>\n",
       "    "
      ],
      "text/plain": [
       "<IPython.core.display.HTML object>"
      ]
     },
     "metadata": {},
     "output_type": "display_data"
    },
    {
     "name": "stdout",
     "output_type": "stream",
     "text": [
      "\n",
      "8.614059 36.50968\n",
      "grads to low bias: 4208.71435546875\n",
      "\n",
      "Model: StandardNormal, Sampler: mhmclmc\n",
      " Coefficients: [0.08398315262876693, 0.2539785108410595, 0.682236533571909, -0.03230286765269967, -0.266219686200676, 0.5566487136232804, -0.266219686200676, -0.03230286765269967, 0.682236533571909, 0.2539785108410595, 0.08398315262876693]\n",
      "\n"
     ]
    },
    {
     "data": {
      "text/html": [
       "\n",
       "<style>\n",
       "    /* Turns off some styling */\n",
       "    progress {\n",
       "        /* gets rid of default border in Firefox and Opera. */\n",
       "        border: none;\n",
       "        /* Needs to be in here for Safari polyfill so background images work as expected. */\n",
       "        background-size: auto;\n",
       "    }\n",
       "    progress:not([value]), progress:not([value])::-webkit-progress-bar {\n",
       "        background: repeating-linear-gradient(45deg, #7e7e7e, #7e7e7e 10px, #5c5c5c 10px, #5c5c5c 20px);\n",
       "    }\n",
       "    .progress-bar-interrupted, .progress-bar-interrupted::-webkit-progress-bar {\n",
       "        background: #F44336;\n",
       "    }\n",
       "</style>\n"
      ],
      "text/plain": [
       "<IPython.core.display.HTML object>"
      ]
     },
     "metadata": {},
     "output_type": "display_data"
    },
    {
     "data": {
      "text/html": [
       "\n",
       "    <div>\n",
       "      <progress value='2000' class='' max='2000' style='width:300px; height:20px; vertical-align: middle;'></progress>\n",
       "      100.00% [2000/2000 00:00&lt;?]\n",
       "    </div>\n",
       "    "
      ],
      "text/plain": [
       "<IPython.core.display.HTML object>"
      ]
     },
     "metadata": {},
     "output_type": "display_data"
    },
    {
     "name": "stdout",
     "output_type": "stream",
     "text": [
      "\n",
      "7.1619034 54.277737\n",
      "grads to low bias: 15649.9638671875\n",
      "\n",
      "Model: StandardNormal, Sampler: nuts\n",
      " Coefficients: [0.5, 1.0, 0.5]\n",
      "\n",
      "grads to low bias: 2164.14013671875\n",
      "\n",
      "Model: StandardNormal, Sampler: nuts\n",
      " Coefficients: [0.1931833275037836, 0.5, 0.6136333449924328, 0.5, 0.1931833275037836]\n",
      "\n",
      "grads to low bias: 2366.050048828125\n",
      "\n",
      "Model: StandardNormal, Sampler: nuts\n",
      " Coefficients: [0.11888010966548, 0.29619504261126, 0.38111989033452, 0.40760991477748, 0.38111989033452, 0.29619504261126, 0.11888010966548]\n",
      "\n",
      "grads to low bias: 13041.8701171875\n",
      "\n",
      "Model: StandardNormal, Sampler: nuts\n",
      " Coefficients: [0.08398315262876693, 0.2539785108410595, 0.682236533571909, -0.03230286765269967, -0.266219686200676, 0.5566487136232804, -0.266219686200676, -0.03230286765269967, 0.682236533571909, 0.2539785108410595, 0.08398315262876693]\n",
      "\n",
      "grads to low bias: inf\n",
      "\n",
      "Model: StandardNormal, Sampler: mclmc\n",
      " Coefficients: [0.5, 1.0, 0.5]\n",
      "\n"
     ]
    },
    {
     "data": {
      "text/html": [
       "\n",
       "<style>\n",
       "    /* Turns off some styling */\n",
       "    progress {\n",
       "        /* gets rid of default border in Firefox and Opera. */\n",
       "        border: none;\n",
       "        /* Needs to be in here for Safari polyfill so background images work as expected. */\n",
       "        background-size: auto;\n",
       "    }\n",
       "    progress:not([value]), progress:not([value])::-webkit-progress-bar {\n",
       "        background: repeating-linear-gradient(45deg, #7e7e7e, #7e7e7e 10px, #5c5c5c 10px, #5c5c5c 20px);\n",
       "    }\n",
       "    .progress-bar-interrupted, .progress-bar-interrupted::-webkit-progress-bar {\n",
       "        background: #F44336;\n",
       "    }\n",
       "</style>\n"
      ],
      "text/plain": [
       "<IPython.core.display.HTML object>"
      ]
     },
     "metadata": {},
     "output_type": "display_data"
    },
    {
     "data": {
      "text/html": [
       "\n",
       "    <div>\n",
       "      <progress value='2000' class='' max='2000' style='width:300px; height:20px; vertical-align: middle;'></progress>\n",
       "      100.00% [2000/2000 00:00&lt;?]\n",
       "    </div>\n",
       "    "
      ],
      "text/plain": [
       "<IPython.core.display.HTML object>"
      ]
     },
     "metadata": {},
     "output_type": "display_data"
    },
    {
     "name": "stdout",
     "output_type": "stream",
     "text": [
      "\n",
      "1.76061 3.0722103\n",
      "grads to low bias: 180.0\n",
      "\n",
      "Model: StandardNormal, Sampler: mclmc\n",
      " Coefficients: [0.1931833275037836, 0.5, 0.6136333449924328, 0.5, 0.1931833275037836]\n",
      "\n"
     ]
    },
    {
     "data": {
      "text/html": [
       "\n",
       "<style>\n",
       "    /* Turns off some styling */\n",
       "    progress {\n",
       "        /* gets rid of default border in Firefox and Opera. */\n",
       "        border: none;\n",
       "        /* Needs to be in here for Safari polyfill so background images work as expected. */\n",
       "        background-size: auto;\n",
       "    }\n",
       "    progress:not([value]), progress:not([value])::-webkit-progress-bar {\n",
       "        background: repeating-linear-gradient(45deg, #7e7e7e, #7e7e7e 10px, #5c5c5c 10px, #5c5c5c 20px);\n",
       "    }\n",
       "    .progress-bar-interrupted, .progress-bar-interrupted::-webkit-progress-bar {\n",
       "        background: #F44336;\n",
       "    }\n",
       "</style>\n"
      ],
      "text/plain": [
       "<IPython.core.display.HTML object>"
      ]
     },
     "metadata": {},
     "output_type": "display_data"
    },
    {
     "data": {
      "text/html": [
       "\n",
       "    <div>\n",
       "      <progress value='2000' class='' max='2000' style='width:300px; height:20px; vertical-align: middle;'></progress>\n",
       "      100.00% [2000/2000 00:00&lt;?]\n",
       "    </div>\n",
       "    "
      ],
      "text/plain": [
       "<IPython.core.display.HTML object>"
      ]
     },
     "metadata": {},
     "output_type": "display_data"
    },
    {
     "name": "stdout",
     "output_type": "stream",
     "text": [
      "\n",
      "3.5734413 2.6781883\n",
      "grads to low bias: 82.0\n",
      "\n",
      "Model: StandardNormal, Sampler: mclmc\n",
      " Coefficients: [0.11888010966548, 0.29619504261126, 0.38111989033452, 0.40760991477748, 0.38111989033452, 0.29619504261126, 0.11888010966548]\n",
      "\n"
     ]
    },
    {
     "data": {
      "text/html": [
       "\n",
       "<style>\n",
       "    /* Turns off some styling */\n",
       "    progress {\n",
       "        /* gets rid of default border in Firefox and Opera. */\n",
       "        border: none;\n",
       "        /* Needs to be in here for Safari polyfill so background images work as expected. */\n",
       "        background-size: auto;\n",
       "    }\n",
       "    progress:not([value]), progress:not([value])::-webkit-progress-bar {\n",
       "        background: repeating-linear-gradient(45deg, #7e7e7e, #7e7e7e 10px, #5c5c5c 10px, #5c5c5c 20px);\n",
       "    }\n",
       "    .progress-bar-interrupted, .progress-bar-interrupted::-webkit-progress-bar {\n",
       "        background: #F44336;\n",
       "    }\n",
       "</style>\n"
      ],
      "text/plain": [
       "<IPython.core.display.HTML object>"
      ]
     },
     "metadata": {},
     "output_type": "display_data"
    },
    {
     "data": {
      "text/html": [
       "\n",
       "    <div>\n",
       "      <progress value='2000' class='' max='2000' style='width:300px; height:20px; vertical-align: middle;'></progress>\n",
       "      100.00% [2000/2000 00:00&lt;?]\n",
       "    </div>\n",
       "    "
      ],
      "text/plain": [
       "<IPython.core.display.HTML object>"
      ]
     },
     "metadata": {},
     "output_type": "display_data"
    },
    {
     "name": "stdout",
     "output_type": "stream",
     "text": [
      "\n",
      "6.0280094 1.5308385\n",
      "grads to low bias: 318.0\n",
      "\n",
      "Model: StandardNormal, Sampler: mclmc\n",
      " Coefficients: [0.08398315262876693, 0.2539785108410595, 0.682236533571909, -0.03230286765269967, -0.266219686200676, 0.5566487136232804, -0.266219686200676, -0.03230286765269967, 0.682236533571909, 0.2539785108410595, 0.08398315262876693]\n",
      "\n"
     ]
    },
    {
     "data": {
      "text/html": [
       "\n",
       "<style>\n",
       "    /* Turns off some styling */\n",
       "    progress {\n",
       "        /* gets rid of default border in Firefox and Opera. */\n",
       "        border: none;\n",
       "        /* Needs to be in here for Safari polyfill so background images work as expected. */\n",
       "        background-size: auto;\n",
       "    }\n",
       "    progress:not([value]), progress:not([value])::-webkit-progress-bar {\n",
       "        background: repeating-linear-gradient(45deg, #7e7e7e, #7e7e7e 10px, #5c5c5c 10px, #5c5c5c 20px);\n",
       "    }\n",
       "    .progress-bar-interrupted, .progress-bar-interrupted::-webkit-progress-bar {\n",
       "        background: #F44336;\n",
       "    }\n",
       "</style>\n"
      ],
      "text/plain": [
       "<IPython.core.display.HTML object>"
      ]
     },
     "metadata": {},
     "output_type": "display_data"
    },
    {
     "data": {
      "text/html": [
       "\n",
       "    <div>\n",
       "      <progress value='2000' class='' max='2000' style='width:300px; height:20px; vertical-align: middle;'></progress>\n",
       "      100.00% [2000/2000 00:00&lt;?]\n",
       "    </div>\n",
       "    "
      ],
      "text/plain": [
       "<IPython.core.display.HTML object>"
      ]
     },
     "metadata": {},
     "output_type": "display_data"
    },
    {
     "name": "stdout",
     "output_type": "stream",
     "text": [
      "\n",
      "6.0498443 1.5166807\n",
      "grads to low bias: 615.0\n",
      "defaultdict(<class 'tuple'>, {(('StandardNormal', 10), 'mhmclmc', 'leapfrog'): (Array(0.01254325, dtype=float32), Array(7972.4165, dtype=float32)), (('StandardNormal', 10), 'mhmclmc', 'mclachlan'): (Array(0.01848758, dtype=float32), Array(5409.0376, dtype=float32)), (('StandardNormal', 10), 'mhmclmc', 'yoshida'): (Array(0.02376023, dtype=float32), Array(4208.7144, dtype=float32)), (('StandardNormal', 10), 'mhmclmc', 'omelyan'): (Array(0.00638979, dtype=float32), Array(15649.964, dtype=float32)), (('StandardNormal', 10), 'nuts', 'leapfrog'): (Array(0.04620773, dtype=float32), Array(2164.1401, dtype=float32)), (('StandardNormal', 10), 'nuts', 'mclachlan'): (Array(0.04226453, dtype=float32), Array(2366.05, dtype=float32)), (('StandardNormal', 10), 'nuts', 'yoshida'): (Array(0.00766761, dtype=float32), Array(13041.87, dtype=float32)), (('StandardNormal', 10), 'nuts', 'omelyan'): (Array(0., dtype=float32), Array(inf, dtype=float32)), (('StandardNormal', 10), 'mclmc', 'leapfrog'): (Array(0.5555556, dtype=float32), Array(180., dtype=float32)), (('StandardNormal', 10), 'mclmc', 'mclachlan'): (Array(1.2195122, dtype=float32), Array(82., dtype=float32)), (('StandardNormal', 10), 'mclmc', 'yoshida'): (Array(0.3144654, dtype=float32), Array(318., dtype=float32)), (('StandardNormal', 10), 'mclmc', 'omelyan'): (Array(0.16260162, dtype=float32), Array(615., dtype=float32))})\n"
     ]
    }
   ],
   "source": [
    "import pandas as pd\n",
    "import matplotlib.pyplot as plt\n",
    "\n",
    "from blackjax.benchmarks.mcmc.benchmark import run_benchmarks\n",
    "from blackjax.mcmc.integrators import name_integrator\n",
    "import seaborn as sns\n",
    "\n",
    "# results = run_benchmarks(batch_size=1)\n"
   ]
  },
  {
   "cell_type": "code",
   "execution_count": null,
   "metadata": {},
   "outputs": [],
   "source": []
  },
  {
   "cell_type": "code",
   "execution_count": 37,
   "metadata": {},
   "outputs": [
    {
     "data": {
      "text/html": [
       "<div>\n",
       "<style scoped>\n",
       "    .dataframe tbody tr th:only-of-type {\n",
       "        vertical-align: middle;\n",
       "    }\n",
       "\n",
       "    .dataframe tbody tr th {\n",
       "        vertical-align: top;\n",
       "    }\n",
       "\n",
       "    .dataframe thead th {\n",
       "        text-align: right;\n",
       "    }\n",
       "</style>\n",
       "<table border=\"1\" class=\"dataframe\">\n",
       "  <thead>\n",
       "    <tr style=\"text-align: right;\">\n",
       "      <th></th>\n",
       "      <th>model</th>\n",
       "      <th>sampler</th>\n",
       "      <th>coeffs</th>\n",
       "      <th>result</th>\n",
       "    </tr>\n",
       "  </thead>\n",
       "  <tbody>\n",
       "    <tr>\n",
       "      <th>0</th>\n",
       "      <td>10</td>\n",
       "      <td>mhmclmc</td>\n",
       "      <td>leapfrog</td>\n",
       "      <td>0.076111</td>\n",
       "    </tr>\n",
       "    <tr>\n",
       "      <th>1</th>\n",
       "      <td>10</td>\n",
       "      <td>mhmclmc</td>\n",
       "      <td>mclachlan</td>\n",
       "      <td>0.021115</td>\n",
       "    </tr>\n",
       "    <tr>\n",
       "      <th>2</th>\n",
       "      <td>10</td>\n",
       "      <td>mhmclmc</td>\n",
       "      <td>yoshida</td>\n",
       "      <td>0.023348</td>\n",
       "    </tr>\n",
       "    <tr>\n",
       "      <th>3</th>\n",
       "      <td>10</td>\n",
       "      <td>mhmclmc</td>\n",
       "      <td>omelyan</td>\n",
       "      <td>0.014553</td>\n",
       "    </tr>\n",
       "    <tr>\n",
       "      <th>4</th>\n",
       "      <td>10</td>\n",
       "      <td>nuts</td>\n",
       "      <td>leapfrog</td>\n",
       "      <td>0.066226</td>\n",
       "    </tr>\n",
       "    <tr>\n",
       "      <th>5</th>\n",
       "      <td>10</td>\n",
       "      <td>nuts</td>\n",
       "      <td>mclachlan</td>\n",
       "      <td>0.062457</td>\n",
       "    </tr>\n",
       "    <tr>\n",
       "      <th>6</th>\n",
       "      <td>10</td>\n",
       "      <td>nuts</td>\n",
       "      <td>yoshida</td>\n",
       "      <td>0.044931</td>\n",
       "    </tr>\n",
       "    <tr>\n",
       "      <th>7</th>\n",
       "      <td>10</td>\n",
       "      <td>nuts</td>\n",
       "      <td>omelyan</td>\n",
       "      <td>0.000000</td>\n",
       "    </tr>\n",
       "    <tr>\n",
       "      <th>8</th>\n",
       "      <td>10</td>\n",
       "      <td>mclmc</td>\n",
       "      <td>leapfrog</td>\n",
       "      <td>0.350877</td>\n",
       "    </tr>\n",
       "    <tr>\n",
       "      <th>9</th>\n",
       "      <td>10</td>\n",
       "      <td>mclmc</td>\n",
       "      <td>mclachlan</td>\n",
       "      <td>0.416667</td>\n",
       "    </tr>\n",
       "    <tr>\n",
       "      <th>10</th>\n",
       "      <td>10</td>\n",
       "      <td>mclmc</td>\n",
       "      <td>yoshida</td>\n",
       "      <td>0.280112</td>\n",
       "    </tr>\n",
       "    <tr>\n",
       "      <th>11</th>\n",
       "      <td>10</td>\n",
       "      <td>mclmc</td>\n",
       "      <td>omelyan</td>\n",
       "      <td>0.190476</td>\n",
       "    </tr>\n",
       "    <tr>\n",
       "      <th>12</th>\n",
       "      <td>100</td>\n",
       "      <td>mhmclmc</td>\n",
       "      <td>leapfrog</td>\n",
       "      <td>0.045865</td>\n",
       "    </tr>\n",
       "    <tr>\n",
       "      <th>13</th>\n",
       "      <td>100</td>\n",
       "      <td>mhmclmc</td>\n",
       "      <td>mclachlan</td>\n",
       "      <td>0.017675</td>\n",
       "    </tr>\n",
       "    <tr>\n",
       "      <th>14</th>\n",
       "      <td>100</td>\n",
       "      <td>mhmclmc</td>\n",
       "      <td>yoshida</td>\n",
       "      <td>0.018115</td>\n",
       "    </tr>\n",
       "    <tr>\n",
       "      <th>15</th>\n",
       "      <td>100</td>\n",
       "      <td>mhmclmc</td>\n",
       "      <td>omelyan</td>\n",
       "      <td>0.011995</td>\n",
       "    </tr>\n",
       "    <tr>\n",
       "      <th>16</th>\n",
       "      <td>100</td>\n",
       "      <td>nuts</td>\n",
       "      <td>leapfrog</td>\n",
       "      <td>0.040339</td>\n",
       "    </tr>\n",
       "    <tr>\n",
       "      <th>17</th>\n",
       "      <td>100</td>\n",
       "      <td>nuts</td>\n",
       "      <td>mclachlan</td>\n",
       "      <td>0.029332</td>\n",
       "    </tr>\n",
       "    <tr>\n",
       "      <th>18</th>\n",
       "      <td>100</td>\n",
       "      <td>nuts</td>\n",
       "      <td>yoshida</td>\n",
       "      <td>0.036792</td>\n",
       "    </tr>\n",
       "    <tr>\n",
       "      <th>19</th>\n",
       "      <td>100</td>\n",
       "      <td>nuts</td>\n",
       "      <td>omelyan</td>\n",
       "      <td>0.006480</td>\n",
       "    </tr>\n",
       "    <tr>\n",
       "      <th>20</th>\n",
       "      <td>100</td>\n",
       "      <td>mclmc</td>\n",
       "      <td>leapfrog</td>\n",
       "      <td>0.288184</td>\n",
       "    </tr>\n",
       "    <tr>\n",
       "      <th>21</th>\n",
       "      <td>100</td>\n",
       "      <td>mclmc</td>\n",
       "      <td>mclachlan</td>\n",
       "      <td>0.384615</td>\n",
       "    </tr>\n",
       "    <tr>\n",
       "      <th>22</th>\n",
       "      <td>100</td>\n",
       "      <td>mclmc</td>\n",
       "      <td>yoshida</td>\n",
       "      <td>0.149477</td>\n",
       "    </tr>\n",
       "    <tr>\n",
       "      <th>23</th>\n",
       "      <td>100</td>\n",
       "      <td>mclmc</td>\n",
       "      <td>omelyan</td>\n",
       "      <td>0.019048</td>\n",
       "    </tr>\n",
       "    <tr>\n",
       "      <th>24</th>\n",
       "      <td>1000</td>\n",
       "      <td>mhmclmc</td>\n",
       "      <td>leapfrog</td>\n",
       "      <td>0.035428</td>\n",
       "    </tr>\n",
       "    <tr>\n",
       "      <th>25</th>\n",
       "      <td>1000</td>\n",
       "      <td>mhmclmc</td>\n",
       "      <td>mclachlan</td>\n",
       "      <td>0.045759</td>\n",
       "    </tr>\n",
       "    <tr>\n",
       "      <th>26</th>\n",
       "      <td>1000</td>\n",
       "      <td>mhmclmc</td>\n",
       "      <td>yoshida</td>\n",
       "      <td>0.014381</td>\n",
       "    </tr>\n",
       "    <tr>\n",
       "      <th>27</th>\n",
       "      <td>1000</td>\n",
       "      <td>mhmclmc</td>\n",
       "      <td>omelyan</td>\n",
       "      <td>0.001343</td>\n",
       "    </tr>\n",
       "    <tr>\n",
       "      <th>28</th>\n",
       "      <td>1000</td>\n",
       "      <td>nuts</td>\n",
       "      <td>leapfrog</td>\n",
       "      <td>0.026667</td>\n",
       "    </tr>\n",
       "    <tr>\n",
       "      <th>29</th>\n",
       "      <td>1000</td>\n",
       "      <td>nuts</td>\n",
       "      <td>mclachlan</td>\n",
       "      <td>0.009043</td>\n",
       "    </tr>\n",
       "    <tr>\n",
       "      <th>30</th>\n",
       "      <td>1000</td>\n",
       "      <td>nuts</td>\n",
       "      <td>yoshida</td>\n",
       "      <td>0.040112</td>\n",
       "    </tr>\n",
       "    <tr>\n",
       "      <th>31</th>\n",
       "      <td>1000</td>\n",
       "      <td>nuts</td>\n",
       "      <td>omelyan</td>\n",
       "      <td>0.022831</td>\n",
       "    </tr>\n",
       "    <tr>\n",
       "      <th>32</th>\n",
       "      <td>1000</td>\n",
       "      <td>mclmc</td>\n",
       "      <td>leapfrog</td>\n",
       "      <td>0.291545</td>\n",
       "    </tr>\n",
       "    <tr>\n",
       "      <th>33</th>\n",
       "      <td>1000</td>\n",
       "      <td>mclmc</td>\n",
       "      <td>mclachlan</td>\n",
       "      <td>0.370370</td>\n",
       "    </tr>\n",
       "    <tr>\n",
       "      <th>34</th>\n",
       "      <td>1000</td>\n",
       "      <td>mclmc</td>\n",
       "      <td>yoshida</td>\n",
       "      <td>0.280112</td>\n",
       "    </tr>\n",
       "    <tr>\n",
       "      <th>35</th>\n",
       "      <td>1000</td>\n",
       "      <td>mclmc</td>\n",
       "      <td>omelyan</td>\n",
       "      <td>0.000000</td>\n",
       "    </tr>\n",
       "    <tr>\n",
       "      <th>36</th>\n",
       "      <td>10000</td>\n",
       "      <td>mhmclmc</td>\n",
       "      <td>leapfrog</td>\n",
       "      <td>0.047371</td>\n",
       "    </tr>\n",
       "    <tr>\n",
       "      <th>37</th>\n",
       "      <td>10000</td>\n",
       "      <td>mhmclmc</td>\n",
       "      <td>mclachlan</td>\n",
       "      <td>0.032420</td>\n",
       "    </tr>\n",
       "    <tr>\n",
       "      <th>38</th>\n",
       "      <td>10000</td>\n",
       "      <td>mhmclmc</td>\n",
       "      <td>yoshida</td>\n",
       "      <td>0.022181</td>\n",
       "    </tr>\n",
       "    <tr>\n",
       "      <th>39</th>\n",
       "      <td>10000</td>\n",
       "      <td>mhmclmc</td>\n",
       "      <td>omelyan</td>\n",
       "      <td>0.003486</td>\n",
       "    </tr>\n",
       "    <tr>\n",
       "      <th>40</th>\n",
       "      <td>10000</td>\n",
       "      <td>nuts</td>\n",
       "      <td>leapfrog</td>\n",
       "      <td>0.009775</td>\n",
       "    </tr>\n",
       "    <tr>\n",
       "      <th>41</th>\n",
       "      <td>10000</td>\n",
       "      <td>nuts</td>\n",
       "      <td>mclachlan</td>\n",
       "      <td>0.025419</td>\n",
       "    </tr>\n",
       "    <tr>\n",
       "      <th>42</th>\n",
       "      <td>10000</td>\n",
       "      <td>nuts</td>\n",
       "      <td>yoshida</td>\n",
       "      <td>0.033069</td>\n",
       "    </tr>\n",
       "    <tr>\n",
       "      <th>43</th>\n",
       "      <td>10000</td>\n",
       "      <td>nuts</td>\n",
       "      <td>omelyan</td>\n",
       "      <td>0.021164</td>\n",
       "    </tr>\n",
       "    <tr>\n",
       "      <th>44</th>\n",
       "      <td>10000</td>\n",
       "      <td>mclmc</td>\n",
       "      <td>leapfrog</td>\n",
       "      <td>0.291545</td>\n",
       "    </tr>\n",
       "    <tr>\n",
       "      <th>45</th>\n",
       "      <td>10000</td>\n",
       "      <td>mclmc</td>\n",
       "      <td>mclachlan</td>\n",
       "      <td>0.409836</td>\n",
       "    </tr>\n",
       "    <tr>\n",
       "      <th>46</th>\n",
       "      <td>10000</td>\n",
       "      <td>mclmc</td>\n",
       "      <td>yoshida</td>\n",
       "      <td>0.159490</td>\n",
       "    </tr>\n",
       "    <tr>\n",
       "      <th>47</th>\n",
       "      <td>10000</td>\n",
       "      <td>mclmc</td>\n",
       "      <td>omelyan</td>\n",
       "      <td>0.117647</td>\n",
       "    </tr>\n",
       "    <tr>\n",
       "      <th>48</th>\n",
       "      <td>100000</td>\n",
       "      <td>mhmclmc</td>\n",
       "      <td>leapfrog</td>\n",
       "      <td>0.032371</td>\n",
       "    </tr>\n",
       "    <tr>\n",
       "      <th>49</th>\n",
       "      <td>100000</td>\n",
       "      <td>mhmclmc</td>\n",
       "      <td>mclachlan</td>\n",
       "      <td>0.018343</td>\n",
       "    </tr>\n",
       "    <tr>\n",
       "      <th>50</th>\n",
       "      <td>100000</td>\n",
       "      <td>mhmclmc</td>\n",
       "      <td>yoshida</td>\n",
       "      <td>0.019933</td>\n",
       "    </tr>\n",
       "    <tr>\n",
       "      <th>51</th>\n",
       "      <td>100000</td>\n",
       "      <td>mhmclmc</td>\n",
       "      <td>omelyan</td>\n",
       "      <td>0.012208</td>\n",
       "    </tr>\n",
       "    <tr>\n",
       "      <th>52</th>\n",
       "      <td>100000</td>\n",
       "      <td>nuts</td>\n",
       "      <td>leapfrog</td>\n",
       "      <td>0.005629</td>\n",
       "    </tr>\n",
       "    <tr>\n",
       "      <th>53</th>\n",
       "      <td>100000</td>\n",
       "      <td>nuts</td>\n",
       "      <td>mclachlan</td>\n",
       "      <td>0.023496</td>\n",
       "    </tr>\n",
       "    <tr>\n",
       "      <th>54</th>\n",
       "      <td>100000</td>\n",
       "      <td>nuts</td>\n",
       "      <td>yoshida</td>\n",
       "      <td>0.007770</td>\n",
       "    </tr>\n",
       "    <tr>\n",
       "      <th>55</th>\n",
       "      <td>100000</td>\n",
       "      <td>nuts</td>\n",
       "      <td>omelyan</td>\n",
       "      <td>0.009852</td>\n",
       "    </tr>\n",
       "    <tr>\n",
       "      <th>56</th>\n",
       "      <td>100000</td>\n",
       "      <td>mclmc</td>\n",
       "      <td>leapfrog</td>\n",
       "      <td>0.252525</td>\n",
       "    </tr>\n",
       "    <tr>\n",
       "      <th>57</th>\n",
       "      <td>100000</td>\n",
       "      <td>mclmc</td>\n",
       "      <td>mclachlan</td>\n",
       "      <td>0.403226</td>\n",
       "    </tr>\n",
       "    <tr>\n",
       "      <th>58</th>\n",
       "      <td>100000</td>\n",
       "      <td>mclmc</td>\n",
       "      <td>yoshida</td>\n",
       "      <td>0.238095</td>\n",
       "    </tr>\n",
       "    <tr>\n",
       "      <th>59</th>\n",
       "      <td>100000</td>\n",
       "      <td>mclmc</td>\n",
       "      <td>omelyan</td>\n",
       "      <td>0.100000</td>\n",
       "    </tr>\n",
       "  </tbody>\n",
       "</table>\n",
       "</div>"
      ],
      "text/plain": [
       "     model  sampler     coeffs    result\n",
       "0       10  mhmclmc   leapfrog  0.076111\n",
       "1       10  mhmclmc  mclachlan  0.021115\n",
       "2       10  mhmclmc    yoshida  0.023348\n",
       "3       10  mhmclmc    omelyan  0.014553\n",
       "4       10     nuts   leapfrog  0.066226\n",
       "5       10     nuts  mclachlan  0.062457\n",
       "6       10     nuts    yoshida  0.044931\n",
       "7       10     nuts    omelyan  0.000000\n",
       "8       10    mclmc   leapfrog  0.350877\n",
       "9       10    mclmc  mclachlan  0.416667\n",
       "10      10    mclmc    yoshida  0.280112\n",
       "11      10    mclmc    omelyan  0.190476\n",
       "12     100  mhmclmc   leapfrog  0.045865\n",
       "13     100  mhmclmc  mclachlan  0.017675\n",
       "14     100  mhmclmc    yoshida  0.018115\n",
       "15     100  mhmclmc    omelyan  0.011995\n",
       "16     100     nuts   leapfrog  0.040339\n",
       "17     100     nuts  mclachlan  0.029332\n",
       "18     100     nuts    yoshida  0.036792\n",
       "19     100     nuts    omelyan  0.006480\n",
       "20     100    mclmc   leapfrog  0.288184\n",
       "21     100    mclmc  mclachlan  0.384615\n",
       "22     100    mclmc    yoshida  0.149477\n",
       "23     100    mclmc    omelyan  0.019048\n",
       "24    1000  mhmclmc   leapfrog  0.035428\n",
       "25    1000  mhmclmc  mclachlan  0.045759\n",
       "26    1000  mhmclmc    yoshida  0.014381\n",
       "27    1000  mhmclmc    omelyan  0.001343\n",
       "28    1000     nuts   leapfrog  0.026667\n",
       "29    1000     nuts  mclachlan  0.009043\n",
       "30    1000     nuts    yoshida  0.040112\n",
       "31    1000     nuts    omelyan  0.022831\n",
       "32    1000    mclmc   leapfrog  0.291545\n",
       "33    1000    mclmc  mclachlan  0.370370\n",
       "34    1000    mclmc    yoshida  0.280112\n",
       "35    1000    mclmc    omelyan  0.000000\n",
       "36   10000  mhmclmc   leapfrog  0.047371\n",
       "37   10000  mhmclmc  mclachlan  0.032420\n",
       "38   10000  mhmclmc    yoshida  0.022181\n",
       "39   10000  mhmclmc    omelyan  0.003486\n",
       "40   10000     nuts   leapfrog  0.009775\n",
       "41   10000     nuts  mclachlan  0.025419\n",
       "42   10000     nuts    yoshida  0.033069\n",
       "43   10000     nuts    omelyan  0.021164\n",
       "44   10000    mclmc   leapfrog  0.291545\n",
       "45   10000    mclmc  mclachlan  0.409836\n",
       "46   10000    mclmc    yoshida  0.159490\n",
       "47   10000    mclmc    omelyan  0.117647\n",
       "48  100000  mhmclmc   leapfrog  0.032371\n",
       "49  100000  mhmclmc  mclachlan  0.018343\n",
       "50  100000  mhmclmc    yoshida  0.019933\n",
       "51  100000  mhmclmc    omelyan  0.012208\n",
       "52  100000     nuts   leapfrog  0.005629\n",
       "53  100000     nuts  mclachlan  0.023496\n",
       "54  100000     nuts    yoshida  0.007770\n",
       "55  100000     nuts    omelyan  0.009852\n",
       "56  100000    mclmc   leapfrog  0.252525\n",
       "57  100000    mclmc  mclachlan  0.403226\n",
       "58  100000    mclmc    yoshida  0.238095\n",
       "59  100000    mclmc    omelyan  0.100000"
      ]
     },
     "execution_count": 37,
     "metadata": {},
     "output_type": "execute_result"
    }
   ],
   "source": [
    "new_results = pd.read_csv(\"../../../results.csv\")\n",
    "new_results\n",
    "new_results.result = new_results.result.apply(lambda x: 100/x)\n",
    "# new_results = new_results.drop(new_results[new_results['coeffs'] == 'omelyan'].index)\n",
    "new_results"
   ]
  },
  {
   "cell_type": "code",
   "execution_count": 38,
   "metadata": {},
   "outputs": [
    {
     "data": {
      "image/png": "[encoded data removed]",
      "text/plain": [
       "<Figure size 640x480 with 1 Axes>"
      ]
     },
     "metadata": {},
     "output_type": "display_data"
    }
   ],
   "source": [
    "\n",
    "sns.lineplot(data=new_results, x='model', y=\"result\", hue=\"sampler\", style=\"coeffs\")\n",
    "plt.xscale('log')\n",
    "plt.yscale('log')"
   ]
  },
  {
   "cell_type": "code",
   "execution_count": 51,
   "metadata": {},
   "outputs": [
    {
     "data": {
      "text/plain": [
       "[3.0, 3.0, 3.0, 3.0, 1.0, 1.0, 1.0, 1.0, 2.0, 2.0, 2.0, 2.0]"
      ]
     },
     "execution_count": 51,
     "metadata": {},
     "output_type": "execute_result"
    }
   ],
   "source": [
    "list(df[\"sampler\"].map({'nuts': 1., 'mclmc': 2., 'mhmclmc': 3.}))"
   ]
  },
  {
   "cell_type": "code",
   "execution_count": null,
   "metadata": {},
   "outputs": [],
   "source": []
  }
 ],
 "metadata": {
  "kernelspec": {
   "display_name": "mclmc",
   "language": "python",
   "name": "python3"
  },
  "language_info": {
   "codemirror_mode": {
    "name": "ipython",
    "version": 3
   },
   "file_extension": ".py",
   "mimetype": "text/x-python",
   "name": "python",
   "nbconvert_exporter": "python",
   "pygments_lexer": "ipython3",
   "version": "3.11.5"
  }
 },
 "nbformat": 4,
 "nbformat_minor": 2
}
