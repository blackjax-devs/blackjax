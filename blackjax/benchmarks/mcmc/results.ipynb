{
 "cells": [
  {
   "cell_type": "code",
   "execution_count": 1,
   "metadata": {},
   "outputs": [
    {
     "name": "stdout",
     "output_type": "stream",
     "text": [
      "\n",
      "Model: Brownian Motion, Sampler: mhmclmc\n",
      " Coefficients: [0.5, 1.0, 0.5]\n",
      "\n"
     ]
    },
    {
     "data": {
      "text/html": [
       "\n",
       "<style>\n",
       "    /* Turns off some styling */\n",
       "    progress {\n",
       "        /* gets rid of default border in Firefox and Opera. */\n",
       "        border: none;\n",
       "        /* Needs to be in here for Safari polyfill so background images work as expected. */\n",
       "        background-size: auto;\n",
       "    }\n",
       "    progress:not([value]), progress:not([value])::-webkit-progress-bar {\n",
       "        background: repeating-linear-gradient(45deg, #7e7e7e, #7e7e7e 10px, #5c5c5c 10px, #5c5c5c 20px);\n",
       "    }\n",
       "    .progress-bar-interrupted, .progress-bar-interrupted::-webkit-progress-bar {\n",
       "        background: #F44336;\n",
       "    }\n",
       "</style>\n"
      ],
      "text/plain": [
       "<IPython.core.display.HTML object>"
      ]
     },
     "metadata": {},
     "output_type": "display_data"
    },
    {
     "data": {
      "text/html": [
       "\n",
       "    <div>\n",
       "      <progress value='10000' class='' max='10000' style='width:300px; height:20px; vertical-align: middle;'></progress>\n",
       "      100.00% [10000/10000 00:00&lt;?]\n",
       "    </div>\n",
       "    "
      ],
      "text/plain": [
       "<IPython.core.display.HTML object>"
      ]
     },
     "metadata": {},
     "output_type": "display_data"
    },
    {
     "name": "stdout",
     "output_type": "stream",
     "text": [
      "\n",
      "0.32867625 1.6629403\n",
      "grads to low bias: 2166.555908203125\n",
      "\n",
      "Model: Brownian Motion, Sampler: mhmclmc\n",
      " Coefficients: [0.1931833275037836, 0.5, 0.6136333449924328, 0.5, 0.1931833275037836]\n",
      "\n"
     ]
    },
    {
     "data": {
      "text/html": [
       "\n",
       "<style>\n",
       "    /* Turns off some styling */\n",
       "    progress {\n",
       "        /* gets rid of default border in Firefox and Opera. */\n",
       "        border: none;\n",
       "        /* Needs to be in here for Safari polyfill so background images work as expected. */\n",
       "        background-size: auto;\n",
       "    }\n",
       "    progress:not([value]), progress:not([value])::-webkit-progress-bar {\n",
       "        background: repeating-linear-gradient(45deg, #7e7e7e, #7e7e7e 10px, #5c5c5c 10px, #5c5c5c 20px);\n",
       "    }\n",
       "    .progress-bar-interrupted, .progress-bar-interrupted::-webkit-progress-bar {\n",
       "        background: #F44336;\n",
       "    }\n",
       "</style>\n"
      ],
      "text/plain": [
       "<IPython.core.display.HTML object>"
      ]
     },
     "metadata": {},
     "output_type": "display_data"
    },
    {
     "data": {
      "text/html": [
       "\n",
       "    <div>\n",
       "      <progress value='10000' class='' max='10000' style='width:300px; height:20px; vertical-align: middle;'></progress>\n",
       "      100.00% [10000/10000 00:00&lt;?]\n",
       "    </div>\n",
       "    "
      ],
      "text/plain": [
       "<IPython.core.display.HTML object>"
      ]
     },
     "metadata": {},
     "output_type": "display_data"
    },
    {
     "name": "stdout",
     "output_type": "stream",
     "text": [
      "\n",
      "0.51324743 2.2135973\n",
      "grads to low bias: 2876.303466796875\n",
      "\n",
      "Model: Brownian Motion, Sampler: mhmclmc\n",
      " Coefficients: [0.11888010966548, 0.29619504261126, 0.38111989033452, 0.40760991477748, 0.38111989033452, 0.29619504261126, 0.11888010966548]\n",
      "\n"
     ]
    },
    {
     "data": {
      "text/html": [
       "\n",
       "<style>\n",
       "    /* Turns off some styling */\n",
       "    progress {\n",
       "        /* gets rid of default border in Firefox and Opera. */\n",
       "        border: none;\n",
       "        /* Needs to be in here for Safari polyfill so background images work as expected. */\n",
       "        background-size: auto;\n",
       "    }\n",
       "    progress:not([value]), progress:not([value])::-webkit-progress-bar {\n",
       "        background: repeating-linear-gradient(45deg, #7e7e7e, #7e7e7e 10px, #5c5c5c 10px, #5c5c5c 20px);\n",
       "    }\n",
       "    .progress-bar-interrupted, .progress-bar-interrupted::-webkit-progress-bar {\n",
       "        background: #F44336;\n",
       "    }\n",
       "</style>\n"
      ],
      "text/plain": [
       "<IPython.core.display.HTML object>"
      ]
     },
     "metadata": {},
     "output_type": "display_data"
    },
    {
     "data": {
      "text/html": [
       "\n",
       "    <div>\n",
       "      <progress value='10000' class='' max='10000' style='width:300px; height:20px; vertical-align: middle;'></progress>\n",
       "      100.00% [10000/10000 00:00&lt;?]\n",
       "    </div>\n",
       "    "
      ],
      "text/plain": [
       "<IPython.core.display.HTML object>"
      ]
     },
     "metadata": {},
     "output_type": "display_data"
    },
    {
     "name": "stdout",
     "output_type": "stream",
     "text": [
      "\n",
      "0.682614 2.9260182\n",
      "grads to low bias: 8590.1533203125\n",
      "\n",
      "Model: Brownian Motion, Sampler: mhmclmc\n",
      " Coefficients: [0.08398315262876693, 0.2539785108410595, 0.682236533571909, -0.03230286765269967, -0.266219686200676, 0.5566487136232804, -0.266219686200676, -0.03230286765269967, 0.682236533571909, 0.2539785108410595, 0.08398315262876693]\n",
      "\n"
     ]
    },
    {
     "data": {
      "text/html": [
       "\n",
       "<style>\n",
       "    /* Turns off some styling */\n",
       "    progress {\n",
       "        /* gets rid of default border in Firefox and Opera. */\n",
       "        border: none;\n",
       "        /* Needs to be in here for Safari polyfill so background images work as expected. */\n",
       "        background-size: auto;\n",
       "    }\n",
       "    progress:not([value]), progress:not([value])::-webkit-progress-bar {\n",
       "        background: repeating-linear-gradient(45deg, #7e7e7e, #7e7e7e 10px, #5c5c5c 10px, #5c5c5c 20px);\n",
       "    }\n",
       "    .progress-bar-interrupted, .progress-bar-interrupted::-webkit-progress-bar {\n",
       "        background: #F44336;\n",
       "    }\n",
       "</style>\n"
      ],
      "text/plain": [
       "<IPython.core.display.HTML object>"
      ]
     },
     "metadata": {},
     "output_type": "display_data"
    },
    {
     "data": {
      "text/html": [
       "\n",
       "    <div>\n",
       "      <progress value='10000' class='' max='10000' style='width:300px; height:20px; vertical-align: middle;'></progress>\n",
       "      100.00% [10000/10000 00:00&lt;?]\n",
       "    </div>\n",
       "    "
      ],
      "text/plain": [
       "<IPython.core.display.HTML object>"
      ]
     },
     "metadata": {},
     "output_type": "display_data"
    },
    {
     "name": "stdout",
     "output_type": "stream",
     "text": [
      "\n",
      "0.60775864 3.3118577\n",
      "grads to low bias: 5478.37353515625\n",
      "\n",
      "Model: Brownian Motion, Sampler: nuts\n",
      " Coefficients: [0.5, 1.0, 0.5]\n",
      "\n",
      "grads to low bias: 21894.181640625\n",
      "\n",
      "Model: Brownian Motion, Sampler: nuts\n",
      " Coefficients: [0.1931833275037836, 0.5, 0.6136333449924328, 0.5, 0.1931833275037836]\n",
      "\n",
      "grads to low bias: 14024.439453125\n",
      "\n",
      "Model: Brownian Motion, Sampler: nuts\n",
      " Coefficients: [0.11888010966548, 0.29619504261126, 0.38111989033452, 0.40760991477748, 0.38111989033452, 0.29619504261126, 0.11888010966548]\n",
      "\n",
      "grads to low bias: 19664.5859375\n",
      "\n",
      "Model: Brownian Motion, Sampler: nuts\n",
      " Coefficients: [0.08398315262876693, 0.2539785108410595, 0.682236533571909, -0.03230286765269967, -0.266219686200676, 0.5566487136232804, -0.266219686200676, -0.03230286765269967, 0.682236533571909, 0.2539785108410595, 0.08398315262876693]\n",
      "\n",
      "grads to low bias: 3146.806396484375\n",
      "\n",
      "Model: Brownian Motion, Sampler: mclmc\n",
      " Coefficients: [0.5, 1.0, 0.5]\n",
      "\n"
     ]
    },
    {
     "data": {
      "text/html": [
       "\n",
       "<style>\n",
       "    /* Turns off some styling */\n",
       "    progress {\n",
       "        /* gets rid of default border in Firefox and Opera. */\n",
       "        border: none;\n",
       "        /* Needs to be in here for Safari polyfill so background images work as expected. */\n",
       "        background-size: auto;\n",
       "    }\n",
       "    progress:not([value]), progress:not([value])::-webkit-progress-bar {\n",
       "        background: repeating-linear-gradient(45deg, #7e7e7e, #7e7e7e 10px, #5c5c5c 10px, #5c5c5c 20px);\n",
       "    }\n",
       "    .progress-bar-interrupted, .progress-bar-interrupted::-webkit-progress-bar {\n",
       "        background: #F44336;\n",
       "    }\n",
       "</style>\n"
      ],
      "text/plain": [
       "<IPython.core.display.HTML object>"
      ]
     },
     "metadata": {},
     "output_type": "display_data"
    },
    {
     "data": {
      "text/html": [
       "\n",
       "    <div>\n",
       "      <progress value='10000' class='' max='10000' style='width:300px; height:20px; vertical-align: middle;'></progress>\n",
       "      100.00% [10000/10000 00:00&lt;?]\n",
       "    </div>\n",
       "    "
      ],
      "text/plain": [
       "<IPython.core.display.HTML object>"
      ]
     },
     "metadata": {},
     "output_type": "display_data"
    },
    {
     "name": "stdout",
     "output_type": "stream",
     "text": [
      "\n",
      "0.82747453 10.504469\n",
      "grads to low bias: 3047.0\n",
      "\n",
      "Model: Brownian Motion, Sampler: mclmc\n",
      " Coefficients: [0.1931833275037836, 0.5, 0.6136333449924328, 0.5, 0.1931833275037836]\n",
      "\n"
     ]
    },
    {
     "data": {
      "text/html": [
       "\n",
       "<style>\n",
       "    /* Turns off some styling */\n",
       "    progress {\n",
       "        /* gets rid of default border in Firefox and Opera. */\n",
       "        border: none;\n",
       "        /* Needs to be in here for Safari polyfill so background images work as expected. */\n",
       "        background-size: auto;\n",
       "    }\n",
       "    progress:not([value]), progress:not([value])::-webkit-progress-bar {\n",
       "        background: repeating-linear-gradient(45deg, #7e7e7e, #7e7e7e 10px, #5c5c5c 10px, #5c5c5c 20px);\n",
       "    }\n",
       "    .progress-bar-interrupted, .progress-bar-interrupted::-webkit-progress-bar {\n",
       "        background: #F44336;\n",
       "    }\n",
       "</style>\n"
      ],
      "text/plain": [
       "<IPython.core.display.HTML object>"
      ]
     },
     "metadata": {},
     "output_type": "display_data"
    },
    {
     "data": {
      "text/html": [
       "\n",
       "    <div>\n",
       "      <progress value='10000' class='' max='10000' style='width:300px; height:20px; vertical-align: middle;'></progress>\n",
       "      100.00% [10000/10000 00:00&lt;?]\n",
       "    </div>\n",
       "    "
      ],
      "text/plain": [
       "<IPython.core.display.HTML object>"
      ]
     },
     "metadata": {},
     "output_type": "display_data"
    },
    {
     "name": "stdout",
     "output_type": "stream",
     "text": [
      "\n",
      "1.385785 25.439068\n",
      "grads to low bias: 2882.0\n",
      "\n",
      "Model: Brownian Motion, Sampler: mclmc\n",
      " Coefficients: [0.11888010966548, 0.29619504261126, 0.38111989033452, 0.40760991477748, 0.38111989033452, 0.29619504261126, 0.11888010966548]\n",
      "\n"
     ]
    },
    {
     "data": {
      "text/html": [
       "\n",
       "<style>\n",
       "    /* Turns off some styling */\n",
       "    progress {\n",
       "        /* gets rid of default border in Firefox and Opera. */\n",
       "        border: none;\n",
       "        /* Needs to be in here for Safari polyfill so background images work as expected. */\n",
       "        background-size: auto;\n",
       "    }\n",
       "    progress:not([value]), progress:not([value])::-webkit-progress-bar {\n",
       "        background: repeating-linear-gradient(45deg, #7e7e7e, #7e7e7e 10px, #5c5c5c 10px, #5c5c5c 20px);\n",
       "    }\n",
       "    .progress-bar-interrupted, .progress-bar-interrupted::-webkit-progress-bar {\n",
       "        background: #F44336;\n",
       "    }\n",
       "</style>\n"
      ],
      "text/plain": [
       "<IPython.core.display.HTML object>"
      ]
     },
     "metadata": {},
     "output_type": "display_data"
    },
    {
     "data": {
      "text/html": [
       "\n",
       "    <div>\n",
       "      <progress value='10000' class='' max='10000' style='width:300px; height:20px; vertical-align: middle;'></progress>\n",
       "      100.00% [10000/10000 00:00&lt;?]\n",
       "    </div>\n",
       "    "
      ],
      "text/plain": [
       "<IPython.core.display.HTML object>"
      ]
     },
     "metadata": {},
     "output_type": "display_data"
    },
    {
     "name": "stdout",
     "output_type": "stream",
     "text": [
      "\n",
      "2.6559708 13.331961\n",
      "grads to low bias: 855.0\n",
      "\n",
      "Model: Brownian Motion, Sampler: mclmc\n",
      " Coefficients: [0.08398315262876693, 0.2539785108410595, 0.682236533571909, -0.03230286765269967, -0.266219686200676, 0.5566487136232804, -0.266219686200676, -0.03230286765269967, 0.682236533571909, 0.2539785108410595, 0.08398315262876693]\n",
      "\n"
     ]
    },
    {
     "data": {
      "text/html": [
       "\n",
       "<style>\n",
       "    /* Turns off some styling */\n",
       "    progress {\n",
       "        /* gets rid of default border in Firefox and Opera. */\n",
       "        border: none;\n",
       "        /* Needs to be in here for Safari polyfill so background images work as expected. */\n",
       "        background-size: auto;\n",
       "    }\n",
       "    progress:not([value]), progress:not([value])::-webkit-progress-bar {\n",
       "        background: repeating-linear-gradient(45deg, #7e7e7e, #7e7e7e 10px, #5c5c5c 10px, #5c5c5c 20px);\n",
       "    }\n",
       "    .progress-bar-interrupted, .progress-bar-interrupted::-webkit-progress-bar {\n",
       "        background: #F44336;\n",
       "    }\n",
       "</style>\n"
      ],
      "text/plain": [
       "<IPython.core.display.HTML object>"
      ]
     },
     "metadata": {},
     "output_type": "display_data"
    },
    {
     "data": {
      "text/html": [
       "\n",
       "    <div>\n",
       "      <progress value='10000' class='' max='10000' style='width:300px; height:20px; vertical-align: middle;'></progress>\n",
       "      100.00% [10000/10000 00:00&lt;?]\n",
       "    </div>\n",
       "    "
      ],
      "text/plain": [
       "<IPython.core.display.HTML object>"
      ]
     },
     "metadata": {},
     "output_type": "display_data"
    },
    {
     "name": "stdout",
     "output_type": "stream",
     "text": [
      "\n",
      "1.8923331 9.946735\n",
      "grads to low bias: inf\n",
      "defaultdict(<class 'tuple'>, {('Brownian Motion', 'mhmclmc', (0.5, 1.0, 0.5)): (Array(0.04615621, dtype=float32), Array(2166.556, dtype=float32)), ('Brownian Motion', 'mhmclmc', (0.1931833275037836, 0.5, 0.6136333449924328, 0.5, 0.1931833275037836)): (Array(0.03476685, dtype=float32), Array(2876.3035, dtype=float32)), ('Brownian Motion', 'mhmclmc', (0.11888010966548, 0.29619504261126, 0.38111989033452, 0.40760991477748, 0.38111989033452, 0.29619504261126, 0.11888010966548)): (Array(0.01164124, dtype=float32), Array(8590.153, dtype=float32)), ('Brownian Motion', 'mhmclmc', (0.08398315262876693, 0.2539785108410595, 0.682236533571909, -0.03230286765269967, -0.266219686200676, 0.5566487136232804, -0.266219686200676, -0.03230286765269967, 0.682236533571909, 0.2539785108410595, 0.08398315262876693)): (Array(0.01825359, dtype=float32), Array(5478.3735, dtype=float32)), ('Brownian Motion', 'nuts', (0.5, 1.0, 0.5)): (Array(0.00456742, dtype=float32), Array(21894.182, dtype=float32)), ('Brownian Motion', 'nuts', (0.1931833275037836, 0.5, 0.6136333449924328, 0.5, 0.1931833275037836)): (Array(0.00713041, dtype=float32), Array(14024.439, dtype=float32)), ('Brownian Motion', 'nuts', (0.11888010966548, 0.29619504261126, 0.38111989033452, 0.40760991477748, 0.38111989033452, 0.29619504261126, 0.11888010966548)): (Array(0.00508528, dtype=float32), Array(19664.586, dtype=float32)), ('Brownian Motion', 'nuts', (0.08398315262876693, 0.2539785108410595, 0.682236533571909, -0.03230286765269967, -0.266219686200676, 0.5566487136232804, -0.266219686200676, -0.03230286765269967, 0.682236533571909, 0.2539785108410595, 0.08398315262876693)): (Array(0.03177825, dtype=float32), Array(3146.8064, dtype=float32)), ('Brownian Motion', 'mclmc', (0.5, 1.0, 0.5)): (Array(0.03281917, dtype=float32), Array(3047., dtype=float32)), ('Brownian Motion', 'mclmc', (0.1931833275037836, 0.5, 0.6136333449924328, 0.5, 0.1931833275037836)): (Array(0.03469812, dtype=float32), Array(2882., dtype=float32)), ('Brownian Motion', 'mclmc', (0.11888010966548, 0.29619504261126, 0.38111989033452, 0.40760991477748, 0.38111989033452, 0.29619504261126, 0.11888010966548)): (Array(0.11695907, dtype=float32), Array(855., dtype=float32)), ('Brownian Motion', 'mclmc', (0.08398315262876693, 0.2539785108410595, 0.682236533571909, -0.03230286765269967, -0.266219686200676, 0.5566487136232804, -0.266219686200676, -0.03230286765269967, 0.682236533571909, 0.2539785108410595, 0.08398315262876693)): (Array(0., dtype=float32), Array(inf, dtype=float32))})\n"
     ]
    }
   ],
   "source": [
    "import pandas as pd\n",
    "import matplotlib.pyplot as plt\n",
    "\n",
    "from blackjax.benchmarks.mcmc.benchmark import run_benchmarks\n",
    "\n",
    "# # Load the CSV file\n",
    "# df = pd.read_csv(\"../../../results.csv\")\n",
    "# print(df)\n",
    "# # Name the columns\n",
    "# df.columns = [\"Column1\", \"Column2\", \"Column3\"]\n",
    "\n",
    "# # Plot the data\n",
    "# df.plot()\n",
    "# plt.show()\n",
    "results = run_benchmarks()\n"
   ]
  },
  {
   "cell_type": "code",
   "execution_count": 9,
   "metadata": {},
   "outputs": [
    {
     "data": {
      "text/plain": [
       "Brownian Motion  mhmclmc  (0.5, 1.0, 0.5)                                                                                                                                                                                                                       (0.046156205, 2166.556)\n",
       "                          (0.1931833275037836, 0.5, 0.6136333449924328, 0.5, 0.1931833275037836)                                                                                                                                                               (0.034766845, 2876.3035)\n",
       "                          (0.11888010966548, 0.29619504261126, 0.38111989033452, 0.40760991477748, 0.38111989033452, 0.29619504261126, 0.11888010966548)                                                                                                        (0.011641236, 8590.153)\n",
       "                          (0.08398315262876693, 0.2539785108410595, 0.682236533571909, -0.03230286765269967, -0.266219686200676, 0.5566487136232804, -0.266219686200676, -0.03230286765269967, 0.682236533571909, 0.2539785108410595, 0.08398315262876693)     (0.018253593, 5478.3735)\n",
       "                 nuts     (0.5, 1.0, 0.5)                                                                                                                                                                                                                     (0.0045674234, 21894.182)\n",
       "                          (0.1931833275037836, 0.5, 0.6136333449924328, 0.5, 0.1931833275037836)                                                                                                                                                              (0.0071304096, 14024.439)\n",
       "                          (0.11888010966548, 0.29619504261126, 0.38111989033452, 0.40760991477748, 0.38111989033452, 0.29619504261126, 0.11888010966548)                                                                                                       (0.005085284, 19664.586)\n",
       "                          (0.08398315262876693, 0.2539785108410595, 0.682236533571909, -0.03230286765269967, -0.266219686200676, 0.5566487136232804, -0.266219686200676, -0.03230286765269967, 0.682236533571909, 0.2539785108410595, 0.08398315262876693)      (0.03177825, 3146.8064)\n",
       "                 mclmc    (0.5, 1.0, 0.5)                                                                                                                                                                                                                         (0.032819167, 3047.0)\n",
       "                          (0.1931833275037836, 0.5, 0.6136333449924328, 0.5, 0.1931833275037836)                                                                                                                                                                  (0.034698125, 2882.0)\n",
       "                          (0.11888010966548, 0.29619504261126, 0.38111989033452, 0.40760991477748, 0.38111989033452, 0.29619504261126, 0.11888010966548)                                                                                                           (0.116959065, 855.0)\n",
       "                          (0.08398315262876693, 0.2539785108410595, 0.682236533571909, -0.03230286765269967, -0.266219686200676, 0.5566487136232804, -0.266219686200676, -0.03230286765269967, 0.682236533571909, 0.2539785108410595, 0.08398315262876693)                   (0.0, inf)\n",
       "dtype: object"
      ]
     },
     "execution_count": 9,
     "metadata": {},
     "output_type": "execute_result"
    }
   ],
   "source": [
    "df = pd.Series(results)\n",
    "# # columns \n",
    "# df.columns = [\"Column1\", \"Column2\", \"Column3\"]\n",
    "\n",
    "# df"
   ]
  },
  {
   "cell_type": "code",
   "execution_count": 12,
   "metadata": {},
   "outputs": [
    {
     "data": {
      "text/plain": [
       "defaultdict(tuple,\n",
       "            {('Brownian Motion',\n",
       "              'mhmclmc',\n",
       "              (0.5,\n",
       "               1.0,\n",
       "               0.5)): (Array(0.04615621, dtype=float32), Array(2166.556, dtype=float32)),\n",
       "             ('Brownian Motion',\n",
       "              'mhmclmc',\n",
       "              (0.1931833275037836,\n",
       "               0.5,\n",
       "               0.6136333449924328,\n",
       "               0.5,\n",
       "               0.1931833275037836)): (Array(0.03476685, dtype=float32),\n",
       "              Array(2876.3035, dtype=float32)),\n",
       "             ('Brownian Motion',\n",
       "              'mhmclmc',\n",
       "              (0.11888010966548,\n",
       "               0.29619504261126,\n",
       "               0.38111989033452,\n",
       "               0.40760991477748,\n",
       "               0.38111989033452,\n",
       "               0.29619504261126,\n",
       "               0.11888010966548)): (Array(0.01164124, dtype=float32),\n",
       "              Array(8590.153, dtype=float32)),\n",
       "             ('Brownian Motion',\n",
       "              'mhmclmc',\n",
       "              (0.08398315262876693,\n",
       "               0.2539785108410595,\n",
       "               0.682236533571909,\n",
       "               -0.03230286765269967,\n",
       "               -0.266219686200676,\n",
       "               0.5566487136232804,\n",
       "               -0.266219686200676,\n",
       "               -0.03230286765269967,\n",
       "               0.682236533571909,\n",
       "               0.2539785108410595,\n",
       "               0.08398315262876693)): (Array(0.01825359, dtype=float32),\n",
       "              Array(5478.3735, dtype=float32)),\n",
       "             ('Brownian Motion',\n",
       "              'nuts',\n",
       "              (0.5,\n",
       "               1.0,\n",
       "               0.5)): (Array(0.00456742, dtype=float32), Array(21894.182, dtype=float32)),\n",
       "             ('Brownian Motion',\n",
       "              'nuts',\n",
       "              (0.1931833275037836,\n",
       "               0.5,\n",
       "               0.6136333449924328,\n",
       "               0.5,\n",
       "               0.1931833275037836)): (Array(0.00713041, dtype=float32),\n",
       "              Array(14024.439, dtype=float32)),\n",
       "             ('Brownian Motion',\n",
       "              'nuts',\n",
       "              (0.11888010966548,\n",
       "               0.29619504261126,\n",
       "               0.38111989033452,\n",
       "               0.40760991477748,\n",
       "               0.38111989033452,\n",
       "               0.29619504261126,\n",
       "               0.11888010966548)): (Array(0.00508528, dtype=float32),\n",
       "              Array(19664.586, dtype=float32)),\n",
       "             ('Brownian Motion',\n",
       "              'nuts',\n",
       "              (0.08398315262876693,\n",
       "               0.2539785108410595,\n",
       "               0.682236533571909,\n",
       "               -0.03230286765269967,\n",
       "               -0.266219686200676,\n",
       "               0.5566487136232804,\n",
       "               -0.266219686200676,\n",
       "               -0.03230286765269967,\n",
       "               0.682236533571909,\n",
       "               0.2539785108410595,\n",
       "               0.08398315262876693)): (Array(0.03177825, dtype=float32),\n",
       "              Array(3146.8064, dtype=float32)),\n",
       "             ('Brownian Motion',\n",
       "              'mclmc',\n",
       "              (0.5,\n",
       "               1.0,\n",
       "               0.5)): (Array(0.03281917, dtype=float32), Array(3047., dtype=float32)),\n",
       "             ('Brownian Motion',\n",
       "              'mclmc',\n",
       "              (0.1931833275037836,\n",
       "               0.5,\n",
       "               0.6136333449924328,\n",
       "               0.5,\n",
       "               0.1931833275037836)): (Array(0.03469812, dtype=float32),\n",
       "              Array(2882., dtype=float32)),\n",
       "             ('Brownian Motion',\n",
       "              'mclmc',\n",
       "              (0.11888010966548,\n",
       "               0.29619504261126,\n",
       "               0.38111989033452,\n",
       "               0.40760991477748,\n",
       "               0.38111989033452,\n",
       "               0.29619504261126,\n",
       "               0.11888010966548)): (Array(0.11695907, dtype=float32),\n",
       "              Array(855., dtype=float32)),\n",
       "             ('Brownian Motion',\n",
       "              'mclmc',\n",
       "              (0.08398315262876693,\n",
       "               0.2539785108410595,\n",
       "               0.682236533571909,\n",
       "               -0.03230286765269967,\n",
       "               -0.266219686200676,\n",
       "               0.5566487136232804,\n",
       "               -0.266219686200676,\n",
       "               -0.03230286765269967,\n",
       "               0.682236533571909,\n",
       "               0.2539785108410595,\n",
       "               0.08398315262876693)): (Array(0., dtype=float32),\n",
       "              Array(inf, dtype=float32))})"
      ]
     },
     "execution_count": 12,
     "metadata": {},
     "output_type": "execute_result"
    }
   ],
   "source": [
    "df = pd.DataFrame(results, columns=['sampler', 'model', 'coefficients'])\n",
    "df\n",
    "\n",
    "results\n"
   ]
  },
  {
   "cell_type": "code",
   "execution_count": null,
   "metadata": {},
   "outputs": [],
   "source": []
  }
 ],
 "metadata": {
  "kernelspec": {
   "display_name": "mclmc",
   "language": "python",
   "name": "python3"
  },
  "language_info": {
   "codemirror_mode": {
    "name": "ipython",
    "version": 3
   },
   "file_extension": ".py",
   "mimetype": "text/x-python",
   "name": "python",
   "nbconvert_exporter": "python",
   "pygments_lexer": "ipython3",
   "version": "3.11.5"
  }
 },
 "nbformat": 4,
 "nbformat_minor": 2
}
