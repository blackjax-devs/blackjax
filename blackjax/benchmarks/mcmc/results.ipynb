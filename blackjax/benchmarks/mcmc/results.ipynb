{
 "cells": [
  {
   "cell_type": "code",
   "execution_count": 1,
   "metadata": {},
   "outputs": [
    {
     "name": "stdout",
     "output_type": "stream",
     "text": [
      "\n",
      "Model: StandardNormal, Sampler: mhmclmc\n",
      " Coefficients: [0.5, 1.0, 0.5]\n",
      "\n"
     ]
    },
    {
     "data": {
      "text/html": [
       "\n",
       "<style>\n",
       "    /* Turns off some styling */\n",
       "    progress {\n",
       "        /* gets rid of default border in Firefox and Opera. */\n",
       "        border: none;\n",
       "        /* Needs to be in here for Safari polyfill so background images work as expected. */\n",
       "        background-size: auto;\n",
       "    }\n",
       "    progress:not([value]), progress:not([value])::-webkit-progress-bar {\n",
       "        background: repeating-linear-gradient(45deg, #7e7e7e, #7e7e7e 10px, #5c5c5c 10px, #5c5c5c 20px);\n",
       "    }\n",
       "    .progress-bar-interrupted, .progress-bar-interrupted::-webkit-progress-bar {\n",
       "        background: #F44336;\n",
       "    }\n",
       "</style>\n"
      ],
      "text/plain": [
       "<IPython.core.display.HTML object>"
      ]
     },
     "metadata": {},
     "output_type": "display_data"
    },
    {
     "data": {
      "text/html": [
       "\n",
       "    <div>\n",
       "      <progress value='2000' class='' max='2000' style='width:300px; height:20px; vertical-align: middle;'></progress>\n",
       "      100.00% [2000/2000 00:00&lt;?]\n",
       "    </div>\n",
       "    "
      ],
      "text/plain": [
       "<IPython.core.display.HTML object>"
      ]
     },
     "metadata": {},
     "output_type": "display_data"
    },
    {
     "name": "stdout",
     "output_type": "stream",
     "text": [
      "\n",
      "4.701172 33.226685\n",
      "grads to low bias: 7972.41650390625\n",
      "\n",
      "Model: StandardNormal, Sampler: mhmclmc\n",
      " Coefficients: [0.1931833275037836, 0.5, 0.6136333449924328, 0.5, 0.1931833275037836]\n",
      "\n"
     ]
    },
    {
     "data": {
      "text/html": [
       "\n",
       "<style>\n",
       "    /* Turns off some styling */\n",
       "    progress {\n",
       "        /* gets rid of default border in Firefox and Opera. */\n",
       "        border: none;\n",
       "        /* Needs to be in here for Safari polyfill so background images work as expected. */\n",
       "        background-size: auto;\n",
       "    }\n",
       "    progress:not([value]), progress:not([value])::-webkit-progress-bar {\n",
       "        background: repeating-linear-gradient(45deg, #7e7e7e, #7e7e7e 10px, #5c5c5c 10px, #5c5c5c 20px);\n",
       "    }\n",
       "    .progress-bar-interrupted, .progress-bar-interrupted::-webkit-progress-bar {\n",
       "        background: #F44336;\n",
       "    }\n",
       "</style>\n"
      ],
      "text/plain": [
       "<IPython.core.display.HTML object>"
      ]
     },
     "metadata": {},
     "output_type": "display_data"
    },
    {
     "data": {
      "text/html": [
       "\n",
       "    <div>\n",
       "      <progress value='2000' class='' max='2000' style='width:300px; height:20px; vertical-align: middle;'></progress>\n",
       "      100.00% [2000/2000 00:00&lt;?]\n",
       "    </div>\n",
       "    "
      ],
      "text/plain": [
       "<IPython.core.display.HTML object>"
      ]
     },
     "metadata": {},
     "output_type": "display_data"
    },
    {
     "name": "stdout",
     "output_type": "stream",
     "text": [
      "\n",
      "5.77816 33.97205\n",
      "grads to low bias: 5409.03759765625\n",
      "\n",
      "Model: StandardNormal, Sampler: mhmclmc\n",
      " Coefficients: [0.11888010966548, 0.29619504261126, 0.38111989033452, 0.40760991477748, 0.38111989033452, 0.29619504261126, 0.11888010966548]\n",
      "\n"
     ]
    },
    {
     "data": {
      "text/html": [
       "\n",
       "<style>\n",
       "    /* Turns off some styling */\n",
       "    progress {\n",
       "        /* gets rid of default border in Firefox and Opera. */\n",
       "        border: none;\n",
       "        /* Needs to be in here for Safari polyfill so background images work as expected. */\n",
       "        background-size: auto;\n",
       "    }\n",
       "    progress:not([value]), progress:not([value])::-webkit-progress-bar {\n",
       "        background: repeating-linear-gradient(45deg, #7e7e7e, #7e7e7e 10px, #5c5c5c 10px, #5c5c5c 20px);\n",
       "    }\n",
       "    .progress-bar-interrupted, .progress-bar-interrupted::-webkit-progress-bar {\n",
       "        background: #F44336;\n",
       "    }\n",
       "</style>\n"
      ],
      "text/plain": [
       "<IPython.core.display.HTML object>"
      ]
     },
     "metadata": {},
     "output_type": "display_data"
    },
    {
     "data": {
      "text/html": [
       "\n",
       "    <div>\n",
       "      <progress value='2000' class='' max='2000' style='width:300px; height:20px; vertical-align: middle;'></progress>\n",
       "      100.00% [2000/2000 00:00&lt;?]\n",
       "    </div>\n",
       "    "
      ],
      "text/plain": [
       "<IPython.core.display.HTML object>"
      ]
     },
     "metadata": {},
     "output_type": "display_data"
    },
    {
     "name": "stdout",
     "output_type": "stream",
     "text": [
      "\n",
      "8.614059 36.50968\n",
      "grads to low bias: 4208.71435546875\n",
      "\n",
      "Model: StandardNormal, Sampler: mhmclmc\n",
      " Coefficients: [0.08398315262876693, 0.2539785108410595, 0.682236533571909, -0.03230286765269967, -0.266219686200676, 0.5566487136232804, -0.266219686200676, -0.03230286765269967, 0.682236533571909, 0.2539785108410595, 0.08398315262876693]\n",
      "\n"
     ]
    },
    {
     "data": {
      "text/html": [
       "\n",
       "<style>\n",
       "    /* Turns off some styling */\n",
       "    progress {\n",
       "        /* gets rid of default border in Firefox and Opera. */\n",
       "        border: none;\n",
       "        /* Needs to be in here for Safari polyfill so background images work as expected. */\n",
       "        background-size: auto;\n",
       "    }\n",
       "    progress:not([value]), progress:not([value])::-webkit-progress-bar {\n",
       "        background: repeating-linear-gradient(45deg, #7e7e7e, #7e7e7e 10px, #5c5c5c 10px, #5c5c5c 20px);\n",
       "    }\n",
       "    .progress-bar-interrupted, .progress-bar-interrupted::-webkit-progress-bar {\n",
       "        background: #F44336;\n",
       "    }\n",
       "</style>\n"
      ],
      "text/plain": [
       "<IPython.core.display.HTML object>"
      ]
     },
     "metadata": {},
     "output_type": "display_data"
    },
    {
     "data": {
      "text/html": [
       "\n",
       "    <div>\n",
       "      <progress value='2000' class='' max='2000' style='width:300px; height:20px; vertical-align: middle;'></progress>\n",
       "      100.00% [2000/2000 00:00&lt;?]\n",
       "    </div>\n",
       "    "
      ],
      "text/plain": [
       "<IPython.core.display.HTML object>"
      ]
     },
     "metadata": {},
     "output_type": "display_data"
    },
    {
     "name": "stdout",
     "output_type": "stream",
     "text": [
      "\n",
      "7.1619034 54.277737\n",
      "grads to low bias: 15649.9638671875\n",
      "\n",
      "Model: StandardNormal, Sampler: nuts\n",
      " Coefficients: [0.5, 1.0, 0.5]\n",
      "\n",
      "grads to low bias: 2164.14013671875\n",
      "\n",
      "Model: StandardNormal, Sampler: nuts\n",
      " Coefficients: [0.1931833275037836, 0.5, 0.6136333449924328, 0.5, 0.1931833275037836]\n",
      "\n",
      "grads to low bias: 2366.050048828125\n",
      "\n",
      "Model: StandardNormal, Sampler: nuts\n",
      " Coefficients: [0.11888010966548, 0.29619504261126, 0.38111989033452, 0.40760991477748, 0.38111989033452, 0.29619504261126, 0.11888010966548]\n",
      "\n",
      "grads to low bias: 13041.8701171875\n",
      "\n",
      "Model: StandardNormal, Sampler: nuts\n",
      " Coefficients: [0.08398315262876693, 0.2539785108410595, 0.682236533571909, -0.03230286765269967, -0.266219686200676, 0.5566487136232804, -0.266219686200676, -0.03230286765269967, 0.682236533571909, 0.2539785108410595, 0.08398315262876693]\n",
      "\n",
      "grads to low bias: inf\n",
      "\n",
      "Model: StandardNormal, Sampler: mclmc\n",
      " Coefficients: [0.5, 1.0, 0.5]\n",
      "\n"
     ]
    },
    {
     "data": {
      "text/html": [
       "\n",
       "<style>\n",
       "    /* Turns off some styling */\n",
       "    progress {\n",
       "        /* gets rid of default border in Firefox and Opera. */\n",
       "        border: none;\n",
       "        /* Needs to be in here for Safari polyfill so background images work as expected. */\n",
       "        background-size: auto;\n",
       "    }\n",
       "    progress:not([value]), progress:not([value])::-webkit-progress-bar {\n",
       "        background: repeating-linear-gradient(45deg, #7e7e7e, #7e7e7e 10px, #5c5c5c 10px, #5c5c5c 20px);\n",
       "    }\n",
       "    .progress-bar-interrupted, .progress-bar-interrupted::-webkit-progress-bar {\n",
       "        background: #F44336;\n",
       "    }\n",
       "</style>\n"
      ],
      "text/plain": [
       "<IPython.core.display.HTML object>"
      ]
     },
     "metadata": {},
     "output_type": "display_data"
    },
    {
     "data": {
      "text/html": [
       "\n",
       "    <div>\n",
       "      <progress value='2000' class='' max='2000' style='width:300px; height:20px; vertical-align: middle;'></progress>\n",
       "      100.00% [2000/2000 00:00&lt;?]\n",
       "    </div>\n",
       "    "
      ],
      "text/plain": [
       "<IPython.core.display.HTML object>"
      ]
     },
     "metadata": {},
     "output_type": "display_data"
    },
    {
     "name": "stdout",
     "output_type": "stream",
     "text": [
      "\n",
      "1.76061 3.0722103\n",
      "grads to low bias: 180.0\n",
      "\n",
      "Model: StandardNormal, Sampler: mclmc\n",
      " Coefficients: [0.1931833275037836, 0.5, 0.6136333449924328, 0.5, 0.1931833275037836]\n",
      "\n"
     ]
    },
    {
     "data": {
      "text/html": [
       "\n",
       "<style>\n",
       "    /* Turns off some styling */\n",
       "    progress {\n",
       "        /* gets rid of default border in Firefox and Opera. */\n",
       "        border: none;\n",
       "        /* Needs to be in here for Safari polyfill so background images work as expected. */\n",
       "        background-size: auto;\n",
       "    }\n",
       "    progress:not([value]), progress:not([value])::-webkit-progress-bar {\n",
       "        background: repeating-linear-gradient(45deg, #7e7e7e, #7e7e7e 10px, #5c5c5c 10px, #5c5c5c 20px);\n",
       "    }\n",
       "    .progress-bar-interrupted, .progress-bar-interrupted::-webkit-progress-bar {\n",
       "        background: #F44336;\n",
       "    }\n",
       "</style>\n"
      ],
      "text/plain": [
       "<IPython.core.display.HTML object>"
      ]
     },
     "metadata": {},
     "output_type": "display_data"
    },
    {
     "data": {
      "text/html": [
       "\n",
       "    <div>\n",
       "      <progress value='2000' class='' max='2000' style='width:300px; height:20px; vertical-align: middle;'></progress>\n",
       "      100.00% [2000/2000 00:00&lt;?]\n",
       "    </div>\n",
       "    "
      ],
      "text/plain": [
       "<IPython.core.display.HTML object>"
      ]
     },
     "metadata": {},
     "output_type": "display_data"
    },
    {
     "name": "stdout",
     "output_type": "stream",
     "text": [
      "\n",
      "3.5734413 2.6781883\n",
      "grads to low bias: 82.0\n",
      "\n",
      "Model: StandardNormal, Sampler: mclmc\n",
      " Coefficients: [0.11888010966548, 0.29619504261126, 0.38111989033452, 0.40760991477748, 0.38111989033452, 0.29619504261126, 0.11888010966548]\n",
      "\n"
     ]
    },
    {
     "data": {
      "text/html": [
       "\n",
       "<style>\n",
       "    /* Turns off some styling */\n",
       "    progress {\n",
       "        /* gets rid of default border in Firefox and Opera. */\n",
       "        border: none;\n",
       "        /* Needs to be in here for Safari polyfill so background images work as expected. */\n",
       "        background-size: auto;\n",
       "    }\n",
       "    progress:not([value]), progress:not([value])::-webkit-progress-bar {\n",
       "        background: repeating-linear-gradient(45deg, #7e7e7e, #7e7e7e 10px, #5c5c5c 10px, #5c5c5c 20px);\n",
       "    }\n",
       "    .progress-bar-interrupted, .progress-bar-interrupted::-webkit-progress-bar {\n",
       "        background: #F44336;\n",
       "    }\n",
       "</style>\n"
      ],
      "text/plain": [
       "<IPython.core.display.HTML object>"
      ]
     },
     "metadata": {},
     "output_type": "display_data"
    },
    {
     "data": {
      "text/html": [
       "\n",
       "    <div>\n",
       "      <progress value='2000' class='' max='2000' style='width:300px; height:20px; vertical-align: middle;'></progress>\n",
       "      100.00% [2000/2000 00:00&lt;?]\n",
       "    </div>\n",
       "    "
      ],
      "text/plain": [
       "<IPython.core.display.HTML object>"
      ]
     },
     "metadata": {},
     "output_type": "display_data"
    },
    {
     "name": "stdout",
     "output_type": "stream",
     "text": [
      "\n",
      "6.0280094 1.5308385\n",
      "grads to low bias: 318.0\n",
      "\n",
      "Model: StandardNormal, Sampler: mclmc\n",
      " Coefficients: [0.08398315262876693, 0.2539785108410595, 0.682236533571909, -0.03230286765269967, -0.266219686200676, 0.5566487136232804, -0.266219686200676, -0.03230286765269967, 0.682236533571909, 0.2539785108410595, 0.08398315262876693]\n",
      "\n"
     ]
    },
    {
     "data": {
      "text/html": [
       "\n",
       "<style>\n",
       "    /* Turns off some styling */\n",
       "    progress {\n",
       "        /* gets rid of default border in Firefox and Opera. */\n",
       "        border: none;\n",
       "        /* Needs to be in here for Safari polyfill so background images work as expected. */\n",
       "        background-size: auto;\n",
       "    }\n",
       "    progress:not([value]), progress:not([value])::-webkit-progress-bar {\n",
       "        background: repeating-linear-gradient(45deg, #7e7e7e, #7e7e7e 10px, #5c5c5c 10px, #5c5c5c 20px);\n",
       "    }\n",
       "    .progress-bar-interrupted, .progress-bar-interrupted::-webkit-progress-bar {\n",
       "        background: #F44336;\n",
       "    }\n",
       "</style>\n"
      ],
      "text/plain": [
       "<IPython.core.display.HTML object>"
      ]
     },
     "metadata": {},
     "output_type": "display_data"
    },
    {
     "data": {
      "text/html": [
       "\n",
       "    <div>\n",
       "      <progress value='2000' class='' max='2000' style='width:300px; height:20px; vertical-align: middle;'></progress>\n",
       "      100.00% [2000/2000 00:00&lt;?]\n",
       "    </div>\n",
       "    "
      ],
      "text/plain": [
       "<IPython.core.display.HTML object>"
      ]
     },
     "metadata": {},
     "output_type": "display_data"
    },
    {
     "name": "stdout",
     "output_type": "stream",
     "text": [
      "\n",
      "6.0498443 1.5166807\n",
      "grads to low bias: 615.0\n",
      "defaultdict(<class 'tuple'>, {(('StandardNormal', 10), 'mhmclmc', 'leapfrog'): (Array(0.01254325, dtype=float32), Array(7972.4165, dtype=float32)), (('StandardNormal', 10), 'mhmclmc', 'mclachlan'): (Array(0.01848758, dtype=float32), Array(5409.0376, dtype=float32)), (('StandardNormal', 10), 'mhmclmc', 'yoshida'): (Array(0.02376023, dtype=float32), Array(4208.7144, dtype=float32)), (('StandardNormal', 10), 'mhmclmc', 'omelyan'): (Array(0.00638979, dtype=float32), Array(15649.964, dtype=float32)), (('StandardNormal', 10), 'nuts', 'leapfrog'): (Array(0.04620773, dtype=float32), Array(2164.1401, dtype=float32)), (('StandardNormal', 10), 'nuts', 'mclachlan'): (Array(0.04226453, dtype=float32), Array(2366.05, dtype=float32)), (('StandardNormal', 10), 'nuts', 'yoshida'): (Array(0.00766761, dtype=float32), Array(13041.87, dtype=float32)), (('StandardNormal', 10), 'nuts', 'omelyan'): (Array(0., dtype=float32), Array(inf, dtype=float32)), (('StandardNormal', 10), 'mclmc', 'leapfrog'): (Array(0.5555556, dtype=float32), Array(180., dtype=float32)), (('StandardNormal', 10), 'mclmc', 'mclachlan'): (Array(1.2195122, dtype=float32), Array(82., dtype=float32)), (('StandardNormal', 10), 'mclmc', 'yoshida'): (Array(0.3144654, dtype=float32), Array(318., dtype=float32)), (('StandardNormal', 10), 'mclmc', 'omelyan'): (Array(0.16260162, dtype=float32), Array(615., dtype=float32))})\n"
     ]
    }
   ],
   "source": [
    "import pandas as pd\n",
    "import matplotlib.pyplot as plt\n",
    "\n",
    "from blackjax.benchmarks.mcmc.benchmark import run_benchmarks\n",
    "from blackjax.mcmc.integrators import name_integrator\n",
    "import seaborn as sns\n",
    "\n",
    "# results = run_benchmarks(batch_size=1)\n"
   ]
  },
  {
   "cell_type": "code",
   "execution_count": null,
   "metadata": {},
   "outputs": [],
   "source": []
  },
  {
   "cell_type": "code",
   "execution_count": 116,
   "metadata": {},
   "outputs": [
    {
     "data": {
      "text/html": [
       "<div>\n",
       "<style scoped>\n",
       "    .dataframe tbody tr th:only-of-type {\n",
       "        vertical-align: middle;\n",
       "    }\n",
       "\n",
       "    .dataframe tbody tr th {\n",
       "        vertical-align: top;\n",
       "    }\n",
       "\n",
       "    .dataframe thead th {\n",
       "        text-align: right;\n",
       "    }\n",
       "</style>\n",
       "<table border=\"1\" class=\"dataframe\">\n",
       "  <thead>\n",
       "    <tr style=\"text-align: right;\">\n",
       "      <th></th>\n",
       "      <th>model</th>\n",
       "      <th>sampler</th>\n",
       "      <th>integrator</th>\n",
       "      <th>tuning</th>\n",
       "      <th>result</th>\n",
       "    </tr>\n",
       "  </thead>\n",
       "  <tbody>\n",
       "    <tr>\n",
       "      <th>0</th>\n",
       "      <td>32</td>\n",
       "      <td>mhmclmc</td>\n",
       "      <td>mclachlan</td>\n",
       "      <td>standard</td>\n",
       "      <td>0.001904</td>\n",
       "    </tr>\n",
       "    <tr>\n",
       "      <th>1</th>\n",
       "      <td>32</td>\n",
       "      <td>mhmclmc</td>\n",
       "      <td>mclachlan</td>\n",
       "      <td>gridsearch:False</td>\n",
       "      <td>0.004899</td>\n",
       "    </tr>\n",
       "    <tr>\n",
       "      <th>2</th>\n",
       "      <td>32</td>\n",
       "      <td>nuts</td>\n",
       "      <td>leapfrog</td>\n",
       "      <td>standard</td>\n",
       "      <td>0.003285</td>\n",
       "    </tr>\n",
       "  </tbody>\n",
       "</table>\n",
       "</div>"
      ],
      "text/plain": [
       "   model  sampler integrator            tuning    result\n",
       "0     32  mhmclmc  mclachlan          standard  0.001904\n",
       "1     32  mhmclmc  mclachlan  gridsearch:False  0.004899\n",
       "2     32     nuts   leapfrog          standard  0.003285"
      ]
     },
     "execution_count": 116,
     "metadata": {},
     "output_type": "execute_result"
    }
   ],
   "source": [
    "import numpy as np\n",
    "\n",
    "\n",
    "new_results = pd.read_csv(\"../../../results.csv\")\n",
    "new_results\n",
    "# new_results.result = new_results.result.apply(lambda x: x[0].item())\n",
    "# new_results.model = new_results.model.apply(lambda x: x[1])\n",
    "# new_results.result = new_results.result.apply(lambda x: 100/x)\n",
    "# new_results = new_results.drop(new_results[new_results['coeffs'] == 'omelyan'].index)\n",
    "# new_results.result = new_results.result.apply(lambda x: np.log(x))\n",
    "\n",
    "new_results"
   ]
  },
  {
   "cell_type": "code",
   "execution_count": 118,
   "metadata": {},
   "outputs": [
    {
     "data": {
      "image/png": "[encoded data removed]",
      "text/plain": [
       "<Figure size 640x480 with 1 Axes>"
      ]
     },
     "metadata": {},
     "output_type": "display_data"
    }
   ],
   "source": [
    "\n",
    "from matplotlib.ticker import ScalarFormatter\n",
    "import numpy as np\n",
    "\n",
    "\n",
    "# plot = sns.lineplot(data=new_results, x=[0.0,1.0, 2.0], y=\"result\", hue=\"sampler\", style=\"integrator\")\n",
    "plot = sns.scatterplot(data=new_results, x=[0.0,1.0, 2.0], y=\"result\", hue=\"sampler\", style=\"integrator\")\n",
    "# plt.xscale('log')\n",
    "# plt.yscale('log')\n",
    "# plot.set(xscale='log')\n",
    "# plot.set(yscale='log')\n",
    "plt.show()\n",
    "\n"
   ]
  },
  {
   "cell_type": "code",
   "execution_count": 51,
   "metadata": {},
   "outputs": [
    {
     "data": {
      "text/plain": [
       "[3.0, 3.0, 3.0, 3.0, 1.0, 1.0, 1.0, 1.0, 2.0, 2.0, 2.0, 2.0]"
      ]
     },
     "execution_count": 51,
     "metadata": {},
     "output_type": "execute_result"
    }
   ],
   "source": [
    "list(df[\"sampler\"].map({'nuts': 1., 'mclmc': 2., 'mhmclmc': 3.}))"
   ]
  },
  {
   "cell_type": "code",
   "execution_count": null,
   "metadata": {},
   "outputs": [],
   "source": []
  }
 ],
 "metadata": {
  "kernelspec": {
   "display_name": "mclmc",
   "language": "python",
   "name": "python3"
  },
  "language_info": {
   "codemirror_mode": {
    "name": "ipython",
    "version": 3
   },
   "file_extension": ".py",
   "mimetype": "text/x-python",
   "name": "python",
   "nbconvert_exporter": "python",
   "pygments_lexer": "ipython3",
   "version": "3.11.5"
  }
 },
 "nbformat": 4,
 "nbformat_minor": 2
}
