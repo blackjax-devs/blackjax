{
 "cells": [
  {
   "cell_type": "code",
   "execution_count": 1,
   "metadata": {},
   "outputs": [],
   "source": [
    "import pandas as pd\n",
    "import matplotlib.pyplot as plt\n",
    "\n",
    "from blackjax.benchmarks.mcmc.benchmark import run_benchmarks\n",
    "from blackjax.mcmc.integrators import name_integrator\n",
    "import seaborn as sns\n",
    "\n",
    "# results = run_benchmarks(batch_size=1)\n"
   ]
  },
  {
   "cell_type": "code",
   "execution_count": null,
   "metadata": {},
   "outputs": [],
   "source": []
  },
  {
   "cell_type": "code",
   "execution_count": 17,
   "metadata": {},
   "outputs": [
    {
     "data": {
      "text/html": [
       "<div>\n",
       "<style scoped>\n",
       "    .dataframe tbody tr th:only-of-type {\n",
       "        vertical-align: middle;\n",
       "    }\n",
       "\n",
       "    .dataframe tbody tr th {\n",
       "        vertical-align: top;\n",
       "    }\n",
       "\n",
       "    .dataframe thead th {\n",
       "        text-align: right;\n",
       "    }\n",
       "</style>\n",
       "<table border=\"1\" class=\"dataframe\">\n",
       "  <thead>\n",
       "    <tr style=\"text-align: right;\">\n",
       "      <th></th>\n",
       "      <th>model</th>\n",
       "      <th>dims</th>\n",
       "      <th>sampler</th>\n",
       "      <th>L</th>\n",
       "      <th>step_size</th>\n",
       "      <th>integrator</th>\n",
       "      <th>tuning</th>\n",
       "      <th>acc_rate</th>\n",
       "      <th>result</th>\n",
       "    </tr>\n",
       "  </thead>\n",
       "  <tbody>\n",
       "    <tr>\n",
       "      <th>0</th>\n",
       "      <td>Brownian</td>\n",
       "      <td>32</td>\n",
       "      <td>mhmclmc</td>\n",
       "      <td>2.221805</td>\n",
       "      <td>0.564351</td>\n",
       "      <td>mclachlan</td>\n",
       "      <td>standard</td>\n",
       "      <td>0.553930</td>\n",
       "      <td>0.002005</td>\n",
       "    </tr>\n",
       "    <tr>\n",
       "      <th>1</th>\n",
       "      <td>Brownian</td>\n",
       "      <td>32</td>\n",
       "      <td>mhmclmc</td>\n",
       "      <td>2.358361</td>\n",
       "      <td>0.338023</td>\n",
       "      <td>mclachlan</td>\n",
       "      <td>gridsearch:True</td>\n",
       "      <td>0.874907</td>\n",
       "      <td>0.005770</td>\n",
       "    </tr>\n",
       "    <tr>\n",
       "      <th>2</th>\n",
       "      <td>Brownian</td>\n",
       "      <td>32</td>\n",
       "      <td>nuts</td>\n",
       "      <td>0.000000</td>\n",
       "      <td>0.000000</td>\n",
       "      <td>leapfrog</td>\n",
       "      <td>standard</td>\n",
       "      <td>0.782571</td>\n",
       "      <td>0.003452</td>\n",
       "    </tr>\n",
       "  </tbody>\n",
       "</table>\n",
       "</div>"
      ],
      "text/plain": [
       "      model  dims  sampler         L  step_size integrator           tuning   \n",
       "0  Brownian    32  mhmclmc  2.221805   0.564351  mclachlan         standard  \\\n",
       "1  Brownian    32  mhmclmc  2.358361   0.338023  mclachlan  gridsearch:True   \n",
       "2  Brownian    32     nuts  0.000000   0.000000   leapfrog         standard   \n",
       "\n",
       "   acc_rate    result  \n",
       "0  0.553930  0.002005  \n",
       "1  0.874907  0.005770  \n",
       "2  0.782571  0.003452  "
      ]
     },
     "execution_count": 17,
     "metadata": {},
     "output_type": "execute_result"
    }
   ],
   "source": [
    "import numpy as np\n",
    "\n",
    "\n",
    "new_results = pd.read_csv(\"../../../results.csv\")\n",
    "new_results\n",
    "# new_results.result = new_results.result.apply(lambda x: x[0].item())\n",
    "# new_results.model = new_results.model.apply(lambda x: x[1])\n",
    "# new_results.result = new_results.result.apply(lambda x: 100/x)\n",
    "# new_results = new_results.drop(new_results[new_results['coeffs'] == 'omelyan'].index)\n",
    "# new_results.result = new_results.result.apply(lambda x: np.log(x))\n",
    "\n",
    "new_results"
   ]
  },
  {
   "cell_type": "code",
   "execution_count": 18,
   "metadata": {},
   "outputs": [
    {
     "data": {
      "image/png": "[encoded data removed]",
      "text/plain": [
       "<Figure size 640x480 with 1 Axes>"
      ]
     },
     "metadata": {},
     "output_type": "display_data"
    }
   ],
   "source": [
    "\n",
    "from matplotlib.ticker import ScalarFormatter\n",
    "import numpy as np\n",
    "\n",
    "\n",
    "# plot = sns.lineplot(data=new_results, x=[0.0,1.0, 2.0], y=\"result\", hue=\"sampler\", style=\"integrator\")\n",
    "plot = sns.scatterplot(data=new_results, x=[0.0,1.0, 2.0], y=\"result\", hue=\"sampler\", style=\"integrator\")\n",
    "# plt.xscale('log')\n",
    "# plt.yscale('log')\n",
    "# plot.set(xscale='log')\n",
    "# plot.set(yscale='log')\n",
    "plt.show()\n",
    "\n"
   ]
  },
  {
   "cell_type": "code",
   "execution_count": 19,
   "metadata": {},
   "outputs": [
    {
     "data": {
      "text/html": [
       "<div>\n",
       "<style scoped>\n",
       "    .dataframe tbody tr th:only-of-type {\n",
       "        vertical-align: middle;\n",
       "    }\n",
       "\n",
       "    .dataframe tbody tr th {\n",
       "        vertical-align: top;\n",
       "    }\n",
       "\n",
       "    .dataframe thead th {\n",
       "        text-align: right;\n",
       "    }\n",
       "</style>\n",
       "<table border=\"1\" class=\"dataframe\">\n",
       "  <thead>\n",
       "    <tr style=\"text-align: right;\">\n",
       "      <th></th>\n",
       "      <th>model</th>\n",
       "      <th>dims</th>\n",
       "      <th>sampler</th>\n",
       "      <th>L</th>\n",
       "      <th>step_size</th>\n",
       "      <th>integrator</th>\n",
       "      <th>tuning</th>\n",
       "      <th>acc_rate</th>\n",
       "      <th>result</th>\n",
       "    </tr>\n",
       "  </thead>\n",
       "  <tbody>\n",
       "    <tr>\n",
       "      <th>0</th>\n",
       "      <td>Brownian</td>\n",
       "      <td>32</td>\n",
       "      <td>mclmc</td>\n",
       "      <td>2.276525</td>\n",
       "      <td>0.315080</td>\n",
       "      <td>mclachlan</td>\n",
       "      <td>standard</td>\n",
       "      <td>1.000000</td>\n",
       "      <td>0.012370</td>\n",
       "    </tr>\n",
       "    <tr>\n",
       "      <th>1</th>\n",
       "      <td>Brownian</td>\n",
       "      <td>32</td>\n",
       "      <td>mhmclmc</td>\n",
       "      <td>2.178128</td>\n",
       "      <td>0.566565</td>\n",
       "      <td>mclachlan</td>\n",
       "      <td>standard</td>\n",
       "      <td>0.551268</td>\n",
       "      <td>0.001838</td>\n",
       "    </tr>\n",
       "    <tr>\n",
       "      <th>2</th>\n",
       "      <td>Brownian</td>\n",
       "      <td>32</td>\n",
       "      <td>mhmclmc</td>\n",
       "      <td>1.942668</td>\n",
       "      <td>0.312157</td>\n",
       "      <td>mclachlan</td>\n",
       "      <td>gridsearch:True</td>\n",
       "      <td>0.908341</td>\n",
       "      <td>0.005626</td>\n",
       "    </tr>\n",
       "    <tr>\n",
       "      <th>3</th>\n",
       "      <td>Brownian</td>\n",
       "      <td>32</td>\n",
       "      <td>nuts</td>\n",
       "      <td>0.000000</td>\n",
       "      <td>0.000000</td>\n",
       "      <td>leapfrog</td>\n",
       "      <td>standard</td>\n",
       "      <td>0.789602</td>\n",
       "      <td>0.003163</td>\n",
       "    </tr>\n",
       "  </tbody>\n",
       "</table>\n",
       "</div>"
      ],
      "text/plain": [
       "      model  dims  sampler         L  step_size integrator           tuning   \n",
       "0  Brownian    32    mclmc  2.276525   0.315080  mclachlan         standard  \\\n",
       "1  Brownian    32  mhmclmc  2.178128   0.566565  mclachlan         standard   \n",
       "2  Brownian    32  mhmclmc  1.942668   0.312157  mclachlan  gridsearch:True   \n",
       "3  Brownian    32     nuts  0.000000   0.000000   leapfrog         standard   \n",
       "\n",
       "   acc_rate    result  \n",
       "0  1.000000  0.012370  \n",
       "1  0.551268  0.001838  \n",
       "2  0.908341  0.005626  \n",
       "3  0.789602  0.003163  "
      ]
     },
     "execution_count": 19,
     "metadata": {},
     "output_type": "execute_result"
    }
   ],
   "source": [
    "import numpy as np\n",
    "\n",
    "\n",
    "new_results = pd.read_csv(\"../../../results.csv\")\n",
    "new_results\n",
    "# new_results.result = new_results.result.apply(lambda x: x[0].item())\n",
    "# new_results.model = new_results.model.apply(lambda x: x[1])\n",
    "# new_results.result = new_results.result.apply(lambda x: 100/x)\n",
    "# new_results = new_results.drop(new_results[new_results['coeffs'] == 'omelyan'].index)\n",
    "# new_results.result = new_results.result.apply(lambda x: np.log(x))\n",
    "\n",
    "new_results"
   ]
  },
  {
   "cell_type": "code",
   "execution_count": 21,
   "metadata": {},
   "outputs": [
    {
     "data": {
      "image/png": "[encoded data removed]",
      "text/plain": [
       "<Figure size 640x480 with 1 Axes>"
      ]
     },
     "metadata": {},
     "output_type": "display_data"
    }
   ],
   "source": [
    "\n",
    "from matplotlib.ticker import ScalarFormatter\n",
    "import numpy as np\n",
    "\n",
    "\n",
    "# plot = sns.lineplot(data=new_results, x=[0.0,1.0, 2.0], y=\"result\", hue=\"sampler\", style=\"integrator\")\n",
    "plot = sns.scatterplot(data=new_results, x=[0.0,1.0, 2.0, 3.0], y=\"result\", hue=\"sampler\", style=\"integrator\")\n",
    "# plt.xscale('log')\n",
    "# plt.yscale('log')\n",
    "# plot.set(xscale='log')\n",
    "# plot.set(yscale='log')\n",
    "plt.show()\n",
    "\n"
   ]
  },
  {
   "cell_type": "code",
   "execution_count": null,
   "metadata": {},
   "outputs": [],
   "source": []
  }
 ],
 "metadata": {
  "kernelspec": {
   "display_name": "mclmc",
   "language": "python",
   "name": "python3"
  },
  "language_info": {
   "codemirror_mode": {
    "name": "ipython",
    "version": 3
   },
   "file_extension": ".py",
   "mimetype": "text/x-python",
   "name": "python",
   "nbconvert_exporter": "python",
   "pygments_lexer": "ipython3",
   "version": "3.10.11"
  }
 },
 "nbformat": 4,
 "nbformat_minor": 2
}
