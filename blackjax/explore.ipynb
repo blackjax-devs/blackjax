{
 "cells": [
  {
   "cell_type": "code",
   "execution_count": 1,
   "metadata": {},
   "outputs": [
    {
     "name": "stderr",
     "output_type": "stream",
     "text": [
      "WARNING: All log messages before absl::InitializeLog() is called are written to STDERR\n",
      "I0000 00:00:1699217679.346915       1 tfrt_cpu_pjrt_client.cc:349] TfrtCpuClient created.\n"
     ]
    }
   ],
   "source": [
    "import jax\n",
    "import jax.numpy as jnp\n",
    "import jax.scipy.stats as stats\n",
    "import numpy as np\n",
    "import sys\n",
    "import blackjax\n",
    "\n",
    "observed = np.random.normal(10, 20, size=1000)\n",
    "def logdensity_fn(x):\n",
    "    return jnp.sum(jnp.square(x))\n",
    "\n",
    "# Build the kernel\n",
    "step_size = 1e-3\n",
    "inverse_mass_matrix = jnp.array([1., 1.])\n",
    "nuts = blackjax.nuts(logdensity_fn, step_size, inverse_mass_matrix)\n",
    "\n",
    "# Initialize the state\n",
    "initial_position = jnp.array([1.0,1.0])\n",
    "# {\"loc\": 1., \"scale\": 2.}\n",
    "state = nuts.init(initial_position)\n",
    "\n",
    "# Iterate\n",
    "rng_key = jax.random.PRNGKey(0)\n",
    "for _ in range(5):\n",
    "\n",
    "    rng_key, nuts_key = jax.random.split(rng_key)\n",
    "    state, _ = nuts.step(nuts_key, state)"
   ]
  },
  {
   "cell_type": "code",
   "execution_count": 2,
   "metadata": {},
   "outputs": [
    {
     "name": "stdout",
     "output_type": "stream",
     "text": [
      "FOO\n"
     ]
    }
   ],
   "source": [
    "from blackjax.mcmc.mclmc import Parameters\n",
    "\n",
    "mclmc = blackjax.mcmc.mclmc.mclmc(logdensity_fn=logdensity_fn, d = 2, transform = lambda x: x, init_key = jax.random.PRNGKey(0), params = Parameters(1,1e-3, jnp.ones(2)))\n",
    "\n"
   ]
  },
  {
   "cell_type": "code",
   "execution_count": 3,
   "metadata": {},
   "outputs": [],
   "source": [
    "from blackjax.base import SamplingAlgorithm\n",
    "import jax\n",
    "import jax.numpy as jnp\n",
    "import jax.scipy.stats as stats\n",
    "import numpy as np\n",
    "import sys\n",
    "import blackjax\n",
    "# from blackjax.types import ArrayTree\n",
    "\n",
    "def logdensity_fn(x):\n",
    "    return jnp.sum(jnp.square(x))\n",
    "\n",
    "# Build the kernel\n",
    "step_size = 1e-3\n",
    "inverse_mass_matrix = jnp.array([1., 1.])\n",
    "nuts = blackjax.nuts(logdensity_fn, step_size, inverse_mass_matrix)\n",
    "\n",
    "flip = lambda f: lambda s, k : f(k,s)\n",
    "\n",
    "def run_sampling_algorithm(sampling_algorithm : SamplingAlgorithm, num_steps : int, initial_val, rng_key):\n",
    "    state = sampling_algorithm.init(initial_val)\n",
    "    keys = jax.random.split(rng_key, num_steps)\n",
    "    _, info = jax.lax.scan(flip(sampling_algorithm.step), state, keys)\n",
    "    return info\n"
   ]
  },
  {
   "cell_type": "code",
   "execution_count": 4,
   "metadata": {},
   "outputs": [
    {
     "ename": "TypeError",
     "evalue": "dot requires ndarray or scalar arguments, got <class 'tuple'> at position 0.",
     "output_type": "error",
     "traceback": [
      "\u001b[0;31m---------------------------------------------------------------------------\u001b[0m",
      "\u001b[0;31mTypeError\u001b[0m                                 Traceback (most recent call last)",
      "Cell \u001b[0;32mIn[4], line 1\u001b[0m\n\u001b[0;32m----> 1\u001b[0m run_sampling_algorithm(\n\u001b[1;32m      2\u001b[0m     sampling_algorithm \u001b[39m=\u001b[39m mclmc, \n\u001b[1;32m      3\u001b[0m     num_steps \u001b[39m=\u001b[39m \u001b[39m4\u001b[39m, \n\u001b[1;32m      4\u001b[0m     initial_val \u001b[39m=\u001b[39m jnp\u001b[39m.\u001b[39marray([\u001b[39m1.0\u001b[39m,\u001b[39m1.0\u001b[39m]),\n\u001b[1;32m      5\u001b[0m     rng_key \u001b[39m=\u001b[39m jax\u001b[39m.\u001b[39mrandom\u001b[39m.\u001b[39mPRNGKey(\u001b[39m0\u001b[39m)\n\u001b[1;32m      6\u001b[0m )\n",
      "Cell \u001b[0;32mIn[3], line 23\u001b[0m, in \u001b[0;36mrun_sampling_algorithm\u001b[0;34m(sampling_algorithm, num_steps, initial_val, rng_key)\u001b[0m\n\u001b[1;32m     21\u001b[0m state \u001b[39m=\u001b[39m sampling_algorithm\u001b[39m.\u001b[39minit(initial_val)\n\u001b[1;32m     22\u001b[0m keys \u001b[39m=\u001b[39m jax\u001b[39m.\u001b[39mrandom\u001b[39m.\u001b[39msplit(rng_key, num_steps)\n\u001b[0;32m---> 23\u001b[0m _, info \u001b[39m=\u001b[39m jax\u001b[39m.\u001b[39mlax\u001b[39m.\u001b[39mscan(flip(sampling_algorithm\u001b[39m.\u001b[39mstep), state, keys)\n\u001b[1;32m     24\u001b[0m \u001b[39mreturn\u001b[39;00m info\n",
      "    \u001b[0;31m[... skipping hidden 9 frame]\u001b[0m\n",
      "Cell \u001b[0;32mIn[3], line 18\u001b[0m, in \u001b[0;36m<lambda>\u001b[0;34m(s, k)\u001b[0m\n\u001b[1;32m     15\u001b[0m inverse_mass_matrix \u001b[39m=\u001b[39m jnp\u001b[39m.\u001b[39marray([\u001b[39m1.\u001b[39m, \u001b[39m1.\u001b[39m])\n\u001b[1;32m     16\u001b[0m nuts \u001b[39m=\u001b[39m blackjax\u001b[39m.\u001b[39mnuts(logdensity_fn, step_size, inverse_mass_matrix)\n\u001b[0;32m---> 18\u001b[0m flip \u001b[39m=\u001b[39m \u001b[39mlambda\u001b[39;00m f: \u001b[39mlambda\u001b[39;00m s, k : f(k,s)\n\u001b[1;32m     20\u001b[0m \u001b[39mdef\u001b[39;00m \u001b[39mrun_sampling_algorithm\u001b[39m(sampling_algorithm : SamplingAlgorithm, num_steps : \u001b[39mint\u001b[39m, initial_val, rng_key):\n\u001b[1;32m     21\u001b[0m     state \u001b[39m=\u001b[39m sampling_algorithm\u001b[39m.\u001b[39minit(initial_val)\n",
      "File \u001b[0;32m~/Library/CloudStorage/Dropbox/Reuben/Work/Berkeley/blackjax/blackjax/mcmc/mclmc.py:206\u001b[0m, in \u001b[0;36mmclmc.__new__.<locals>.step_fn\u001b[0;34m(rng_key, state)\u001b[0m\n\u001b[1;32m    205\u001b[0m \u001b[39mdef\u001b[39;00m \u001b[39mstep_fn\u001b[39m(rng_key: PRNGKey, state):\n\u001b[0;32m--> 206\u001b[0m     \u001b[39mreturn\u001b[39;00m kernel(\n\u001b[1;32m    207\u001b[0m         rng_key,\n\u001b[1;32m    208\u001b[0m         state,\n\u001b[1;32m    209\u001b[0m     )\n",
      "File \u001b[0;32m~/Library/CloudStorage/Dropbox/Reuben/Work/Berkeley/blackjax/blackjax/mcmc/mclmc.py:150\u001b[0m, in \u001b[0;36mbuild_kernel.<locals>.kernel\u001b[0;34m(rng_key, state)\u001b[0m\n\u001b[1;32m    146\u001b[0m \u001b[39mdef\u001b[39;00m \u001b[39mkernel\u001b[39m(rng_key : PRNGKey, state : MCLMCState) \u001b[39m-\u001b[39m\u001b[39m>\u001b[39m \u001b[39mtuple\u001b[39m[MCLMCState, MCLMCInfo]:\n\u001b[1;32m    148\u001b[0m     x, u, l, g \u001b[39m=\u001b[39m state\n\u001b[0;32m--> 150\u001b[0m     xx, uu, ll, gg, kinetic_change \u001b[39m=\u001b[39m move(x, u, g, rng_key, L, eps, sigma)\n\u001b[1;32m    151\u001b[0m     de \u001b[39m=\u001b[39m kinetic_change \u001b[39m+\u001b[39m ll \u001b[39m-\u001b[39m l\n\u001b[1;32m    152\u001b[0m     \u001b[39mreturn\u001b[39;00m MCLMCState(xx, uu, ll, gg), MCLMCInfo(transform(xx), ll, de)\n",
      "File \u001b[0;32m~/Library/CloudStorage/Dropbox/Reuben/Work/Berkeley/blackjax/blackjax/mcmc/mclmc.py:125\u001b[0m, in \u001b[0;36mupdate.<locals>.step\u001b[0;34m(x, u, g, random_key, L, eps, sigma)\u001b[0m\n\u001b[1;32m    121\u001b[0m \u001b[39m  \u001b[39m\u001b[39m\"\"\"One step of the generalized dynamics.\"\"\"\u001b[39;00m\n\u001b[1;32m    123\u001b[0m   \u001b[39m# Hamiltonian step\u001b[39;00m\n\u001b[1;32m    124\u001b[0m \u001b[39m#   print(\"BAR 3\")\u001b[39;00m\n\u001b[0;32m--> 125\u001b[0m   xx, uu, ll, gg, kinetic_change \u001b[39m=\u001b[39m hamiltonian_dynamics(x\u001b[39m=\u001b[39mx, u\u001b[39m=\u001b[39mu, g\u001b[39m=\u001b[39mg, eps\u001b[39m=\u001b[39meps, sigma \u001b[39m=\u001b[39m sigma)\n\u001b[1;32m    127\u001b[0m   \u001b[39m# Langevin-like noise\u001b[39;00m\n\u001b[1;32m    128\u001b[0m   nu \u001b[39m=\u001b[39m jnp\u001b[39m.\u001b[39msqrt((jnp\u001b[39m.\u001b[39mexp(\u001b[39m2\u001b[39m \u001b[39m*\u001b[39m eps \u001b[39m/\u001b[39m L) \u001b[39m-\u001b[39m \u001b[39m1.\u001b[39m) \u001b[39m/\u001b[39m d)\n",
      "File \u001b[0;32m~/Library/CloudStorage/Dropbox/Reuben/Work/Berkeley/blackjax/blackjax/mcmc/mclmc.py:164\u001b[0m, in \u001b[0;36mminimal_norm.<locals>.step\u001b[0;34m(x, u, g, eps, sigma)\u001b[0m\n\u001b[1;32m    161\u001b[0m \u001b[39m\u001b[39m\u001b[39m\"\"\"Integrator from https://arxiv.org/pdf/hep-lat/0505020.pdf, see Equation 20.\"\"\"\u001b[39;00m\n\u001b[1;32m    163\u001b[0m \u001b[39m# V T V T V\u001b[39;00m\n\u001b[0;32m--> 164\u001b[0m uu, r1 \u001b[39m=\u001b[39m V(eps \u001b[39m*\u001b[39m lambda_c, u, g \u001b[39m*\u001b[39m sigma)\n\u001b[1;32m    165\u001b[0m xx, ll, gg \u001b[39m=\u001b[39m T(eps, x, \u001b[39m0.5\u001b[39m\u001b[39m*\u001b[39muu\u001b[39m*\u001b[39msigma)\n\u001b[1;32m    166\u001b[0m uu, r2 \u001b[39m=\u001b[39m V(eps \u001b[39m*\u001b[39m (\u001b[39m1\u001b[39m \u001b[39m-\u001b[39m \u001b[39m2\u001b[39m \u001b[39m*\u001b[39m lambda_c), uu, gg \u001b[39m*\u001b[39m sigma)\n",
      "File \u001b[0;32m~/Library/CloudStorage/Dropbox/Reuben/Work/Berkeley/blackjax/blackjax/mcmc/mclmc.py:88\u001b[0m, in \u001b[0;36mupdate_momentum.<locals>.update\u001b[0;34m(eps, u, g)\u001b[0m\n\u001b[1;32m     86\u001b[0m g_norm \u001b[39m=\u001b[39m jnp\u001b[39m.\u001b[39msqrt(jnp\u001b[39m.\u001b[39msum(jnp\u001b[39m.\u001b[39msquare(g)))\n\u001b[1;32m     87\u001b[0m e \u001b[39m=\u001b[39m \u001b[39m-\u001b[39m g \u001b[39m/\u001b[39m g_norm\n\u001b[0;32m---> 88\u001b[0m ue \u001b[39m=\u001b[39m jnp\u001b[39m.\u001b[39mdot(u, e)\n\u001b[1;32m     89\u001b[0m delta \u001b[39m=\u001b[39m eps \u001b[39m*\u001b[39m g_norm \u001b[39m/\u001b[39m (d\u001b[39m-\u001b[39m\u001b[39m1\u001b[39m)\n\u001b[1;32m     90\u001b[0m zeta \u001b[39m=\u001b[39m jnp\u001b[39m.\u001b[39mexp(\u001b[39m-\u001b[39mdelta)\n",
      "    \u001b[0;31m[... skipping hidden 12 frame]\u001b[0m\n",
      "File \u001b[0;32m/opt/homebrew/Caskroom/miniconda/base/envs/mclmc/lib/python3.11/site-packages/jax/_src/numpy/lax_numpy.py:3079\u001b[0m, in \u001b[0;36mdot\u001b[0;34m(a, b, precision, preferred_element_type)\u001b[0m\n\u001b[1;32m   3074\u001b[0m \u001b[39m@util\u001b[39m\u001b[39m.\u001b[39m_wraps(np\u001b[39m.\u001b[39mdot, lax_description\u001b[39m=\u001b[39m_PRECISION_DOC)\n\u001b[1;32m   3075\u001b[0m \u001b[39m@partial\u001b[39m(jit, static_argnames\u001b[39m=\u001b[39m(\u001b[39m'\u001b[39m\u001b[39mprecision\u001b[39m\u001b[39m'\u001b[39m, \u001b[39m'\u001b[39m\u001b[39mpreferred_element_type\u001b[39m\u001b[39m'\u001b[39m), inline\u001b[39m=\u001b[39m\u001b[39mTrue\u001b[39;00m)\n\u001b[1;32m   3076\u001b[0m \u001b[39mdef\u001b[39;00m \u001b[39mdot\u001b[39m(a: ArrayLike, b: ArrayLike, \u001b[39m*\u001b[39m,\n\u001b[1;32m   3077\u001b[0m         precision: PrecisionLike \u001b[39m=\u001b[39m \u001b[39mNone\u001b[39;00m,\n\u001b[1;32m   3078\u001b[0m         preferred_element_type: DTypeLike \u001b[39m|\u001b[39m \u001b[39mNone\u001b[39;00m \u001b[39m=\u001b[39m \u001b[39mNone\u001b[39;00m) \u001b[39m-\u001b[39m\u001b[39m>\u001b[39m Array:\n\u001b[0;32m-> 3079\u001b[0m   util\u001b[39m.\u001b[39mcheck_arraylike(\u001b[39m\"\u001b[39m\u001b[39mdot\u001b[39m\u001b[39m\"\u001b[39m, a, b)\n\u001b[1;32m   3080\u001b[0m   dtypes\u001b[39m.\u001b[39mcheck_user_dtype_supported(preferred_element_type, \u001b[39m\"\u001b[39m\u001b[39mdot\u001b[39m\u001b[39m\"\u001b[39m)\n\u001b[1;32m   3081\u001b[0m   a, b \u001b[39m=\u001b[39m asarray(a), asarray(b)\n",
      "File \u001b[0;32m/opt/homebrew/Caskroom/miniconda/base/envs/mclmc/lib/python3.11/site-packages/jax/_src/numpy/util.py:328\u001b[0m, in \u001b[0;36mcheck_arraylike\u001b[0;34m(fun_name, *args)\u001b[0m\n\u001b[1;32m    325\u001b[0m pos, arg \u001b[39m=\u001b[39m \u001b[39mnext\u001b[39m((i, arg) \u001b[39mfor\u001b[39;00m i, arg \u001b[39min\u001b[39;00m \u001b[39menumerate\u001b[39m(args)\n\u001b[1;32m    326\u001b[0m                 \u001b[39mif\u001b[39;00m \u001b[39mnot\u001b[39;00m _arraylike(arg))\n\u001b[1;32m    327\u001b[0m msg \u001b[39m=\u001b[39m \u001b[39m\"\u001b[39m\u001b[39m{}\u001b[39;00m\u001b[39m requires ndarray or scalar arguments, got \u001b[39m\u001b[39m{}\u001b[39;00m\u001b[39m at position \u001b[39m\u001b[39m{}\u001b[39;00m\u001b[39m.\u001b[39m\u001b[39m\"\u001b[39m\n\u001b[0;32m--> 328\u001b[0m \u001b[39mraise\u001b[39;00m \u001b[39mTypeError\u001b[39;00m(msg\u001b[39m.\u001b[39mformat(fun_name, \u001b[39mtype\u001b[39m(arg), pos))\n",
      "\u001b[0;31mTypeError\u001b[0m: dot requires ndarray or scalar arguments, got <class 'tuple'> at position 0."
     ]
    }
   ],
   "source": [
    "run_sampling_algorithm(\n",
    "    sampling_algorithm = mclmc, \n",
    "    num_steps = 4, \n",
    "    initial_val = jnp.array([1.0,1.0]),\n",
    "    rng_key = jax.random.PRNGKey(0)\n",
    ")"
   ]
  },
  {
   "cell_type": "code",
   "execution_count": 3,
   "metadata": {},
   "outputs": [
    {
     "data": {
      "text/plain": [
       "NUTSInfo(momentum=Array([[ 0.09027783,  1.1181064 ],\n",
       "       [-1.7013309 , -0.5390966 ],\n",
       "       [ 0.770002  ,  0.6343672 ],\n",
       "       [-2.1758103 , -1.742976  ]], dtype=float32), is_divergent=Array([False, False, False, False], dtype=bool), is_turning=Array([False, False,  True, False], dtype=bool), energy=Array([-1.370843  , -0.11327934, -5.84114   , -3.32897   ], dtype=float32), trajectory_leftmost_state=IntegratorState(position=Array([[1.4206688 , 0.61661047],\n",
       "       [3.6223001 , 2.0243049 ],\n",
       "       [2.1698742 , 1.2298268 ],\n",
       "       [7.5688944 , 5.142932  ]], dtype=float32), momentum=Array([[ -1.4299476 ,   0.10284508],\n",
       "       [ -5.2006354 ,  -2.6766868 ],\n",
       "       [ -0.82091624,  -0.29235116],\n",
       "       [-10.429538  ,  -7.2140446 ]], dtype=float32), logdensity=Array([ 2.3985085, 17.218868 ,  6.220828 , 83.73791  ], dtype=float32), logdensity_grad=Array([[ 2.8413377,  1.2332209],\n",
       "       [ 7.2446003,  4.0486097],\n",
       "       [ 4.3397484,  2.4596536],\n",
       "       [15.137789 , 10.285864 ]], dtype=float32)), trajectory_rightmost_state=IntegratorState(position=Array([[1.1562694 , 1.5285689 ],\n",
       "       [0.7418781 , 0.74051124],\n",
       "       [2.3045995 , 1.4024434 ],\n",
       "       [2.1707716 , 1.2942749 ]], dtype=float32), momentum=Array([[ 0.8258719 ,  1.9807057 ],\n",
       "       [-1.3802809 , -0.25639924],\n",
       "       [ 1.3709687 ,  0.99710405],\n",
       "       [-1.9035604 , -1.579     ]], dtype=float32), logdensity=Array([3.6734817, 1.09874  , 7.2780266, 6.387397 ], dtype=float32), logdensity_grad=Array([[2.3125389, 3.0571377],\n",
       "       [1.4837562, 1.4810225],\n",
       "       [4.609199 , 2.8048868],\n",
       "       [4.341543 , 2.5885499]], dtype=float32)), num_trajectory_expansions=Array([10, 10,  9, 10], dtype=int32, weak_type=True), num_integration_steps=Array([1023, 1023,  511, 1023], dtype=int32, weak_type=True), acceptance_rate=Array([0.9999976 , 0.99999094, 0.99999905, 0.99998814], dtype=float32))"
      ]
     },
     "execution_count": 3,
     "metadata": {},
     "output_type": "execute_result"
    }
   ],
   "source": [
    "\n",
    "\n",
    "run_sampling_algorithm(\n",
    "    sampling_algorithm = nuts, \n",
    "    num_steps = 4, \n",
    "    initial_val = jnp.array([1.0,1.0]),\n",
    "    rng_key = jax.random.PRNGKey(0)\n",
    ")"
   ]
  },
  {
   "cell_type": "code",
   "execution_count": null,
   "metadata": {},
   "outputs": [],
   "source": []
  }
 ],
 "metadata": {
  "kernelspec": {
   "display_name": "mclmc",
   "language": "python",
   "name": "python3"
  },
  "language_info": {
   "codemirror_mode": {
    "name": "ipython",
    "version": 3
   },
   "file_extension": ".py",
   "mimetype": "text/x-python",
   "name": "python",
   "nbconvert_exporter": "python",
   "pygments_lexer": "ipython3",
   "version": "3.11.5"
  },
  "orig_nbformat": 4,
  "vscode": {
   "interpreter": {
    "hash": "9a512360325173e57a9de5045b432cf87295adb93a786e8e4409a45c42185bb6"
   }
  }
 },
 "nbformat": 4,
 "nbformat_minor": 2
}
