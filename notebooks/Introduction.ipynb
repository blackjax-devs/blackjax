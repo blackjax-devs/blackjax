{
 "cells": [
  {
   "cell_type": "markdown",
   "id": "alpine-armstrong",
   "metadata": {},
   "source": [
    "# A quick introduction to Blackjax\n",
    "\n",
    "BlackJAX is an MCMC sampling library based on [JAX](https://github.com/google/jax). BlackJAX provides well-tested and ready to use sampling algorithms. It is also explicitly designed to be modular: it is easy for advanced users to mix-and-match different metrics, integrators, trajectory integrations, etc.\n",
    "\n",
    "In this notebook we provide a simple example based on basic Hamiltonian Monte Carlo and the NUTS algorithm to showcase the architecture and interfaces in the library"
   ]
  },
  {
   "cell_type": "code",
   "execution_count": 1,
   "id": "critical-reading",
   "metadata": {},
   "outputs": [],
   "source": [
    "import jax\n",
    "import jax.numpy as jnp\n",
    "import jax.scipy.stats as stats\n",
    "import matplotlib.pyplot as plt\n",
    "import numpy as np\n",
    "\n",
    "import blackjax.hmc as hmc\n",
    "import blackjax.nuts as nuts\n",
    "import blackjax.stan_warmup as stan_warmup"
   ]
  },
  {
   "cell_type": "code",
   "execution_count": 2,
   "id": "a9380ea3",
   "metadata": {},
   "outputs": [
    {
     "name": "stdout",
     "output_type": "stream",
     "text": [
      "Python implementation: CPython\n",
      "Python version       : 3.9.5\n",
      "IPython version      : 7.22.0\n",
      "\n",
      "jax     : 0.2.13\n",
      "jaxlib  : 0.1.67\n",
      "blackjax: 0.1\n",
      "\n",
      "Compiler    : GCC 10.2.0\n",
      "OS          : Linux\n",
      "Release     : 5.12.4-arch1-2\n",
      "Machine     : x86_64\n",
      "Processor   : \n",
      "CPU cores   : 24\n",
      "Architecture: 64bit\n",
      "\n"
     ]
    }
   ],
   "source": [
    "%load_ext watermark\n",
    "%watermark -d -m -v -p jax,jaxlib,blackjax"
   ]
  },
  {
   "cell_type": "code",
   "execution_count": 3,
   "id": "7c76960f",
   "metadata": {},
   "outputs": [
    {
     "name": "stderr",
     "output_type": "stream",
     "text": [
      "WARNING:absl:No GPU/TPU found, falling back to CPU. (Set TF_CPP_MIN_LOG_LEVEL=0 and rerun for more info.)\n"
     ]
    },
    {
     "data": {
      "text/plain": [
       "[CpuDevice(id=0)]"
      ]
     },
     "execution_count": 3,
     "metadata": {},
     "output_type": "execute_result"
    }
   ],
   "source": [
    "jax.devices()"
   ]
  },
  {
   "cell_type": "markdown",
   "id": "judicial-brief",
   "metadata": {},
   "source": [
    "## The problem\n",
    "\n",
    "We'll generate observations from a normal distribution of known `loc` and `scale` to see if we can recover the parameters in sampling. Let's take a decent-size dataset with 1,000 points:"
   ]
  },
  {
   "cell_type": "code",
   "execution_count": 4,
   "id": "advanced-kidney",
   "metadata": {},
   "outputs": [],
   "source": [
    "loc, scale = 10, 20\n",
    "observed = np.random.normal(loc, scale, size=1_000)"
   ]
  },
  {
   "cell_type": "code",
   "execution_count": 5,
   "id": "ceramic-accessory",
   "metadata": {},
   "outputs": [],
   "source": [
    "def potential_fn(loc, scale, observed=observed):\n",
    "    \"\"\"Univariate Normal\"\"\"\n",
    "    logpdf = stats.norm.logpdf(observed, loc, scale)\n",
    "    return -jnp.sum(logpdf)\n",
    "\n",
    "potential = lambda x: potential_fn(**x)"
   ]
  },
  {
   "cell_type": "markdown",
   "id": "6e464438",
   "metadata": {},
   "source": [
    "## HMC"
   ]
  },
  {
   "cell_type": "markdown",
   "id": "heated-nightmare",
   "metadata": {},
   "source": [
    "### Set the initial state"
   ]
  },
  {
   "cell_type": "markdown",
   "id": "6719bdb6",
   "metadata": {},
   "source": [
    "The initial state of the HMC algorithm requires not only an initial position, but also the potential energy and gradient of the potential energy at this position. BlackJAX provides a `new_state` function to initialize the state from an initial position."
   ]
  },
  {
   "cell_type": "code",
   "execution_count": 6,
   "id": "transparent-passage",
   "metadata": {},
   "outputs": [
    {
     "data": {
      "text/plain": [
       "HMCState(position={'loc': 1.0, 'scale': 2.0}, potential_energy=DeviceArray(63021.727, dtype=float32), potential_energy_grad={'loc': DeviceArray(-2266.9055, dtype=float32), 'scale': DeviceArray(-60909.64, dtype=float32)})"
      ]
     },
     "execution_count": 6,
     "metadata": {},
     "output_type": "execute_result"
    }
   ],
   "source": [
    "initial_position = {\"loc\": 1.0, \"scale\": 2.0}\n",
    "initial_state = hmc.new_state(initial_position, potential)\n",
    "initial_state"
   ]
  },
  {
   "cell_type": "markdown",
   "id": "stylish-haven",
   "metadata": {},
   "source": [
    "### Sampler parameters"
   ]
  },
  {
   "cell_type": "markdown",
   "id": "be1028da",
   "metadata": {},
   "source": [
    "To initiate the HMC sampler we need to provide a mass matrix, a step size and a fixed number of integration steps."
   ]
  },
  {
   "cell_type": "code",
   "execution_count": 7,
   "id": "deluxe-lesson",
   "metadata": {},
   "outputs": [],
   "source": [
    "inv_mass_matrix = np.array([.5, .5])\n",
    "num_integration_steps=60\n",
    "step_size=1e-3"
   ]
  },
  {
   "cell_type": "markdown",
   "id": "solved-arrest",
   "metadata": {},
   "source": [
    "### Build the kernel and inference loop"
   ]
  },
  {
   "cell_type": "markdown",
   "id": "bee3f792",
   "metadata": {},
   "source": [
    "The HMC kernel is easy to obtain:"
   ]
  },
  {
   "cell_type": "code",
   "execution_count": 8,
   "id": "232ec5b9",
   "metadata": {},
   "outputs": [
    {
     "name": "stdout",
     "output_type": "stream",
     "text": [
      "CPU times: user 14.9 ms, sys: 0 ns, total: 14.9 ms\n",
      "Wall time: 14.4 ms\n"
     ]
    }
   ],
   "source": [
    "%%time\n",
    "hmc_kernel = hmc.kernel(potential, step_size, inv_mass_matrix, num_integration_steps)\n",
    "hmc_kernel = jax.jit(hmc_kernel)"
   ]
  },
  {
   "cell_type": "markdown",
   "id": "113e728e",
   "metadata": {},
   "source": [
    "BlackJAX does not provide a default inference loop, but it easy to implement with JAX's `lax.scan`:"
   ]
  },
  {
   "cell_type": "code",
   "execution_count": 9,
   "id": "comparative-trinity",
   "metadata": {},
   "outputs": [],
   "source": [
    "def inference_loop(rng_key, kernel, initial_state, num_samples):\n",
    "    def one_step(state, rng_key):\n",
    "        state, _ = kernel(rng_key, state)\n",
    "        return state, state\n",
    "\n",
    "    keys = jax.random.split(rng_key, num_samples)\n",
    "    _, states = jax.lax.scan(one_step, initial_state, keys)\n",
    "\n",
    "    return states"
   ]
  },
  {
   "cell_type": "markdown",
   "id": "understanding-click",
   "metadata": {},
   "source": [
    "### Inference"
   ]
  },
  {
   "cell_type": "code",
   "execution_count": 10,
   "id": "fixed-fisher",
   "metadata": {},
   "outputs": [
    {
     "name": "stdout",
     "output_type": "stream",
     "text": [
      "CPU times: user 1.55 s, sys: 20.4 ms, total: 1.57 s\n",
      "Wall time: 1.57 s\n"
     ]
    }
   ],
   "source": [
    "%%time\n",
    "rng_key = jax.random.PRNGKey(0)\n",
    "states = inference_loop(rng_key, hmc_kernel, initial_state, 10_000)\n",
    "\n",
    "loc_samples = states.position[\"loc\"].block_until_ready()\n",
    "scale_samples = states.position[\"scale\"]"
   ]
  },
  {
   "cell_type": "code",
   "execution_count": 11,
   "id": "b2868edc",
   "metadata": {},
   "outputs": [
    {
     "data": {
      "text/plain": [
       "Text(0, 0.5, 'scale')"
      ]
     },
     "execution_count": 11,
     "metadata": {},
     "output_type": "execute_result"
    },
    {
     "data": {
      "image/png": "[encoded data removed]",
      "text/plain": [
       "<Figure size 1080x432 with 2 Axes>"
      ]
     },
     "metadata": {
      "needs_background": "light"
     },
     "output_type": "display_data"
    }
   ],
   "source": [
    "fig, (ax, ax1) = plt.subplots(ncols=2, figsize=(15,6))\n",
    "ax.plot(loc_samples)\n",
    "ax.set_xlabel(\"Samples\")\n",
    "ax.set_ylabel(\"loc\")\n",
    "\n",
    "ax1.plot(scale_samples)\n",
    "ax1.set_xlabel(\"Samples\")\n",
    "ax.set_ylabel(\"scale\")"
   ]
  },
  {
   "cell_type": "markdown",
   "id": "bf6f8495",
   "metadata": {},
   "source": [
    "## NUTS"
   ]
  },
  {
   "cell_type": "markdown",
   "id": "a6344fd3",
   "metadata": {},
   "source": [
    "NUTS is a *dynamic* algorithm: the number of integration steps is determined at runtime. We still need to specify a step size and a mass matrix:"
   ]
  },
  {
   "cell_type": "code",
   "execution_count": 12,
   "id": "grand-syndication",
   "metadata": {},
   "outputs": [],
   "source": [
    "inv_mass_matrix = np.array([.5, .5])\n",
    "step_size = 1e-3"
   ]
  },
  {
   "cell_type": "code",
   "execution_count": 13,
   "id": "76e8630e",
   "metadata": {},
   "outputs": [
    {
     "data": {
      "text/plain": [
       "HMCState(position={'loc': 1.0, 'scale': 2.0}, potential_energy=DeviceArray(63021.727, dtype=float32), potential_energy_grad={'loc': DeviceArray(-2266.9055, dtype=float32), 'scale': DeviceArray(-60909.64, dtype=float32)})"
      ]
     },
     "execution_count": 13,
     "metadata": {},
     "output_type": "execute_result"
    }
   ],
   "source": [
    "initial_position = {\"loc\": 1.0, \"scale\": 2.0}\n",
    "initial_state = nuts.new_state(initial_position, potential)\n",
    "initial_state"
   ]
  },
  {
   "cell_type": "code",
   "execution_count": 14,
   "id": "f29c7e90",
   "metadata": {},
   "outputs": [
    {
     "name": "stdout",
     "output_type": "stream",
     "text": [
      "CPU times: user 662 µs, sys: 0 ns, total: 662 µs\n",
      "Wall time: 492 µs\n"
     ]
    }
   ],
   "source": [
    "%%time\n",
    "nuts_kernel = jax.jit(nuts.kernel(potential, step_size, inv_mass_matrix))"
   ]
  },
  {
   "cell_type": "code",
   "execution_count": 15,
   "id": "2631c3e6",
   "metadata": {},
   "outputs": [
    {
     "name": "stdout",
     "output_type": "stream",
     "text": [
      "CPU times: user 6.89 s, sys: 30.2 ms, total: 6.92 s\n",
      "Wall time: 6.93 s\n"
     ]
    }
   ],
   "source": [
    "%%time\n",
    "rng_key = jax.random.PRNGKey(0)\n",
    "states = inference_loop(rng_key, nuts_kernel, initial_state, 4_000)\n",
    "\n",
    "loc_samples = states.position[\"loc\"].block_until_ready()\n",
    "scale_samples = states.position[\"scale\"]"
   ]
  },
  {
   "cell_type": "code",
   "execution_count": 16,
   "id": "8abc3bb7",
   "metadata": {},
   "outputs": [
    {
     "data": {
      "text/plain": [
       "Text(0, 0.5, 'scale')"
      ]
     },
     "execution_count": 16,
     "metadata": {},
     "output_type": "execute_result"
    },
    {
     "data": {
      "image/png": "[encoded data removed]",
      "text/plain": [
       "<Figure size 1080x432 with 2 Axes>"
      ]
     },
     "metadata": {
      "needs_background": "light"
     },
     "output_type": "display_data"
    }
   ],
   "source": [
    "fig, (ax, ax1) = plt.subplots(ncols=2, figsize=(15,6))\n",
    "ax.plot(loc_samples)\n",
    "ax.set_xlabel(\"Samples\")\n",
    "ax.set_ylabel(\"loc\")\n",
    "\n",
    "ax1.plot(scale_samples)\n",
    "ax1.set_xlabel(\"Samples\")\n",
    "ax1.set_ylabel(\"scale\")"
   ]
  },
  {
   "cell_type": "markdown",
   "id": "8d0cb714",
   "metadata": {},
   "source": [
    "### Use Stan's window adaptation\n",
    "\n",
    "Specifying the step size and inverse mass matrix is cumbersome. We can use Stan's window adaptation to get reasonable values for them so we have, in practice, no parameter to specify.\n",
    "\n",
    "The adaptation algorithm takes a function that returns a transition kernel given a step size and an inverse mass matrix:"
   ]
  },
  {
   "cell_type": "code",
   "execution_count": 17,
   "id": "f374a68d",
   "metadata": {},
   "outputs": [],
   "source": [
    "kernel_generator = lambda step_size, inverse_mass_matrix: hmc.kernel(potential, step_size, inverse_mass_matrix, 30)"
   ]
  },
  {
   "cell_type": "code",
   "execution_count": 18,
   "id": "f8f1951c",
   "metadata": {},
   "outputs": [
    {
     "name": "stdout",
     "output_type": "stream",
     "text": [
      "CPU times: user 1.52 s, sys: 602 µs, total: 1.52 s\n",
      "Wall time: 1.52 s\n"
     ]
    }
   ],
   "source": [
    "%%time\n",
    "\n",
    "final_state, (step_size, inverse_mass_matrix), info = stan_warmup.run(\n",
    "    rng_key,\n",
    "    kernel_generator,\n",
    "    initial_state,\n",
    "    1000,\n",
    ")"
   ]
  },
  {
   "cell_type": "markdown",
   "id": "bc9a3aab",
   "metadata": {},
   "source": [
    "We can use the obtained parameters to define a new kernel. Note that we do not have to use the same kernel that was used for the adaptation:"
   ]
  },
  {
   "cell_type": "code",
   "execution_count": 19,
   "id": "4c6cf368",
   "metadata": {},
   "outputs": [],
   "source": [
    "kernel = nuts.kernel(potential, step_size, inverse_mass_matrix)"
   ]
  },
  {
   "cell_type": "code",
   "execution_count": 20,
   "id": "95089f42",
   "metadata": {},
   "outputs": [
    {
     "name": "stdout",
     "output_type": "stream",
     "text": [
      "CPU times: user 2.55 s, sys: 11.6 ms, total: 2.56 s\n",
      "Wall time: 2.52 s\n"
     ]
    }
   ],
   "source": [
    "%%time\n",
    "\n",
    "states = inference_loop(rng_key, nuts_kernel, initial_state, 1_000)\n",
    "\n",
    "loc_samples = states.position[\"loc\"].block_until_ready()\n",
    "scale_samples = states.position[\"scale\"]"
   ]
  },
  {
   "cell_type": "code",
   "execution_count": 21,
   "id": "5c7c6134",
   "metadata": {},
   "outputs": [
    {
     "data": {
      "text/plain": [
       "Text(0, 0.5, 'scale')"
      ]
     },
     "execution_count": 21,
     "metadata": {},
     "output_type": "execute_result"
    },
    {
     "data": {
      "image/png": "[encoded data removed]",
      "text/plain": [
       "<Figure size 1080x432 with 2 Axes>"
      ]
     },
     "metadata": {
      "needs_background": "light"
     },
     "output_type": "display_data"
    }
   ],
   "source": [
    "fig, (ax, ax1) = plt.subplots(ncols=2, figsize=(15,6))\n",
    "ax.plot(loc_samples)\n",
    "ax.set_xlabel(\"Samples\")\n",
    "ax.set_ylabel(\"loc\")\n",
    "\n",
    "ax1.plot(scale_samples)\n",
    "ax1.set_xlabel(\"Samples\")\n",
    "ax1.set_ylabel(\"scale\")"
   ]
  },
  {
   "cell_type": "markdown",
   "id": "f35dc1a2",
   "metadata": {},
   "source": [
    "## Sample multiple chains\n",
    "\n",
    "We can easily sample multiple chains using JAX's `vmap` construct. See the [documentation](https://jax.readthedocs.io/en/latest/jax.html?highlight=vmap#jax.vmap) to understand how the mapping works. "
   ]
  },
  {
   "cell_type": "code",
   "execution_count": 22,
   "id": "0bf22b31",
   "metadata": {},
   "outputs": [],
   "source": [
    "num_chains = 4\n",
    "initial_positions = {\"loc\": np.ones(num_chains), \"scale\": 2. * np.ones(num_chains)}\n",
    "initial_states = jax.vmap(hmc.new_state, in_axes=(0, None))(initial_positions, potential)"
   ]
  },
  {
   "cell_type": "code",
   "execution_count": 23,
   "id": "ba9a129b",
   "metadata": {},
   "outputs": [],
   "source": [
    "def inference_loop_multiple_chains(rng_key, kernel, initial_state, num_samples, num_chains):\n",
    "    def one_step(states, rng_key):\n",
    "        keys = jax.random.split(rng_key, num_chains)\n",
    "        states, _ = jax.vmap(kernel)(keys, states)\n",
    "        return states, states\n",
    "\n",
    "    keys = jax.random.split(rng_key, num_samples)\n",
    "    _, states = jax.lax.scan(one_step, initial_state, keys)\n",
    "\n",
    "    return states"
   ]
  },
  {
   "cell_type": "code",
   "execution_count": 24,
   "id": "c77fde53",
   "metadata": {},
   "outputs": [
    {
     "name": "stdout",
     "output_type": "stream",
     "text": [
      "CPU times: user 2.92 s, sys: 354 ms, total: 3.27 s\n",
      "Wall time: 1.95 s\n"
     ]
    },
    {
     "data": {
      "text/plain": [
       "DeviceArray([[1.5866092, 1.6297967, 1.6689506, 1.672805 ],\n",
       "             [1.6388961, 1.6665258, 1.6916376, 1.7755994],\n",
       "             [1.6681166, 1.6963456, 1.6880739, 1.7831483],\n",
       "             ...,\n",
       "             [9.108203 , 9.561337 , 8.773021 , 9.108065 ],\n",
       "             [9.160922 , 9.531993 , 8.755935 , 9.085443 ],\n",
       "             [9.148049 , 9.531993 , 8.8065605, 9.1586   ]], dtype=float32)"
      ]
     },
     "execution_count": 24,
     "metadata": {},
     "output_type": "execute_result"
    }
   ],
   "source": [
    "%%time\n",
    "states = inference_loop_multiple_chains(rng_key, hmc_kernel, initial_states, 2_000, num_chains)\n",
    "states.position['loc'].block_until_ready()"
   ]
  },
  {
   "cell_type": "markdown",
   "id": "f0c43ce0",
   "metadata": {},
   "source": [
    "This scales very well to hundreds of chains on CPU, tens of thousand on GPU:"
   ]
  },
  {
   "cell_type": "code",
   "execution_count": 25,
   "id": "069a25b5",
   "metadata": {},
   "outputs": [
    {
     "name": "stdout",
     "output_type": "stream",
     "text": [
      "CPU times: user 20.2 s, sys: 5.54 s, total: 25.7 s\n",
      "Wall time: 11 s\n"
     ]
    },
    {
     "data": {
      "text/plain": [
       "DeviceArray([[ 1.6188403,  1.6562082,  1.6789691, ...,  1.5876292,\n",
       "               1.5872068,  1.6263773],\n",
       "             [ 1.6369396,  1.7041371,  1.6566746, ...,  1.6249576,\n",
       "               1.6392759,  1.6642523],\n",
       "             [ 1.7056254,  1.6991565,  1.6145997, ...,  1.6861103,\n",
       "               1.738116 ,  1.6794758],\n",
       "             ...,\n",
       "             [ 9.294902 , 10.217712 ,  8.79843  , ...,  8.833055 ,\n",
       "               9.265411 ,  9.22371  ],\n",
       "             [ 9.337823 , 10.310268 ,  8.755466 , ...,  8.831262 ,\n",
       "               9.258809 ,  9.218547 ],\n",
       "             [ 9.2746525, 10.306898 ,  8.756225 , ...,  8.831262 ,\n",
       "               9.276784 ,  9.233877 ]], dtype=float32)"
      ]
     },
     "execution_count": 25,
     "metadata": {},
     "output_type": "execute_result"
    }
   ],
   "source": [
    "%%time\n",
    "num_chains = 40\n",
    "initial_positions = {\"loc\": np.ones(num_chains), \"scale\": 2. * np.ones(num_chains)}\n",
    "initial_states = jax.vmap(hmc.new_state, in_axes=(0, None))(initial_positions, potential)\n",
    "states = inference_loop_multiple_chains(rng_key, hmc_kernel, initial_states, 2_000, num_chains)\n",
    "states.position['loc'].block_until_ready()"
   ]
  },
  {
   "cell_type": "code",
   "execution_count": 26,
   "id": "d3f3c6de",
   "metadata": {},
   "outputs": [
    {
     "name": "stdout",
     "output_type": "stream",
     "text": [
      "CPU times: user 3min 7s, sys: 12.4 s, total: 3min 19s\n",
      "Wall time: 1min 29s\n"
     ]
    },
    {
     "data": {
      "text/plain": [
       "DeviceArray([[1.6483115, 1.5910562, 1.6310483, ..., 1.5870135, 1.6704323,\n",
       "              1.6440841],\n",
       "             [1.6814109, 1.6378932, 1.647786 , ..., 1.5896027, 1.718825 ,\n",
       "              1.6454687],\n",
       "             [1.7577739, 1.6607739, 1.7478336, ..., 1.5896027, 1.6732789,\n",
       "              1.6738929],\n",
       "             ...,\n",
       "             [9.689667 , 8.446985 , 9.061996 , ..., 8.91248  , 8.239437 ,\n",
       "              9.433724 ],\n",
       "             [9.643398 , 8.456601 , 9.0272455, ..., 8.890434 , 8.157666 ,\n",
       "              9.381471 ],\n",
       "             [9.557168 , 8.501042 , 8.988622 , ..., 8.970274 , 8.203725 ,\n",
       "              9.423823 ]], dtype=float32)"
      ]
     },
     "execution_count": 26,
     "metadata": {},
     "output_type": "execute_result"
    }
   ],
   "source": [
    "%%time\n",
    "num_chains = 400\n",
    "initial_positions = {\"loc\": np.ones(num_chains), \"scale\": 2. * np.ones(num_chains)}\n",
    "initial_states = jax.vmap(hmc.new_state, in_axes=(0, None))(initial_positions, potential)\n",
    "states = inference_loop_multiple_chains(rng_key, hmc_kernel, initial_states, 2_000, num_chains)\n",
    "states.position['loc'].block_until_ready()"
   ]
  },
  {
   "cell_type": "markdown",
   "id": "12458c10",
   "metadata": {},
   "source": [
    "In this example the result is a dictionnary and each entry has shape `(num_samples, num_chains)`. Here's how to access the samples of the second chains for `loc`:"
   ]
  },
  {
   "cell_type": "code",
   "execution_count": 27,
   "id": "36355766",
   "metadata": {},
   "outputs": [
    {
     "data": {
      "text/plain": [
       "DeviceArray([1.5910562, 1.6378932, 1.6607739, ..., 8.446985 , 8.456601 ,\n",
       "             8.501042 ], dtype=float32)"
      ]
     },
     "execution_count": 27,
     "metadata": {},
     "output_type": "execute_result"
    }
   ],
   "source": [
    "states.position['loc'][:,1]"
   ]
  }
 ],
 "metadata": {
  "kernelspec": {
   "display_name": "blackjax",
   "language": "python",
   "name": "blackjax"
  },
  "language_info": {
   "codemirror_mode": {
    "name": "ipython",
    "version": 3
   },
   "file_extension": ".py",
   "mimetype": "text/x-python",
   "name": "python",
   "nbconvert_exporter": "python",
   "pygments_lexer": "ipython3",
   "version": "3.9.5"
  }
 },
 "nbformat": 4,
 "nbformat_minor": 5
}
