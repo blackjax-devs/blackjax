{
 "cells": [
  {
   "cell_type": "markdown",
   "id": "alpine-armstrong",
   "metadata": {},
   "source": [
    "# A quick introduction to Blackjax\n",
    "\n",
    "BlackJAX is an MCMC sampling library based on [JAX](https://github.com/google/jax). BlackJAX provides well-tested and ready to use sampling algorithms. It is also explicitly designed to be modular: it is easy for advanced users to mix-and-match different metrics, integrators, trajectory integrations, etc.\n",
    "\n",
    "In this notebook we provide a simple example based on basic Hamiltonian Monte Carlo and the NUTS algorithm to showcase the architecture and interfaces in the library"
   ]
  },
  {
   "cell_type": "code",
   "execution_count": 1,
   "id": "critical-reading",
   "metadata": {},
   "outputs": [],
   "source": [
    "import functools as ft\n",
    "\n",
    "import jax\n",
    "import jax.numpy as jnp\n",
    "import jax.scipy.stats as stats\n",
    "import matplotlib.pyplot as plt\n",
    "import numpy as np\n",
    "\n",
    "import blackjax.hmc as hmc\n",
    "import blackjax.nuts as nuts"
   ]
  },
  {
   "cell_type": "code",
   "execution_count": 2,
   "id": "a9380ea3",
   "metadata": {},
   "outputs": [
    {
     "name": "stdout",
     "output_type": "stream",
     "text": [
      "Python implementation: CPython\n",
      "Python version       : 3.7.0\n",
      "IPython version      : 7.19.0\n",
      "\n",
      "jax     : 0.2.13\n",
      "jaxlib  : 0.1.67\n",
      "blackjax: 0.1\n",
      "\n",
      "Compiler    : GCC 9.3.0\n",
      "OS          : Linux\n",
      "Release     : 5.11.9-zen1-1-zen\n",
      "Machine     : x86_64\n",
      "Processor   : \n",
      "CPU cores   : 8\n",
      "Architecture: 64bit\n",
      "\n"
     ]
    }
   ],
   "source": [
    "%load_ext watermark\n",
    "%watermark -d -m -v -p jax,jaxlib,blackjax"
   ]
  },
  {
   "cell_type": "markdown",
   "id": "judicial-brief",
   "metadata": {},
   "source": [
    "## The problem\n",
    "\n",
    "We'll generate observations from a normal distribution of known `loc` and `scale` to see if we can recover the parameters in sampling. Let's take a decent-size dataset with 1,000 points:"
   ]
  },
  {
   "cell_type": "code",
   "execution_count": 3,
   "id": "advanced-kidney",
   "metadata": {},
   "outputs": [],
   "source": [
    "loc, scale = 10, 20\n",
    "observed = np.random.normal(loc, scale, size=1_000)"
   ]
  },
  {
   "cell_type": "code",
   "execution_count": 4,
   "id": "ceramic-accessory",
   "metadata": {},
   "outputs": [],
   "source": [
    "def potential_fn(loc, scale, observed=observed):\n",
    "    \"\"\"Univariate Normal\"\"\"\n",
    "    logpdf = stats.norm.logpdf(observed, loc, scale)\n",
    "    return -jnp.sum(logpdf)\n",
    "\n",
    "potential = lambda x: potential_fn(**x)"
   ]
  },
  {
   "cell_type": "markdown",
   "id": "6e464438",
   "metadata": {},
   "source": [
    "## HMC"
   ]
  },
  {
   "cell_type": "markdown",
   "id": "heated-nightmare",
   "metadata": {},
   "source": [
    "### Set the initial state"
   ]
  },
  {
   "cell_type": "markdown",
   "id": "6719bdb6",
   "metadata": {},
   "source": [
    "The initial state of the HMC algorithm requires not only an initial position, but also the potential energy and gradient of the potential energy at this position. BlackJAX provides a `new_state` function to initialize the state from an initial position."
   ]
  },
  {
   "cell_type": "code",
   "execution_count": 5,
   "id": "transparent-passage",
   "metadata": {},
   "outputs": [
    {
     "name": "stderr",
     "output_type": "stream",
     "text": [
      "WARNING:absl:No GPU/TPU found, falling back to CPU. (Set TF_CPP_MIN_LOG_LEVEL=0 and rerun for more info.)\n"
     ]
    },
    {
     "data": {
      "text/plain": [
       "HMCState(position={'loc': 1.0, 'scale': 2.0}, potential_energy=DeviceArray(63186.145, dtype=float32), potential_energy_grad={'loc': DeviceArray(-2364.5989, dtype=float32), 'scale': DeviceArray(-61074.047, dtype=float32)})"
      ]
     },
     "execution_count": 5,
     "metadata": {},
     "output_type": "execute_result"
    }
   ],
   "source": [
    "initial_position = {\"loc\": 1.0, \"scale\": 2.0}\n",
    "initial_state = hmc.new_state(initial_position, potential)\n",
    "initial_state"
   ]
  },
  {
   "cell_type": "markdown",
   "id": "stylish-haven",
   "metadata": {},
   "source": [
    "### Sampler parameters"
   ]
  },
  {
   "cell_type": "markdown",
   "id": "be1028da",
   "metadata": {},
   "source": [
    "To initiate the HMC sampler we need to provide a mass matrix, a step size and a fixed number of integration steps. In the near future BlackJAX will provide adaptation algorithms that compute the mass matrix and the step size automatically."
   ]
  },
  {
   "cell_type": "code",
   "execution_count": 6,
   "id": "deluxe-lesson",
   "metadata": {},
   "outputs": [],
   "source": [
    "inv_mass_matrix = np.array([.5, .5])\n",
    "params = hmc.HMCParameters(\n",
    "    num_integration_steps=60, step_size=1e-3, inv_mass_matrix=inv_mass_matrix\n",
    ")"
   ]
  },
  {
   "cell_type": "markdown",
   "id": "solved-arrest",
   "metadata": {},
   "source": [
    "### Build the kernel and inference loop"
   ]
  },
  {
   "cell_type": "markdown",
   "id": "bee3f792",
   "metadata": {},
   "source": [
    "The HMC kernel is easy to obtain:"
   ]
  },
  {
   "cell_type": "code",
   "execution_count": 7,
   "id": "232ec5b9",
   "metadata": {},
   "outputs": [
    {
     "name": "stdout",
     "output_type": "stream",
     "text": [
      "CPU times: user 31 ms, sys: 1.6 ms, total: 32.6 ms\n",
      "Wall time: 30.7 ms\n"
     ]
    }
   ],
   "source": [
    "%%time\n",
    "hmc_kernel = hmc.kernel(potential, params)\n",
    "hmc_kernel = jax.jit(hmc_kernel)"
   ]
  },
  {
   "cell_type": "markdown",
   "id": "113e728e",
   "metadata": {},
   "source": [
    "BlackJAX does not provide a default inference loop, but it easy to implement with JAX's `lax.scan`:"
   ]
  },
  {
   "cell_type": "code",
   "execution_count": 8,
   "id": "comparative-trinity",
   "metadata": {},
   "outputs": [],
   "source": [
    "def inference_loop(rng_key, kernel, initial_state, num_samples):\n",
    "    def one_step(state, rng_key):\n",
    "        state, _ = kernel(rng_key, state)\n",
    "        return state, state\n",
    "\n",
    "    keys = jax.random.split(rng_key, num_samples)\n",
    "    _, states = jax.lax.scan(one_step, initial_state, keys)\n",
    "\n",
    "    return states"
   ]
  },
  {
   "cell_type": "markdown",
   "id": "understanding-click",
   "metadata": {},
   "source": [
    "### Inference"
   ]
  },
  {
   "cell_type": "code",
   "execution_count": 9,
   "id": "fixed-fisher",
   "metadata": {},
   "outputs": [
    {
     "name": "stdout",
     "output_type": "stream",
     "text": [
      "CPU times: user 3.8 s, sys: 13.3 ms, total: 3.81 s\n",
      "Wall time: 3.82 s\n"
     ]
    }
   ],
   "source": [
    "%%time\n",
    "rng_key = jax.random.PRNGKey(0)\n",
    "states = inference_loop(rng_key, hmc_kernel, initial_state, 10_000)\n",
    "\n",
    "loc_samples = states.position[\"loc\"].block_until_ready()\n",
    "scale_samples = states.position[\"scale\"]"
   ]
  },
  {
   "cell_type": "code",
   "execution_count": 10,
   "id": "b2868edc",
   "metadata": {},
   "outputs": [
    {
     "data": {
      "text/plain": [
       "Text(0, 0.5, 'scale')"
      ]
     },
     "execution_count": 10,
     "metadata": {},
     "output_type": "execute_result"
    },
    {
     "data": {
      "image/png": "[encoded data removed]",
      "text/plain": [
       "<Figure size 1080x432 with 2 Axes>"
      ]
     },
     "metadata": {
      "needs_background": "light"
     },
     "output_type": "display_data"
    }
   ],
   "source": [
    "fig, (ax, ax1) = plt.subplots(ncols=2, figsize=(15,6))\n",
    "ax.plot(loc_samples)\n",
    "ax.set_xlabel(\"Samples\")\n",
    "ax.set_ylabel(\"loc\")\n",
    "\n",
    "ax1.plot(scale_samples)\n",
    "ax1.set_xlabel(\"Samples\")\n",
    "ax.set_ylabel(\"scale\")"
   ]
  },
  {
   "cell_type": "markdown",
   "id": "bf6f8495",
   "metadata": {},
   "source": [
    "## NUTS"
   ]
  },
  {
   "cell_type": "markdown",
   "id": "a6344fd3",
   "metadata": {},
   "source": [
    "NUTS is a *dynamic* algorithm: the number of integration steps is determined at runtime. We still need to specify a step size and a mass matrix:"
   ]
  },
  {
   "cell_type": "code",
   "execution_count": 11,
   "id": "grand-syndication",
   "metadata": {},
   "outputs": [],
   "source": [
    "inv_mass_matrix = np.array([.5, .5])\n",
    "params = nuts.NUTSParameters(\n",
    "    step_size=1e-3, inv_mass_matrix=inv_mass_matrix\n",
    ")"
   ]
  },
  {
   "cell_type": "code",
   "execution_count": 12,
   "id": "76e8630e",
   "metadata": {},
   "outputs": [
    {
     "data": {
      "text/plain": [
       "HMCState(position={'loc': 1.0, 'scale': 2.0}, potential_energy=DeviceArray(63186.145, dtype=float32), potential_energy_grad={'loc': DeviceArray(-2364.5989, dtype=float32), 'scale': DeviceArray(-61074.047, dtype=float32)})"
      ]
     },
     "execution_count": 12,
     "metadata": {},
     "output_type": "execute_result"
    }
   ],
   "source": [
    "initial_position = {\"loc\": 1.0, \"scale\": 2.0}\n",
    "initial_state = nuts.new_state(initial_position, potential)\n",
    "initial_state"
   ]
  },
  {
   "cell_type": "code",
   "execution_count": 13,
   "id": "f29c7e90",
   "metadata": {},
   "outputs": [
    {
     "name": "stdout",
     "output_type": "stream",
     "text": [
      "CPU times: user 3.49 ms, sys: 96 µs, total: 3.59 ms\n",
      "Wall time: 2.32 ms\n"
     ]
    }
   ],
   "source": [
    "%%time\n",
    "nuts_kernel = jax.jit(nuts.kernel(potential, params))"
   ]
  },
  {
   "cell_type": "code",
   "execution_count": 14,
   "id": "2631c3e6",
   "metadata": {},
   "outputs": [
    {
     "name": "stdout",
     "output_type": "stream",
     "text": [
      "CPU times: user 30.7 s, sys: 33.5 ms, total: 30.7 s\n",
      "Wall time: 30.8 s\n"
     ]
    }
   ],
   "source": [
    "%%time\n",
    "rng_key = jax.random.PRNGKey(0)\n",
    "states = inference_loop(rng_key, nuts_kernel, initial_state, 4_000)\n",
    "\n",
    "loc_samples = states.position[\"loc\"].block_until_ready()\n",
    "scale_samples = states.position[\"scale\"]"
   ]
  },
  {
   "cell_type": "code",
   "execution_count": 15,
   "id": "8abc3bb7",
   "metadata": {},
   "outputs": [
    {
     "data": {
      "text/plain": [
       "Text(0, 0.5, 'scale')"
      ]
     },
     "execution_count": 15,
     "metadata": {},
     "output_type": "execute_result"
    },
    {
     "data": {
      "image/png": "[encoded data removed]",
      "text/plain": [
       "<Figure size 1080x432 with 2 Axes>"
      ]
     },
     "metadata": {
      "needs_background": "light"
     },
     "output_type": "display_data"
    }
   ],
   "source": [
    "fig, (ax, ax1) = plt.subplots(ncols=2, figsize=(15,6))\n",
    "ax.plot(loc_samples)\n",
    "ax.set_xlabel(\"Samples\")\n",
    "ax.set_ylabel(\"loc\")\n",
    "\n",
    "ax1.plot(scale_samples)\n",
    "ax1.set_xlabel(\"Samples\")\n",
    "ax1.set_ylabel(\"scale\")"
   ]
  },
  {
   "cell_type": "markdown",
   "metadata": {},
   "source": [
    "## Sample multiple chains\n",
    "\n",
    "We can easily sample multiple chains using JAX's `vmap` construct. See the [documentation](https://jax.readthedocs.io/en/latest/jax.html?highlight=vmap#jax.vmap) to understand how the mapping works. "
   ]
  },
  {
   "cell_type": "code",
   "execution_count": 16,
   "metadata": {},
   "outputs": [],
   "source": [
    "num_chains = 20\n",
    "\n",
    "initial_positions = {\"loc\": np.ones(num_chains), \"scale\": 2. * np.ones(num_chains)}\n",
    "initial_states = jax.vmap(hmc.new_state, in_axes=(0, None))(initial_positions, potential)"
   ]
  },
  {
   "cell_type": "code",
   "execution_count": 17,
   "metadata": {},
   "outputs": [],
   "source": [
    "def inference_loop_multiple_chains(rng_key, kernel, initial_state, num_samples, num_chains):\n",
    "    def one_step(states, rng_key):\n",
    "        keys = jax.random.split(rng_key, num_chains)\n",
    "        states, _ = jax.vmap(kernel)(keys, states)\n",
    "        return states, states\n",
    "\n",
    "    keys = jax.random.split(rng_key, num_samples)\n",
    "    _, states = jax.lax.scan(one_step, initial_state, keys)\n",
    "\n",
    "    return states"
   ]
  },
  {
   "cell_type": "code",
   "execution_count": 18,
   "metadata": {},
   "outputs": [
    {
     "name": "stdout",
     "output_type": "stream",
     "text": [
      "CPU times: user 6.84 s, sys: 5.75 ms, total: 6.85 s\n",
      "Wall time: 6.89 s\n"
     ]
    }
   ],
   "source": [
    "%%time\n",
    "states = inference_loop_multiple_chains(rng_key, hmc_kernel, initial_states, 1_000, num_chains)"
   ]
  },
  {
   "cell_type": "markdown",
   "metadata": {},
   "source": [
    "In this example the result is a dictionnary and each entry has shape `(num_samples, num_chains)`. Here's how to access the samples of the second chains for `loc`:"
   ]
  },
  {
   "cell_type": "code",
   "execution_count": 19,
   "metadata": {},
   "outputs": [
    {
     "data": {
      "text/plain": [
       "DeviceArray([ 1.7034559,  1.7350358,  1.7682861,  1.884674 ,  1.8374205,\n",
       "              1.9318616,  2.0081518,  2.0326037,  2.0379682,  2.055426 ,\n",
       "              2.0276234,  2.1225402,  2.1692631,  2.239247 ,  2.224838 ,\n",
       "              2.208249 ,  2.2284677,  2.2243347,  2.304786 ,  2.298273 ,\n",
       "              2.457543 ,  2.4687064,  2.5295513,  2.5938487,  2.574562 ,\n",
       "              2.6277106,  2.700722 ,  2.733365 ,  2.7376227,  2.7882888,\n",
       "              2.873467 ,  2.9650714,  2.9577124,  2.9285557,  2.996533 ,\n",
       "              3.0418117,  3.0806668,  3.110267 ,  3.1600282,  3.2083366,\n",
       "              3.183337 ,  3.1716375,  3.225754 ,  3.1984713,  3.2232304,\n",
       "              3.2706752,  3.2582912,  3.2782755,  3.2236204,  3.2637453,\n",
       "              3.2055583,  3.2771988,  3.3663554,  3.3763258,  3.3360896,\n",
       "              3.4279194,  3.4385684,  3.4597723,  3.463362 ,  3.4751287,\n",
       "              3.520903 ,  3.5922031,  3.5814161,  3.5839138,  3.6521554,\n",
       "              3.6740642,  3.7319496,  3.7328596,  3.7235556,  3.7698445,\n",
       "              3.780458 ,  3.7479787,  3.7661881,  3.753114 ,  3.7783682,\n",
       "              3.7815928,  3.7314854,  3.727774 ,  3.7838416,  3.7781105,\n",
       "              3.7497056,  3.798996 ,  3.8566911,  3.8274882,  3.8112147,\n",
       "              3.835585 ,  3.8702285,  3.9283144,  3.990542 ,  4.01029  ,\n",
       "              3.9969997,  3.9759712,  4.068602 ,  4.1042705,  4.1262965,\n",
       "              4.128062 ,  4.1246157,  4.209439 ,  4.1842947,  4.2169266,\n",
       "              4.2235026,  4.174706 ,  4.1973267,  4.184642 ,  4.140267 ,\n",
       "              4.178683 ,  4.1950393,  4.2298517,  4.239575 ,  4.281907 ,\n",
       "              4.3021946,  4.3381195,  4.3727818,  4.3823547,  4.398326 ,\n",
       "              4.407845 ,  4.4651814,  4.4517803,  4.4340963,  4.481328 ,\n",
       "              4.4292564,  4.4839897,  4.463179 ,  4.5251656,  4.5486245,\n",
       "              4.629149 ,  4.63633  ,  4.580211 ,  4.62115  ,  4.69481  ,\n",
       "              4.7033257,  4.7411485,  4.797664 ,  4.855593 ,  4.8064694,\n",
       "              4.8030143,  4.8962493,  4.9079895,  4.93999  ,  4.8965025,\n",
       "              4.918209 ,  4.9164906,  4.9166636,  4.9450545,  4.991783 ,\n",
       "              4.9886312,  5.051081 ,  5.096846 ,  5.1046286,  5.1373014,\n",
       "              5.1158648,  5.1972923,  5.1712275,  5.1777034,  5.197092 ,\n",
       "              5.186606 ,  5.2072277,  5.259801 ,  5.27289  ,  5.29581  ,\n",
       "              5.307817 ,  5.3141527,  5.420177 ,  5.509734 ,  5.4989047,\n",
       "              5.4784436,  5.545809 ,  5.5903935,  5.5642047,  5.6198845,\n",
       "              5.649978 ,  5.6154957,  5.622342 ,  5.6407995,  5.6268997,\n",
       "              5.5613627,  5.63877  ,  5.680429 ,  5.6951423,  5.693057 ,\n",
       "              5.7465034,  5.765558 ,  5.755166 ,  5.6960626,  5.7287426,\n",
       "              5.764609 ,  5.7676535,  5.834149 ,  5.8584914,  5.89224  ,\n",
       "              5.924917 ,  5.927676 ,  6.017598 ,  5.93173  ,  5.994958 ,\n",
       "              6.0290112,  6.019489 ,  6.010691 ,  6.072768 ,  6.0151706,\n",
       "              6.0423183,  6.0439506,  6.063537 ,  6.0878873,  6.070321 ,\n",
       "              6.170576 ,  6.235581 ,  6.232566 ,  6.2669926,  6.174455 ,\n",
       "              6.156202 ,  6.03668  ,  6.0679317,  6.057154 ,  6.050197 ,\n",
       "              6.0890846,  6.1701393,  6.1508317,  6.168893 ,  6.1684055,\n",
       "              6.1293592,  6.184168 ,  6.132053 ,  6.1079803,  6.1293826,\n",
       "              6.1150894,  6.0746202,  6.044565 ,  6.050726 ,  6.087276 ,\n",
       "              5.9914217,  5.9911027,  5.947458 ,  5.9661307,  6.0332174,\n",
       "              5.97761  ,  6.0040727,  6.0672064,  6.0972137,  6.1226254,\n",
       "              6.0966887,  6.121349 ,  6.1414723,  6.13701  ,  6.105623 ,\n",
       "              6.115725 ,  6.1822505,  6.2307353,  6.147715 ,  6.1234927,\n",
       "              6.144912 ,  6.1422024,  6.1460633,  6.1146708,  6.0772038,\n",
       "              6.133658 ,  6.0779176,  6.0862074,  6.0686917,  6.0724883,\n",
       "              6.16948  ,  6.14977  ,  6.233574 ,  6.15152  ,  6.250016 ,\n",
       "              6.2624187,  6.208051 ,  6.219071 ,  6.224633 ,  6.2708406,\n",
       "              6.340713 ,  6.3360143,  6.3215575,  6.362249 ,  6.4513464,\n",
       "              6.5095434,  6.552891 ,  6.5927725,  6.6387763,  6.7289233,\n",
       "              6.7906375,  6.7615867,  6.811862 ,  6.8430185,  6.833182 ,\n",
       "              6.854662 ,  6.838497 ,  6.877827 ,  6.944011 ,  6.902391 ,\n",
       "              6.986547 ,  7.0168123,  6.9816103,  6.9802465,  6.9774876,\n",
       "              7.0148335,  6.992657 ,  7.010554 ,  6.987108 ,  7.0297804,\n",
       "              7.0221205,  6.991867 ,  6.9614925,  6.976545 ,  6.9178443,\n",
       "              6.9608755,  6.9749155,  6.9444757,  6.982129 ,  6.954146 ,\n",
       "              7.01139  ,  6.9802685,  6.9292154,  6.9683986,  6.9494724,\n",
       "              6.9865046,  6.9555793,  6.94891  ,  7.011134 ,  7.0536265,\n",
       "              7.0184126,  7.042041 ,  7.0677176,  7.12134  ,  7.1580124,\n",
       "              7.2177444,  7.228889 ,  7.252005 ,  7.265762 ,  7.265154 ,\n",
       "              7.1873345,  7.096664 ,  7.050426 ,  7.1144857,  7.140363 ,\n",
       "              7.1322846,  7.127774 ,  7.1921268,  7.146493 ,  7.225617 ,\n",
       "              7.1764   ,  7.194527 ,  7.1354485,  7.132418 ,  7.177715 ,\n",
       "              7.1600795,  7.152526 ,  7.1895785,  7.216157 ,  7.18777  ,\n",
       "              7.2705135,  7.292154 ,  7.272534 ,  7.2695704,  7.2709785,\n",
       "              7.2422   ,  7.28674  ,  7.2923713,  7.323485 ,  7.2862954,\n",
       "              7.3288608,  7.328129 ,  7.231215 ,  7.271343 ,  7.310315 ,\n",
       "              7.300148 ,  7.330009 ,  7.357246 ,  7.3328815,  7.365492 ,\n",
       "              7.3611774,  7.3965354,  7.3673935,  7.379194 ,  7.412066 ,\n",
       "              7.367064 ,  7.3975105,  7.452038 ,  7.4644275,  7.4697595,\n",
       "              7.5146985,  7.472522 ,  7.5699344,  7.5528946,  7.6160207,\n",
       "              7.6529703,  7.653544 ,  7.7329373,  7.7278814,  7.672155 ,\n",
       "              7.635155 ,  7.633524 ,  7.6042995,  7.6349845,  7.6535864,\n",
       "              7.66917  ,  7.6717486,  7.693408 ,  7.686518 ,  7.666559 ,\n",
       "              7.6703796,  7.6958113,  7.6744113,  7.685013 ,  7.520363 ,\n",
       "              7.5422344,  7.568765 ,  7.5616016,  7.61114  ,  7.5892434,\n",
       "              7.639003 ,  7.730949 ,  7.7417946,  7.7925014,  7.7860146,\n",
       "              7.771637 ,  7.705063 ,  7.7815194,  7.8970976,  7.9053373,\n",
       "              7.897095 ,  7.942792 ,  7.9239697,  7.916212 ,  7.8615494,\n",
       "              7.899273 ,  7.838358 ,  7.862465 ,  7.908825 ,  7.935647 ,\n",
       "              7.976383 ,  8.01573  ,  8.003569 ,  8.039839 ,  8.031456 ,\n",
       "              8.024774 ,  8.062464 ,  8.101715 ,  8.067417 ,  8.086439 ,\n",
       "              8.028963 ,  8.074586 ,  8.097267 ,  8.086088 ,  8.058367 ,\n",
       "              8.05907  ,  7.9973974,  7.943148 ,  7.916894 ,  7.927434 ,\n",
       "              8.03037  ,  8.032102 ,  8.012863 ,  7.998801 ,  7.920616 ,\n",
       "              7.9868903,  8.024581 ,  7.962079 ,  7.879763 ,  7.9178233,\n",
       "              7.900761 ,  7.923222 ,  7.967402 ,  8.033626 ,  8.0511055,\n",
       "              8.032434 ,  8.026437 ,  8.080332 ,  8.156574 ,  8.108577 ,\n",
       "              8.141097 ,  8.1038685,  8.106703 ,  8.16864  ,  8.13285  ,\n",
       "              8.127677 ,  8.145075 ,  8.114848 ,  8.123923 ,  8.101155 ,\n",
       "              8.044528 ,  8.068909 ,  7.976123 ,  7.995933 ,  8.057411 ,\n",
       "              8.012249 ,  8.072519 ,  8.064813 ,  8.067303 ,  8.056698 ,\n",
       "              7.9870453,  7.936082 ,  7.980835 ,  8.019837 ,  8.100067 ,\n",
       "              8.129022 ,  8.171242 ,  8.197109 ,  8.200822 ,  8.205126 ,\n",
       "              8.223116 ,  8.324267 ,  8.312805 ,  8.361099 ,  8.371734 ,\n",
       "              8.387112 ,  8.370375 ,  8.395924 ,  8.431295 ,  8.45113  ,\n",
       "              8.418033 ,  8.455415 ,  8.489904 ,  8.514509 ,  8.526346 ,\n",
       "              8.489509 ,  8.532981 ,  8.526487 ,  8.535248 ,  8.582038 ,\n",
       "              8.522582 ,  8.503442 ,  8.445844 ,  8.428995 ,  8.42409  ,\n",
       "              8.443596 ,  8.469593 ,  8.469079 ,  8.494362 ,  8.445262 ,\n",
       "              8.411054 ,  8.420459 ,  8.390487 ,  8.329086 ,  8.331253 ,\n",
       "              8.394675 ,  8.379458 ,  8.462052 ,  8.437283 ,  8.380501 ,\n",
       "              8.367311 ,  8.42406  ,  8.375817 ,  8.405485 ,  8.3653   ,\n",
       "              8.391977 ,  8.399149 ,  8.367353 ,  8.323319 ,  8.355223 ,\n",
       "              8.446572 ,  8.456042 ,  8.453038 ,  8.48975  ,  8.499944 ,\n",
       "              8.490466 ,  8.533097 ,  8.545771 ,  8.506711 ,  8.547399 ,\n",
       "              8.536186 ,  8.596593 ,  8.590621 ,  8.59028  ,  8.57574  ,\n",
       "              8.535763 ,  8.5187645,  8.493674 ,  8.482804 ,  8.486515 ,\n",
       "              8.534464 ,  8.511197 ,  8.488812 ,  8.515129 ,  8.510519 ,\n",
       "              8.546304 ,  8.47556  ,  8.493028 ,  8.528747 ,  8.506479 ,\n",
       "              8.494488 ,  8.541978 ,  8.559522 ,  8.6199   ,  8.60192  ,\n",
       "              8.603439 ,  8.691596 ,  8.66223  ,  8.632243 ,  8.615404 ,\n",
       "              8.533702 ,  8.562304 ,  8.471217 ,  8.483634 ,  8.489223 ,\n",
       "              8.584942 ,  8.597527 ,  8.565585 ,  8.590614 ,  8.6388445,\n",
       "              8.622692 ,  8.59868  ,  8.644997 ,  8.726768 ,  8.771724 ,\n",
       "              8.787288 ,  8.746655 ,  8.772855 ,  8.786924 ,  8.791794 ,\n",
       "              8.794306 ,  8.796464 ,  8.779643 ,  8.754285 ,  8.8836   ,\n",
       "              8.852685 ,  8.885838 ,  8.917309 ,  8.937148 ,  8.930447 ,\n",
       "              8.946191 ,  9.008763 ,  9.072674 ,  9.0664   ,  9.096418 ,\n",
       "              9.070103 ,  9.043692 ,  9.083345 ,  9.104411 ,  9.104854 ,\n",
       "              9.087347 ,  9.061857 ,  9.148695 ,  9.212271 ,  9.213553 ,\n",
       "              9.242728 ,  9.214469 ,  9.244264 ,  9.219951 ,  9.262253 ,\n",
       "              9.35389  ,  9.260749 ,  9.281542 ,  9.291654 ,  9.248885 ,\n",
       "              9.276658 ,  9.264582 ,  9.254725 ,  9.28339  ,  9.333033 ,\n",
       "              9.295884 ,  9.271775 ,  9.33935  ,  9.325537 ,  9.294161 ,\n",
       "              9.323584 ,  9.393785 ,  9.313262 ,  9.245072 ,  9.274509 ,\n",
       "              9.291692 ,  9.284647 ,  9.303864 ,  9.248231 ,  9.259826 ,\n",
       "              9.236386 ,  9.213897 ,  9.250431 ,  9.230014 ,  9.27157  ,\n",
       "              9.268313 ,  9.364087 ,  9.350551 ,  9.32881  ,  9.379745 ,\n",
       "              9.394691 ,  9.395722 ,  9.364664 ,  9.365608 ,  9.333631 ,\n",
       "              9.324834 ,  9.307871 ,  9.257237 ,  9.303498 ,  9.260993 ,\n",
       "              9.215706 ,  9.251965 ,  9.224853 ,  9.182957 ,  9.222506 ,\n",
       "              9.211337 ,  9.266    ,  9.289278 ,  9.335752 ,  9.367388 ,\n",
       "              9.301042 ,  9.270517 ,  9.305927 ,  9.267057 ,  9.207494 ,\n",
       "              9.283859 ,  9.2783785,  9.332141 ,  9.368971 ,  9.3395405,\n",
       "              9.287958 ,  9.315073 ,  9.349497 ,  9.378612 ,  9.416563 ,\n",
       "              9.364706 ,  9.352497 ,  9.39591  ,  9.422115 ,  9.54641  ,\n",
       "              9.531019 ,  9.551295 ,  9.596389 ,  9.578374 ,  9.604365 ,\n",
       "              9.681519 ,  9.753905 ,  9.746886 ,  9.743322 ,  9.702475 ,\n",
       "              9.74792  ,  9.660984 ,  9.695793 ,  9.648171 ,  9.705176 ,\n",
       "              9.605628 ,  9.601279 ,  9.607212 ,  9.55375  ,  9.5330305,\n",
       "              9.510823 ,  9.49936  ,  9.513911 ,  9.554904 ,  9.539816 ,\n",
       "              9.555773 ,  9.592004 ,  9.587438 ,  9.552629 ,  9.579856 ,\n",
       "              9.596987 ,  9.679045 ,  9.610385 ,  9.608659 ,  9.70113  ,\n",
       "              9.672333 ,  9.6446085,  9.660154 ,  9.576022 ,  9.580139 ,\n",
       "              9.568317 ,  9.610115 ,  9.595987 ,  9.639565 ,  9.682655 ,\n",
       "              9.738057 ,  9.777212 ,  9.783762 ,  9.756926 ,  9.72658  ,\n",
       "              9.731943 ,  9.710171 ,  9.699771 ,  9.631746 ,  9.660553 ,\n",
       "              9.68291  ,  9.75249  ,  9.7690525,  9.766098 ,  9.792471 ,\n",
       "              9.900817 ,  9.890071 ,  9.8272   ,  9.8454685,  9.847252 ,\n",
       "              9.834472 ,  9.83482  ,  9.82939  ,  9.788901 ,  9.771485 ,\n",
       "              9.714136 ,  9.68825  ,  9.625002 ,  9.591441 ,  9.63728  ,\n",
       "              9.660565 ,  9.65916  ,  9.621885 ,  9.549928 ,  9.544905 ,\n",
       "              9.487236 ,  9.614782 ,  9.632542 ,  9.590571 ,  9.600785 ,\n",
       "              9.534366 ,  9.503962 ,  9.441399 ,  9.505524 ,  9.508434 ,\n",
       "              9.526184 ,  9.553222 ,  9.4953575,  9.507893 ,  9.456443 ,\n",
       "              9.577956 ,  9.665557 ,  9.675515 ,  9.573208 ,  9.586909 ,\n",
       "              9.6465225,  9.611839 ,  9.55448  ,  9.516007 ,  9.531439 ,\n",
       "              9.55125  ,  9.542119 ,  9.52696  ,  9.486179 ,  9.567647 ,\n",
       "              9.493551 ,  9.51161  ,  9.518853 ,  9.502132 ,  9.550848 ,\n",
       "              9.541533 ,  9.548199 ,  9.525208 ,  9.416963 ,  9.416268 ,\n",
       "              9.402837 ,  9.449996 ,  9.382367 ,  9.429997 ,  9.408987 ,\n",
       "              9.43497  ,  9.381609 ,  9.391693 ,  9.473813 ,  9.418066 ,\n",
       "              9.400188 ,  9.497269 ,  9.5248   ,  9.474638 ,  9.46733  ,\n",
       "              9.477706 ,  9.419373 ,  9.4037075,  9.386477 ,  9.422712 ,\n",
       "              9.41113  ,  9.376458 ,  9.348079 ,  9.329691 ,  9.3092   ,\n",
       "              9.328858 ,  9.274628 ,  9.183778 ,  9.198605 ,  9.275419 ,\n",
       "              9.236109 ,  9.216418 ,  9.16762  ,  9.209636 ,  9.158378 ,\n",
       "              9.134385 ,  9.149264 ,  9.145893 ,  9.126952 ,  9.154802 ,\n",
       "              9.175204 ,  9.141791 ,  9.198761 ,  9.159187 ,  9.174216 ,\n",
       "              9.195026 ,  9.2597275,  9.272083 ,  9.309889 ,  9.303459 ,\n",
       "              9.230001 ,  9.209387 ,  9.220001 ,  9.266847 ,  9.269066 ,\n",
       "              9.293756 ,  9.31527  ,  9.317941 ,  9.340886 ,  9.356713 ,\n",
       "              9.351592 ,  9.350039 ,  9.317605 ,  9.252247 ,  9.287388 ,\n",
       "              9.285428 ,  9.290161 ,  9.293296 ,  9.295168 ,  9.275905 ,\n",
       "              9.305928 ,  9.311943 ,  9.39212  ,  9.38048  ,  9.403255 ,\n",
       "              9.346644 ,  9.327808 ,  9.408354 ,  9.404072 ,  9.40828  ,\n",
       "              9.493663 ,  9.541175 ,  9.587041 ,  9.629649 ,  9.644776 ,\n",
       "              9.662305 ,  9.658248 ,  9.647217 ,  9.599861 ,  9.617714 ,\n",
       "              9.718709 ,  9.669995 ,  9.704525 ,  9.840043 ,  9.886906 ,\n",
       "              9.867073 ,  9.855503 ,  9.841565 ,  9.848546 ,  9.838773 ,\n",
       "              9.813073 ,  9.799373 ,  9.794972 ,  9.749379 ,  9.677962 ,\n",
       "              9.688477 ,  9.717211 ,  9.727253 ,  9.687254 ,  9.653449 ,\n",
       "              9.607662 ,  9.60796  ,  9.602597 ,  9.597595 ,  9.547448 ,\n",
       "              9.522396 ,  9.513377 ,  9.578521 ,  9.590665 ,  9.5932255,\n",
       "              9.628224 ,  9.594435 ,  9.534708 ,  9.534311 ,  9.447172 ,\n",
       "              9.434041 ,  9.426203 ,  9.37257  ,  9.331151 ,  9.332149 ,\n",
       "              9.3615675,  9.371266 ,  9.405425 ,  9.368683 ,  9.409283 ,\n",
       "              9.442131 ,  9.478414 ,  9.538832 ,  9.582257 ,  9.627777 ,\n",
       "              9.637934 ,  9.619809 ,  9.703783 ,  9.763014 ,  9.866436 ,\n",
       "              9.910629 ,  9.882272 ,  9.904454 ,  9.929336 ,  9.894516 ,\n",
       "              9.850674 ,  9.89755  ,  9.945575 , 10.007443 , 10.043772 ,\n",
       "             10.081427 , 10.053981 , 10.066874 , 10.100346 , 10.08831  ,\n",
       "             10.086393 , 10.030013 , 10.02066  ,  9.986017 ,  9.984124 ],            dtype=float32)"
      ]
     },
     "execution_count": 19,
     "metadata": {},
     "output_type": "execute_result"
    }
   ],
   "source": [
    "states.position['loc'][:,1]"
   ]
  },
  {
   "cell_type": "code",
   "execution_count": null,
   "metadata": {},
   "outputs": [],
   "source": []
  }
 ],
 "metadata": {
  "kernelspec": {
   "display_name": "blackjax",
   "language": "python",
   "name": "blackjax"
  },
  "language_info": {
   "codemirror_mode": {
    "name": "ipython",
    "version": 3
   },
   "file_extension": ".py",
   "mimetype": "text/x-python",
   "name": "python",
   "nbconvert_exporter": "python",
   "pygments_lexer": "ipython3",
   "version": "3.7.0"
  }
 },
 "nbformat": 4,
 "nbformat_minor": 5
}
