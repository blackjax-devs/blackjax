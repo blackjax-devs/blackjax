{
 "cells": [
  {
   "cell_type": "markdown",
   "id": "alpine-armstrong",
   "metadata": {},
   "source": [
    "# A quick introduction to Blackjax\n",
    "\n",
    "BlackJAX is an MCMC sampling library based on [JAX](https://github.com/google/jax). BlackJAX provides well-tested and ready to use sampling algorithms. It is also explicitly designed to be modular: it is easy for advanced users to mix-and-match different metrics, integrators, trajectory integrations, etc.\n",
    "\n",
    "In this notebook we provide a simple example based on basic Hamiltonian Monte Carlo and the NUTS algorithm to showcase the architecture and interfaces in the library"
   ]
  },
  {
   "cell_type": "code",
   "execution_count": 1,
   "id": "critical-reading",
   "metadata": {},
   "outputs": [],
   "source": [
    "import jax\n",
    "import jax.numpy as jnp\n",
    "import jax.scipy.stats as stats\n",
    "import matplotlib.pyplot as plt\n",
    "import numpy as np\n",
    "\n",
    "import blackjax.hmc as hmc\n",
    "import blackjax.nuts as nuts\n",
    "import blackjax.stan_warmup as stan_warmup"
   ]
  },
  {
   "cell_type": "code",
   "execution_count": 2,
   "id": "a9380ea3",
   "metadata": {},
   "outputs": [
    {
     "name": "stdout",
     "output_type": "stream",
     "text": [
      "Python implementation: CPython\n",
      "Python version       : 3.9.5\n",
      "IPython version      : 7.22.0\n",
      "\n",
      "jax     : 0.2.13\n",
      "jaxlib  : 0.1.67\n",
      "blackjax: 0.1\n",
      "\n",
      "Compiler    : GCC 10.2.0\n",
      "OS          : Linux\n",
      "Release     : 5.12.4-arch1-2\n",
      "Machine     : x86_64\n",
      "Processor   : \n",
      "CPU cores   : 24\n",
      "Architecture: 64bit\n",
      "\n"
     ]
    }
   ],
   "source": [
    "%load_ext watermark\n",
    "%watermark -d -m -v -p jax,jaxlib,blackjax"
   ]
  },
  {
   "cell_type": "code",
   "execution_count": 2,
   "id": "7c76960f",
   "metadata": {},
   "outputs": [
    {
     "name": "stderr",
     "output_type": "stream",
     "text": [
      "WARNING:absl:No GPU/TPU found, falling back to CPU. (Set TF_CPP_MIN_LOG_LEVEL=0 and rerun for more info.)\n"
     ]
    },
    {
     "data": {
      "text/plain": [
       "[<jaxlib.xla_extension.Device at 0x7f4dde91ccf0>]"
      ]
     },
     "execution_count": 2,
     "metadata": {},
     "output_type": "execute_result"
    }
   ],
   "source": [
    "jax.devices()"
   ]
  },
  {
   "cell_type": "markdown",
   "id": "judicial-brief",
   "metadata": {},
   "source": [
    "## The problem\n",
    "\n",
    "We'll generate observations from a normal distribution of known `loc` and `scale` to see if we can recover the parameters in sampling. Let's take a decent-size dataset with 1,000 points:"
   ]
  },
  {
   "cell_type": "code",
   "execution_count": 3,
   "id": "advanced-kidney",
   "metadata": {},
   "outputs": [],
   "source": [
    "loc, scale = 10, 20\n",
    "observed = np.random.normal(loc, scale, size=1_000)"
   ]
  },
  {
   "cell_type": "code",
   "execution_count": 4,
   "id": "ceramic-accessory",
   "metadata": {},
   "outputs": [],
   "source": [
    "def logprob_fn(loc, scale, observed=observed):\n",
    "    \"\"\"Univariate Normal\"\"\"\n",
    "    logpdf = stats.norm.logpdf(observed, loc, scale)\n",
    "    return jnp.sum(logpdf)\n",
    "\n",
    "\n",
    "logprob = lambda x: logprob_fn(**x)"
   ]
  },
  {
   "cell_type": "markdown",
   "id": "6e464438",
   "metadata": {},
   "source": [
    "## HMC"
   ]
  },
  {
   "cell_type": "markdown",
   "id": "heated-nightmare",
   "metadata": {},
   "source": [
    "### Set the initial state"
   ]
  },
  {
   "cell_type": "markdown",
   "id": "6719bdb6",
   "metadata": {},
   "source": [
    "The initial state of the HMC algorithm requires not only an initial position, but also the potential energy and gradient of the potential energy at this position. BlackJAX provides a `new_state` function to initialize the state from an initial position."
   ]
  },
  {
   "cell_type": "code",
   "execution_count": 5,
   "id": "transparent-passage",
   "metadata": {},
   "outputs": [
    {
     "data": {
      "text/plain": [
       "HMCState(position={'loc': 1.0, 'scale': 2.0}, potential_energy=DeviceArray(60472.02, dtype=float32), potential_energy_grad={'loc': DeviceArray(-2243.2825, dtype=float32, weak_type=True), 'scale': DeviceArray(-58359.918, dtype=float32, weak_type=True)})"
      ]
     },
     "execution_count": 5,
     "metadata": {},
     "output_type": "execute_result"
    }
   ],
   "source": [
    "initial_position = {\"loc\": 1.0, \"scale\": 2.0}\n",
    "initial_state = hmc.new_state(initial_position, logprob)\n",
    "initial_state"
   ]
  },
  {
   "cell_type": "markdown",
   "id": "stylish-haven",
   "metadata": {},
   "source": [
    "### Sampler parameters"
   ]
  },
  {
   "cell_type": "markdown",
   "id": "be1028da",
   "metadata": {},
   "source": [
    "To initiate the HMC sampler we need to provide a mass matrix, a step size and a fixed number of integration steps."
   ]
  },
  {
   "cell_type": "code",
   "execution_count": 6,
   "id": "deluxe-lesson",
   "metadata": {},
   "outputs": [],
   "source": [
    "inv_mass_matrix = np.array([0.5, 0.5])\n",
    "num_integration_steps = 60\n",
    "step_size = 1e-3"
   ]
  },
  {
   "cell_type": "markdown",
   "id": "solved-arrest",
   "metadata": {},
   "source": [
    "### Build the kernel and inference loop"
   ]
  },
  {
   "cell_type": "markdown",
   "id": "bee3f792",
   "metadata": {},
   "source": [
    "The HMC kernel is easy to obtain:"
   ]
  },
  {
   "cell_type": "code",
   "execution_count": 7,
   "id": "232ec5b9",
   "metadata": {},
   "outputs": [
    {
     "name": "stdout",
     "output_type": "stream",
     "text": [
      "CPU times: user 21 ms, sys: 1.38 ms, total: 22.4 ms\n",
      "Wall time: 19.6 ms\n"
     ]
    }
   ],
   "source": [
    "%%time\n",
    "hmc_kernel = hmc.kernel(logprob, step_size, inv_mass_matrix, num_integration_steps)\n",
    "hmc_kernel = jax.jit(hmc_kernel)"
   ]
  },
  {
   "cell_type": "markdown",
   "id": "113e728e",
   "metadata": {},
   "source": [
    "BlackJAX does not provide a default inference loop, but it easy to implement with JAX's `lax.scan`:"
   ]
  },
  {
   "cell_type": "code",
   "execution_count": 8,
   "id": "comparative-trinity",
   "metadata": {},
   "outputs": [],
   "source": [
    "def inference_loop(rng_key, kernel, initial_state, num_samples):\n",
    "    def one_step(state, rng_key):\n",
    "        state, _ = kernel(rng_key, state)\n",
    "        return state, state\n",
    "\n",
    "    keys = jax.random.split(rng_key, num_samples)\n",
    "    _, states = jax.lax.scan(one_step, initial_state, keys)\n",
    "\n",
    "    return states"
   ]
  },
  {
   "cell_type": "markdown",
   "id": "understanding-click",
   "metadata": {},
   "source": [
    "### Inference"
   ]
  },
  {
   "cell_type": "code",
   "execution_count": 9,
   "id": "fixed-fisher",
   "metadata": {},
   "outputs": [
    {
     "name": "stdout",
     "output_type": "stream",
     "text": [
      "CPU times: user 1.55 s, sys: 411 µs, total: 1.55 s\n",
      "Wall time: 1.54 s\n"
     ]
    }
   ],
   "source": [
    "%%time\n",
    "rng_key = jax.random.PRNGKey(0)\n",
    "states = inference_loop(rng_key, hmc_kernel, initial_state, 10_000)\n",
    "\n",
    "loc_samples = states.position[\"loc\"].block_until_ready()\n",
    "scale_samples = states.position[\"scale\"]"
   ]
  },
  {
   "cell_type": "code",
   "execution_count": 10,
   "id": "b2868edc",
   "metadata": {},
   "outputs": [
    {
     "data": {
      "text/plain": [
       "Text(0, 0.5, 'scale')"
      ]
     },
     "execution_count": 10,
     "metadata": {},
     "output_type": "execute_result"
    },
    {
     "data": {
      "image/png": "[encoded data removed]",
      "text/plain": [
       "<Figure size 1080x432 with 2 Axes>"
      ]
     },
     "metadata": {
      "needs_background": "light"
     },
     "output_type": "display_data"
    }
   ],
   "source": [
    "fig, (ax, ax1) = plt.subplots(ncols=2, figsize=(15, 6))\n",
    "ax.plot(loc_samples)\n",
    "ax.set_xlabel(\"Samples\")\n",
    "ax.set_ylabel(\"loc\")\n",
    "\n",
    "ax1.plot(scale_samples)\n",
    "ax1.set_xlabel(\"Samples\")\n",
    "ax.set_ylabel(\"scale\")"
   ]
  },
  {
   "cell_type": "markdown",
   "id": "bf6f8495",
   "metadata": {},
   "source": [
    "## NUTS"
   ]
  },
  {
   "cell_type": "markdown",
   "id": "a6344fd3",
   "metadata": {},
   "source": [
    "NUTS is a *dynamic* algorithm: the number of integration steps is determined at runtime. We still need to specify a step size and a mass matrix:"
   ]
  },
  {
   "cell_type": "code",
   "execution_count": 11,
   "id": "grand-syndication",
   "metadata": {},
   "outputs": [],
   "source": [
    "inv_mass_matrix = np.array([0.5, 0.5])\n",
    "step_size = 1e-3"
   ]
  },
  {
   "cell_type": "code",
   "execution_count": 12,
   "id": "76e8630e",
   "metadata": {},
   "outputs": [
    {
     "data": {
      "text/plain": [
       "HMCState(position={'loc': 1.0, 'scale': 2.0}, potential_energy=DeviceArray(60472.02, dtype=float32), potential_energy_grad={'loc': DeviceArray(-2243.2825, dtype=float32, weak_type=True), 'scale': DeviceArray(-58359.918, dtype=float32, weak_type=True)})"
      ]
     },
     "execution_count": 12,
     "metadata": {},
     "output_type": "execute_result"
    }
   ],
   "source": [
    "initial_position = {\"loc\": 1.0, \"scale\": 2.0}\n",
    "initial_state = nuts.new_state(initial_position, logprob)\n",
    "initial_state"
   ]
  },
  {
   "cell_type": "code",
   "execution_count": 13,
   "id": "f29c7e90",
   "metadata": {},
   "outputs": [
    {
     "name": "stdout",
     "output_type": "stream",
     "text": [
      "CPU times: user 316 µs, sys: 236 µs, total: 552 µs\n",
      "Wall time: 441 µs\n"
     ]
    }
   ],
   "source": [
    "%%time\n",
    "nuts_kernel = jax.jit(nuts.kernel(logprob, step_size, inv_mass_matrix))"
   ]
  },
  {
   "cell_type": "code",
   "execution_count": 14,
   "id": "2631c3e6",
   "metadata": {},
   "outputs": [
    {
     "name": "stdout",
     "output_type": "stream",
     "text": [
      "CPU times: user 7.44 s, sys: 0 ns, total: 7.44 s\n",
      "Wall time: 7.44 s\n"
     ]
    }
   ],
   "source": [
    "%%time\n",
    "rng_key = jax.random.PRNGKey(0)\n",
    "states = inference_loop(rng_key, nuts_kernel, initial_state, 4_000)\n",
    "\n",
    "loc_samples = states.position[\"loc\"].block_until_ready()\n",
    "scale_samples = states.position[\"scale\"]"
   ]
  },
  {
   "cell_type": "code",
   "execution_count": 15,
   "id": "8abc3bb7",
   "metadata": {},
   "outputs": [
    {
     "data": {
      "text/plain": [
       "Text(0, 0.5, 'scale')"
      ]
     },
     "execution_count": 15,
     "metadata": {},
     "output_type": "execute_result"
    },
    {
     "data": {
      "image/png": "[encoded data removed]",
      "text/plain": [
       "<Figure size 1080x432 with 2 Axes>"
      ]
     },
     "metadata": {
      "needs_background": "light"
     },
     "output_type": "display_data"
    }
   ],
   "source": [
    "fig, (ax, ax1) = plt.subplots(ncols=2, figsize=(15, 6))\n",
    "ax.plot(loc_samples)\n",
    "ax.set_xlabel(\"Samples\")\n",
    "ax.set_ylabel(\"loc\")\n",
    "\n",
    "ax1.plot(scale_samples)\n",
    "ax1.set_xlabel(\"Samples\")\n",
    "ax1.set_ylabel(\"scale\")"
   ]
  },
  {
   "cell_type": "markdown",
   "id": "8d0cb714",
   "metadata": {},
   "source": [
    "### Use Stan's window adaptation\n",
    "\n",
    "Specifying the step size and inverse mass matrix is cumbersome. We can use Stan's window adaptation to get reasonable values for them so we have, in practice, no parameter to specify.\n",
    "\n",
    "The adaptation algorithm takes a function that returns a transition kernel given a step size and an inverse mass matrix:"
   ]
  },
  {
   "cell_type": "code",
   "execution_count": 16,
   "id": "f374a68d",
   "metadata": {},
   "outputs": [],
   "source": [
    "kernel_generator = lambda step_size, inverse_mass_matrix: hmc.kernel(\n",
    "    logprob, step_size, inverse_mass_matrix, 30\n",
    ")"
   ]
  },
  {
   "cell_type": "code",
   "execution_count": 17,
   "id": "f8f1951c",
   "metadata": {},
   "outputs": [
    {
     "name": "stdout",
     "output_type": "stream",
     "text": [
      "CPU times: user 1.6 s, sys: 16.9 ms, total: 1.61 s\n",
      "Wall time: 1.61 s\n"
     ]
    }
   ],
   "source": [
    "%%time\n",
    "\n",
    "final_state, (step_size, inverse_mass_matrix), info = stan_warmup.run(\n",
    "    rng_key,\n",
    "    kernel_generator,\n",
    "    initial_state,\n",
    "    1000,\n",
    ")"
   ]
  },
  {
   "cell_type": "markdown",
   "id": "bc9a3aab",
   "metadata": {},
   "source": [
    "We can use the obtained parameters to define a new kernel. Note that we do not have to use the same kernel that was used for the adaptation:"
   ]
  },
  {
   "cell_type": "code",
   "execution_count": 18,
   "id": "4c6cf368",
   "metadata": {},
   "outputs": [],
   "source": [
    "kernel = nuts.kernel(logprob, step_size, inverse_mass_matrix)"
   ]
  },
  {
   "cell_type": "code",
   "execution_count": 19,
   "id": "95089f42",
   "metadata": {},
   "outputs": [
    {
     "name": "stdout",
     "output_type": "stream",
     "text": [
      "CPU times: user 2.74 s, sys: 12.3 ms, total: 2.75 s\n",
      "Wall time: 2.75 s\n"
     ]
    }
   ],
   "source": [
    "%%time\n",
    "\n",
    "states = inference_loop(rng_key, nuts_kernel, initial_state, 1_000)\n",
    "\n",
    "loc_samples = states.position[\"loc\"].block_until_ready()\n",
    "scale_samples = states.position[\"scale\"]"
   ]
  },
  {
   "cell_type": "code",
   "execution_count": 20,
   "id": "5c7c6134",
   "metadata": {},
   "outputs": [
    {
     "data": {
      "text/plain": [
       "Text(0, 0.5, 'scale')"
      ]
     },
     "execution_count": 20,
     "metadata": {},
     "output_type": "execute_result"
    },
    {
     "data": {
      "image/png": "[encoded data removed]",
      "text/plain": [
       "<Figure size 1080x432 with 2 Axes>"
      ]
     },
     "metadata": {
      "needs_background": "light"
     },
     "output_type": "display_data"
    }
   ],
   "source": [
    "fig, (ax, ax1) = plt.subplots(ncols=2, figsize=(15, 6))\n",
    "ax.plot(loc_samples)\n",
    "ax.set_xlabel(\"Samples\")\n",
    "ax.set_ylabel(\"loc\")\n",
    "\n",
    "ax1.plot(scale_samples)\n",
    "ax1.set_xlabel(\"Samples\")\n",
    "ax1.set_ylabel(\"scale\")"
   ]
  },
  {
   "cell_type": "markdown",
   "id": "f35dc1a2",
   "metadata": {},
   "source": [
    "## Sample multiple chains\n",
    "\n",
    "We can easily sample multiple chains using JAX's `vmap` construct. See the [documentation](https://jax.readthedocs.io/en/latest/jax.html?highlight=vmap#jax.vmap) to understand how the mapping works. "
   ]
  },
  {
   "cell_type": "code",
   "execution_count": 21,
   "id": "0bf22b31",
   "metadata": {},
   "outputs": [],
   "source": [
    "num_chains = 4\n",
    "initial_positions = {\"loc\": np.ones(num_chains), \"scale\": 2.0 * np.ones(num_chains)}\n",
    "initial_states = jax.vmap(hmc.new_state, in_axes=(0, None))(initial_positions, logprob)"
   ]
  },
  {
   "cell_type": "code",
   "execution_count": 22,
   "id": "ba9a129b",
   "metadata": {},
   "outputs": [],
   "source": [
    "def inference_loop_multiple_chains(\n",
    "    rng_key, kernel, initial_state, num_samples, num_chains\n",
    "):\n",
    "    def one_step(states, rng_key):\n",
    "        keys = jax.random.split(rng_key, num_chains)\n",
    "        states, _ = jax.vmap(kernel)(keys, states)\n",
    "        return states, states\n",
    "\n",
    "    keys = jax.random.split(rng_key, num_samples)\n",
    "    _, states = jax.lax.scan(one_step, initial_state, keys)\n",
    "\n",
    "    return states"
   ]
  },
  {
   "cell_type": "code",
   "execution_count": 23,
   "id": "c77fde53",
   "metadata": {},
   "outputs": [
    {
     "name": "stdout",
     "output_type": "stream",
     "text": [
      "CPU times: user 1.72 s, sys: 1.81 ms, total: 1.72 s\n",
      "Wall time: 1.72 s\n"
     ]
    },
    {
     "data": {
      "text/plain": [
       "DeviceArray([[ 1.5903435,  1.6335154,  1.6726662,  1.6765156],\n",
       "             [ 1.6437029,  1.6713134,  1.696419 ,  1.7803787],\n",
       "             [ 1.6739514,  1.7021623,  1.6938928,  1.7889783],\n",
       "             ...,\n",
       "             [ 9.828512 , 10.974476 ,  9.345378 ,  9.508518 ],\n",
       "             [ 9.879216 , 10.941713 ,  9.326548 ,  9.484633 ],\n",
       "             [ 9.864326 , 11.038358 ,  9.375434 ,  9.556537 ]],            dtype=float32)"
      ]
     },
     "execution_count": 23,
     "metadata": {},
     "output_type": "execute_result"
    }
   ],
   "source": [
    "%%time\n",
    "states = inference_loop_multiple_chains(\n",
    "    rng_key, hmc_kernel, initial_states, 2_000, num_chains\n",
    ")\n",
    "states.position[\"loc\"].block_until_ready()"
   ]
  },
  {
   "cell_type": "markdown",
   "id": "f0c43ce0",
   "metadata": {},
   "source": [
    "This scales very well to hundreds of chains on CPU, tens of thousand on GPU:"
   ]
  },
  {
   "cell_type": "code",
   "execution_count": 24,
   "id": "069a25b5",
   "metadata": {},
   "outputs": [
    {
     "name": "stdout",
     "output_type": "stream",
     "text": [
      "CPU times: user 19.2 s, sys: 5.81 s, total: 25 s\n",
      "Wall time: 10.7 s\n"
     ]
    },
    {
     "data": {
      "text/plain": [
       "DeviceArray([[ 1.622577 ,  1.6599401,  1.6826757, ...,  1.5913264,\n",
       "               1.5909824,  1.6300284],\n",
       "             [ 1.6417466,  1.7089385,  1.6614485, ...,  1.6297364,\n",
       "               1.6441263,  1.6689726],\n",
       "             [ 1.7114624,  1.7049967,  1.6204208, ...,  1.6919439,\n",
       "               1.7439996,  1.6852375],\n",
       "             ...,\n",
       "             [10.400582 , 11.590353 ,  9.523914 , ...,  9.520041 ,\n",
       "              10.102302 ,  9.744035 ],\n",
       "             [10.440774 , 11.679456 ,  9.478949 , ...,  9.51636  ,\n",
       "              10.093449 ,  9.737312 ],\n",
       "             [10.374878 , 11.672651 ,  9.477699 , ...,  9.568926 ,\n",
       "              10.109182 ,  9.751093 ]], dtype=float32)"
      ]
     },
     "execution_count": 24,
     "metadata": {},
     "output_type": "execute_result"
    }
   ],
   "source": [
    "%%time\n",
    "num_chains = 40\n",
    "initial_positions = {\"loc\": np.ones(num_chains), \"scale\": 2.0 * np.ones(num_chains)}\n",
    "initial_states = jax.vmap(hmc.new_state, in_axes=(0, None))(initial_positions, logprob)\n",
    "states = inference_loop_multiple_chains(\n",
    "    rng_key, hmc_kernel, initial_states, 2_000, num_chains\n",
    ")\n",
    "states.position[\"loc\"].block_until_ready()"
   ]
  },
  {
   "cell_type": "code",
   "execution_count": 25,
   "id": "d3f3c6de",
   "metadata": {},
   "outputs": [
    {
     "name": "stdout",
     "output_type": "stream",
     "text": [
      "CPU times: user 3min 5s, sys: 12.5 s, total: 3min 17s\n",
      "Wall time: 1min 27s\n"
     ]
    },
    {
     "data": {
      "text/plain": [
       "DeviceArray([[ 1.6520205,  1.5947721,  1.6347532, ...,  1.59074  ,\n",
       "               1.6741142,  1.6478163],\n",
       "             [ 1.6861906,  1.642684 ,  1.6525587, ...,  1.5944048,\n",
       "               1.723569 ,  1.6502701],\n",
       "             [ 1.7635925,  1.6666039,  1.7536322, ...,  1.5656928,\n",
       "               1.6790485,  1.6797278],\n",
       "             ...,\n",
       "             [10.058978 ,  8.583919 ,  8.985765 , ...,  9.83065  ,\n",
       "               8.514502 , 10.289421 ],\n",
       "             [10.01161  ,  8.592935 ,  8.950894 , ...,  9.806014 ,\n",
       "               8.431637 , 10.234788 ],\n",
       "             [ 9.924277 ,  8.636774 ,  8.9121475, ...,  9.883268 ,\n",
       "               8.476598 , 10.274766 ]], dtype=float32)"
      ]
     },
     "execution_count": 25,
     "metadata": {},
     "output_type": "execute_result"
    }
   ],
   "source": [
    "%%time\n",
    "num_chains = 400\n",
    "initial_positions = {\"loc\": np.ones(num_chains), \"scale\": 2.0 * np.ones(num_chains)}\n",
    "initial_states = jax.vmap(hmc.new_state, in_axes=(0, None))(initial_positions, logprob)\n",
    "states = inference_loop_multiple_chains(\n",
    "    rng_key, hmc_kernel, initial_states, 2_000, num_chains\n",
    ")\n",
    "states.position[\"loc\"].block_until_ready()"
   ]
  },
  {
   "cell_type": "markdown",
   "id": "12458c10",
   "metadata": {},
   "source": [
    "In this example the result is a dictionnary and each entry has shape `(num_samples, num_chains)`. Here's how to access the samples of the second chains for `loc`:"
   ]
  },
  {
   "cell_type": "code",
   "execution_count": 26,
   "id": "36355766",
   "metadata": {},
   "outputs": [
    {
     "data": {
      "text/plain": [
       "DeviceArray([1.5947721, 1.642684 , 1.6666039, ..., 8.583919 , 8.592935 ,\n",
       "             8.636774 ], dtype=float32)"
      ]
     },
     "execution_count": 26,
     "metadata": {},
     "output_type": "execute_result"
    }
   ],
   "source": [
    "states.position[\"loc\"][:, 1]"
   ]
  }
 ],
 "metadata": {
  "kernelspec": {
   "display_name": "blackjax",
   "language": "python",
   "name": "blackjax"
  },
  "language_info": {
   "codemirror_mode": {
    "name": "ipython",
    "version": 3
   },
   "file_extension": ".py",
   "mimetype": "text/x-python",
   "name": "python",
   "nbconvert_exporter": "python",
   "pygments_lexer": "ipython3",
   "version": "3.9.6"
  }
 },
 "nbformat": 4,
 "nbformat_minor": 5
}
