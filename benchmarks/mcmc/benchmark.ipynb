{
 "cells": [
  {
   "cell_type": "code",
   "execution_count": 11,
   "metadata": {},
   "outputs": [
    {
     "data": {
      "text/html": [
       "\n",
       "<style>\n",
       "    /* Turns off some styling */\n",
       "    progress {\n",
       "        /* gets rid of default border in Firefox and Opera. */\n",
       "        border: none;\n",
       "        /* Needs to be in here for Safari polyfill so background images work as expected. */\n",
       "        background-size: auto;\n",
       "    }\n",
       "    progress:not([value]), progress:not([value])::-webkit-progress-bar {\n",
       "        background: repeating-linear-gradient(45deg, #7e7e7e, #7e7e7e 10px, #5c5c5c 10px, #5c5c5c 20px);\n",
       "    }\n",
       "    .progress-bar-interrupted, .progress-bar-interrupted::-webkit-progress-bar {\n",
       "        background: #F44336;\n",
       "    }\n",
       "</style>\n"
      ],
      "text/plain": [
       "<IPython.core.display.HTML object>"
      ]
     },
     "metadata": {},
     "output_type": "display_data"
    },
    {
     "data": {
      "text/html": [
       "\n",
       "    <div>\n",
       "      <progress value='1000000' class='' max='1000000' style='width:300px; height:20px; vertical-align: middle;'></progress>\n",
       "      100.00% [1000000/1000000 00:00&lt;?]\n",
       "    </div>\n",
       "    "
      ],
      "text/plain": [
       "<IPython.core.display.HTML object>"
      ]
     },
     "metadata": {},
     "output_type": "display_data"
    },
    {
     "name": "stdout",
     "output_type": "stream",
     "text": [
      "\n",
      "Traced<ShapedArray(float32[2])>with<BatchTrace(level=1/0)> with\n",
      "  val = Array([[-0.004184 , -1.5177863]], dtype=float32)\n",
      "  batch_dim = 0\n",
      "crossing 1000000\n",
      "True mean [0. 0.]\n",
      "True std [10.          4.35889894]\n",
      "Empirical mean [-0.004184  -1.5177863]\n",
      "Empirical std [7.0250397 2.204241 ]\n"
     ]
    },
    {
     "data": {
      "text/html": [
       "\n",
       "<style>\n",
       "    /* Turns off some styling */\n",
       "    progress {\n",
       "        /* gets rid of default border in Firefox and Opera. */\n",
       "        border: none;\n",
       "        /* Needs to be in here for Safari polyfill so background images work as expected. */\n",
       "        background-size: auto;\n",
       "    }\n",
       "    progress:not([value]), progress:not([value])::-webkit-progress-bar {\n",
       "        background: repeating-linear-gradient(45deg, #7e7e7e, #7e7e7e 10px, #5c5c5c 10px, #5c5c5c 20px);\n",
       "    }\n",
       "    .progress-bar-interrupted, .progress-bar-interrupted::-webkit-progress-bar {\n",
       "        background: #F44336;\n",
       "    }\n",
       "</style>\n"
      ],
      "text/plain": [
       "<IPython.core.display.HTML object>"
      ]
     },
     "metadata": {},
     "output_type": "display_data"
    },
    {
     "data": {
      "text/html": [
       "\n",
       "    <div>\n",
       "      <progress value='1000000' class='' max='1000000' style='width:300px; height:20px; vertical-align: middle;'></progress>\n",
       "      100.00% [1000000/1000000 00:00&lt;?]\n",
       "    </div>\n",
       "    "
      ],
      "text/plain": [
       "<IPython.core.display.HTML object>"
      ]
     },
     "metadata": {},
     "output_type": "display_data"
    },
    {
     "name": "stdout",
     "output_type": "stream",
     "text": [
      "\n",
      "Traced<ShapedArray(float32[2])>with<BatchTrace(level=1/0)> with\n",
      "  val = Array([[ 0.00508401, -1.5205412 ]], dtype=float32)\n",
      "  batch_dim = 0\n",
      "crossing 1000000\n",
      "True mean [0. 0.]\n",
      "True std [10.          4.35889894]\n",
      "Empirical mean [ 0.00508401 -1.5205412 ]\n",
      "Empirical std [7.0250273 2.2118993]\n"
     ]
    },
    {
     "data": {
      "text/html": [
       "\n",
       "<style>\n",
       "    /* Turns off some styling */\n",
       "    progress {\n",
       "        /* gets rid of default border in Firefox and Opera. */\n",
       "        border: none;\n",
       "        /* Needs to be in here for Safari polyfill so background images work as expected. */\n",
       "        background-size: auto;\n",
       "    }\n",
       "    progress:not([value]), progress:not([value])::-webkit-progress-bar {\n",
       "        background: repeating-linear-gradient(45deg, #7e7e7e, #7e7e7e 10px, #5c5c5c 10px, #5c5c5c 20px);\n",
       "    }\n",
       "    .progress-bar-interrupted, .progress-bar-interrupted::-webkit-progress-bar {\n",
       "        background: #F44336;\n",
       "    }\n",
       "</style>\n"
      ],
      "text/plain": [
       "<IPython.core.display.HTML object>"
      ]
     },
     "metadata": {},
     "output_type": "display_data"
    },
    {
     "data": {
      "text/html": [
       "\n",
       "    <div>\n",
       "      <progress value='1000000' class='' max='1000000' style='width:300px; height:20px; vertical-align: middle;'></progress>\n",
       "      100.00% [1000000/1000000 00:00&lt;?]\n",
       "    </div>\n",
       "    "
      ],
      "text/plain": [
       "<IPython.core.display.HTML object>"
      ]
     },
     "metadata": {},
     "output_type": "display_data"
    },
    {
     "name": "stdout",
     "output_type": "stream",
     "text": [
      "\n",
      "Traced<ShapedArray(float32[2])>with<BatchTrace(level=1/0)> with\n",
      "  val = Array([[ 0.00371127, -1.5180322 ]], dtype=float32)\n",
      "  batch_dim = 0\n",
      "crossing 1000000\n",
      "True mean [0. 0.]\n",
      "True std [10.          4.35889894]\n",
      "Empirical mean [ 0.00371127 -1.5180322 ]\n",
      "Empirical std [7.0259323 2.2059674]\n"
     ]
    },
    {
     "data": {
      "text/html": [
       "\n",
       "<style>\n",
       "    /* Turns off some styling */\n",
       "    progress {\n",
       "        /* gets rid of default border in Firefox and Opera. */\n",
       "        border: none;\n",
       "        /* Needs to be in here for Safari polyfill so background images work as expected. */\n",
       "        background-size: auto;\n",
       "    }\n",
       "    progress:not([value]), progress:not([value])::-webkit-progress-bar {\n",
       "        background: repeating-linear-gradient(45deg, #7e7e7e, #7e7e7e 10px, #5c5c5c 10px, #5c5c5c 20px);\n",
       "    }\n",
       "    .progress-bar-interrupted, .progress-bar-interrupted::-webkit-progress-bar {\n",
       "        background: #F44336;\n",
       "    }\n",
       "</style>\n"
      ],
      "text/plain": [
       "<IPython.core.display.HTML object>"
      ]
     },
     "metadata": {},
     "output_type": "display_data"
    },
    {
     "data": {
      "text/html": [
       "\n",
       "    <div>\n",
       "      <progress value='1000000' class='' max='1000000' style='width:300px; height:20px; vertical-align: middle;'></progress>\n",
       "      100.00% [1000000/1000000 00:00&lt;?]\n",
       "    </div>\n",
       "    "
      ],
      "text/plain": [
       "<IPython.core.display.HTML object>"
      ]
     },
     "metadata": {},
     "output_type": "display_data"
    },
    {
     "name": "stdout",
     "output_type": "stream",
     "text": [
      "\n",
      "Traced<ShapedArray(float32[2])>with<BatchTrace(level=1/0)> with\n",
      "  val = Array([[ 0.01146103, -1.5166684 ]], dtype=float32)\n",
      "  batch_dim = 0\n",
      "crossing 1000000\n",
      "True mean [0. 0.]\n",
      "True std [10.          4.35889894]\n",
      "Empirical mean [ 0.01146103 -1.5166684 ]\n",
      "Empirical std [7.0318165 2.213777 ]\n"
     ]
    },
    {
     "data": {
      "text/html": [
       "\n",
       "<style>\n",
       "    /* Turns off some styling */\n",
       "    progress {\n",
       "        /* gets rid of default border in Firefox and Opera. */\n",
       "        border: none;\n",
       "        /* Needs to be in here for Safari polyfill so background images work as expected. */\n",
       "        background-size: auto;\n",
       "    }\n",
       "    progress:not([value]), progress:not([value])::-webkit-progress-bar {\n",
       "        background: repeating-linear-gradient(45deg, #7e7e7e, #7e7e7e 10px, #5c5c5c 10px, #5c5c5c 20px);\n",
       "    }\n",
       "    .progress-bar-interrupted, .progress-bar-interrupted::-webkit-progress-bar {\n",
       "        background: #F44336;\n",
       "    }\n",
       "</style>\n"
      ],
      "text/plain": [
       "<IPython.core.display.HTML object>"
      ]
     },
     "metadata": {},
     "output_type": "display_data"
    },
    {
     "data": {
      "text/html": [
       "\n",
       "    <div>\n",
       "      <progress value='1000000' class='' max='1000000' style='width:300px; height:20px; vertical-align: middle;'></progress>\n",
       "      100.00% [1000000/1000000 00:00&lt;?]\n",
       "    </div>\n",
       "    "
      ],
      "text/plain": [
       "<IPython.core.display.HTML object>"
      ]
     },
     "metadata": {},
     "output_type": "display_data"
    },
    {
     "name": "stdout",
     "output_type": "stream",
     "text": [
      "\n",
      "Traced<ShapedArray(float32[2])>with<BatchTrace(level=1/0)> with\n",
      "  val = Array([[ 7.5468089e-04, -1.5207368e+00]], dtype=float32)\n",
      "  batch_dim = 0\n",
      "crossing 1000000\n",
      "True mean [0. 0.]\n",
      "True std [10.          4.35889894]\n",
      "Empirical mean [ 7.5468089e-04 -1.5207368e+00]\n",
      "Empirical std [7.0231533 2.2026107]\n"
     ]
    },
    {
     "data": {
      "text/plain": [
       "defaultdict(float,\n",
       "            {('Banana', (1.196002, 50.0)): Array(0., dtype=float32),\n",
       "             ('Banana', (1.196002, 55.0)): Array(0., dtype=float32),\n",
       "             ('Banana', (1.196002, 60.0)): Array(0., dtype=float32),\n",
       "             ('Banana', (1.196002, 65.0)): Array(0., dtype=float32),\n",
       "             ('Banana', (1.196002, 70.0)): Array(0., dtype=float32)})"
      ]
     },
     "execution_count": 11,
     "metadata": {},
     "output_type": "execute_result"
    }
   ],
   "source": [
    "from collections import defaultdict\n",
    "import itertools\n",
    "import jax\n",
    "import numpy as np\n",
    "\n",
    "from benchmark import benchmark_chains, cumulative_avg, err, ess, get_num_latents\n",
    "import blackjax\n",
    "from blackjax.mcmc.mhmclmc import rescale\n",
    "from blackjax.util import run_inference_algorithm\n",
    "import jax.numpy as jnp \n",
    "\n",
    "from inference_models import models\n",
    "\n",
    "def sampler_mhmclmc(step_size, L):\n",
    "\n",
    "    def s(logdensity_fn, num_steps, initial_position, key):\n",
    "\n",
    "        num_steps_per_traj = L/step_size\n",
    "        alg = blackjax.mcmc.mhmclmc.mhmclmc(\n",
    "        logdensity_fn=logdensity_fn,\n",
    "        step_size=step_size,\n",
    "        integration_steps_fn = lambda k: jnp.round(jax.random.uniform(k) * rescale(num_steps_per_traj+ 0.5)) ,\n",
    "        # integration_steps_fn = lambda _ : 5,\n",
    "        # integration_steps_fn = lambda key: jnp.ceil(jax.random.poisson(key, L/step_size )) ,\n",
    "\n",
    "        )\n",
    "        \n",
    "        _, out, info = run_inference_algorithm(\n",
    "        rng_key=key,\n",
    "        initial_state_or_position=initial_position,\n",
    "        inference_algorithm=alg,\n",
    "        num_steps=num_steps, \n",
    "        transform=lambda x: x.position, \n",
    "        progress_bar=True)\n",
    "\n",
    "        print(out.mean(axis=0))\n",
    "\n",
    "        # print(info.acceptance_rate.mean(), \"acceptance probability\")\n",
    "        # print(out.var(axis=0), \"acceptance probability\")\n",
    "\n",
    "        return out, num_steps_per_traj\n",
    "\n",
    "    return s\n",
    "\n",
    "results = defaultdict(float)\n",
    "\n",
    "# def benchmark(model, sampler, n=100000):\n",
    "\n",
    "\n",
    "\n",
    "#     identity_fn = model.sample_transformations['identity']\n",
    "#     # print('True mean', identity_fn.ground_truth_mean)\n",
    "#     # print('True std', identity_fn.ground_truth_standard_deviation)\n",
    "#     # print(\"Empirical mean\", samples.mean(axis=0))\n",
    "#     # print(\"Empirical std\", samples.std(axis=0))\n",
    "\n",
    "#     logdensity_fn = model.unnormalized_log_prob\n",
    "#     d = get_num_latents(model)\n",
    "#     initial_position = jax.random.normal(jax.random.PRNGKey(0), (d,))\n",
    "#     samples, num_steps_per_traj = sampler(logdensity_fn, n, initial_position, jax.random.PRNGKey(0))\n",
    "#     # print(samples[-1], samples[0], \"samps\", samples.shape)\n",
    "\n",
    "#     favg, fvar = identity_fn.ground_truth_mean, identity_fn.ground_truth_standard_deviation**2\n",
    "#     err_t = err(favg, fvar, jnp.average)(cumulative_avg(samples))\n",
    "#     # print(err(favg, fvar, jnp.average)(samples[:2]), samples[:10], \"errt\")\n",
    "#     # print(err_t[-1], \"benchmark err_t[0]\")\n",
    "#     ess_per_sample = ess(err_t, grad_evals_per_step=2)\n",
    "    \n",
    "#     return ess_per_sample\n",
    "\n",
    "for model in [\"Banana\"]:\n",
    "    # for sampler in [\"mclmc\"]:\n",
    "    # for sampler in itertools.product([60.786648], [15.196002]):\n",
    "    # for sampler in itertools.product([15.196002], [60.786648]):\n",
    "    for sampler in itertools.product([1.196002], np.linspace(50, 70, 5)):\n",
    "        # result = benchmark(models[model], samplers[sampler])\n",
    "        # result = benchmark_chains(models[model], samplers[sampler])\n",
    "        result = benchmark_chains(models[model], sampler_mhmclmc(*sampler), n=1000000, batch=1)\n",
    "        # result = benchmark(models[model], sampler_mhmclmc(*sampler), n=1000000)\n",
    "        # print(result, result2, \"results\")\n",
    "        results[(model, sampler)] = result\n",
    "results"
   ]
  },
  {
   "cell_type": "code",
   "execution_count": 9,
   "metadata": {},
   "outputs": [
    {
     "name": "stdout",
     "output_type": "stream",
     "text": [
      "2\n"
     ]
    },
    {
     "ename": "ValueError",
     "evalue": "cannot reshape array of size 2 into shape (10,2)",
     "output_type": "error",
     "traceback": [
      "\u001b[0;31m---------------------------------------------------------------------------\u001b[0m",
      "\u001b[0;31mValueError\u001b[0m                                Traceback (most recent call last)",
      "\u001b[1;32m/Users/reubencohn-gordon/Desktop/blackjax/benchmarks/mcmc/benchmark.ipynb Cell 2\u001b[0m line \u001b[0;36m1\n\u001b[1;32m     <a href='vscode-notebook-cell:/Users/reubencohn-gordon/Desktop/blackjax/benchmarks/mcmc/benchmark.ipynb#W1sZmlsZQ%3D%3D?line=12'>13</a>\u001b[0m heat_values \u001b[39m=\u001b[39m \u001b[39mlist\u001b[39m(results\u001b[39m.\u001b[39mvalues())\n\u001b[1;32m     <a href='vscode-notebook-cell:/Users/reubencohn-gordon/Desktop/blackjax/benchmarks/mcmc/benchmark.ipynb#W1sZmlsZQ%3D%3D?line=15'>16</a>\u001b[0m \u001b[39m# Reshape the heat values into a 2D array\u001b[39;00m\n\u001b[1;32m     <a href='vscode-notebook-cell:/Users/reubencohn-gordon/Desktop/blackjax/benchmarks/mcmc/benchmark.ipynb#W1sZmlsZQ%3D%3D?line=16'>17</a>\u001b[0m \u001b[39m# heat_array = np.array(heat_values).reshape((len(x_values), len(y_values)))\u001b[39;00m\n\u001b[0;32m---> <a href='vscode-notebook-cell:/Users/reubencohn-gordon/Desktop/blackjax/benchmarks/mcmc/benchmark.ipynb#W1sZmlsZQ%3D%3D?line=17'>18</a>\u001b[0m heat_array \u001b[39m=\u001b[39m np\u001b[39m.\u001b[39marray(heat_values)\u001b[39m.\u001b[39mreshape((\u001b[39m10\u001b[39m,\u001b[39m2\u001b[39m))\n\u001b[1;32m     <a href='vscode-notebook-cell:/Users/reubencohn-gordon/Desktop/blackjax/benchmarks/mcmc/benchmark.ipynb#W1sZmlsZQ%3D%3D?line=19'>20</a>\u001b[0m \u001b[39m# Create the heatmap\u001b[39;00m\n\u001b[1;32m     <a href='vscode-notebook-cell:/Users/reubencohn-gordon/Desktop/blackjax/benchmarks/mcmc/benchmark.ipynb#W1sZmlsZQ%3D%3D?line=20'>21</a>\u001b[0m plt\u001b[39m.\u001b[39mfigure(figsize\u001b[39m=\u001b[39m(\u001b[39m10\u001b[39m, \u001b[39m8\u001b[39m))\n",
      "\u001b[0;31mValueError\u001b[0m: cannot reshape array of size 2 into shape (10,2)"
     ]
    }
   ],
   "source": [
    "import seaborn as sns\n",
    "\n",
    "import matplotlib.pyplot as plt\n",
    "\n",
    "# Extract x and y values from the keys of the results dictionary\n",
    "x_values = [key[0] for key in results.keys()]\n",
    "y_values = [key[1] for key in results.keys()]\n",
    "\n",
    "print(len(x_values))\n",
    "# raise Exception\n",
    "\n",
    "# Extract heat values from the dictionary\n",
    "heat_values = list(results.values())\n",
    "\n",
    "\n",
    "# Reshape the heat values into a 2D array\n",
    "# heat_array = np.array(heat_values).reshape((len(x_values), len(y_values)))\n",
    "heat_array = np.array(heat_values).reshape((10,2))\n",
    "\n",
    "# Create the heatmap\n",
    "plt.figure(figsize=(10, 8))\n",
    "sns.heatmap(heat_array, annot=True, cmap='viridis')\n",
    "plt.xlabel('num steps per traj')\n",
    "plt.ylabel('step size')\n",
    "plt.title('Heatmap of Results')\n",
    "plt.show()\n"
   ]
  },
  {
   "cell_type": "code",
   "execution_count": 10,
   "metadata": {},
   "outputs": [
    {
     "data": {
      "text/plain": [
       "defaultdict(float,\n",
       "            {('simple', (10.0, 1.0)): Array(0.18656716, dtype=float32),\n",
       "             ('simple',\n",
       "              (10.0, 1.4444444444444444)): Array(0.25452492, dtype=float32),\n",
       "             ('simple',\n",
       "              (10.0, 1.8888888888888888)): Array(0.24509802, dtype=float32),\n",
       "             ('simple',\n",
       "              (10.0, 2.333333333333333)): Array(0.17281109, dtype=float32),\n",
       "             ('simple',\n",
       "              (10.0, 2.7777777777777777)): Array(0.17999998, dtype=float32),\n",
       "             ('simple',\n",
       "              (10.0, 3.2222222222222223)): Array(0.14502098, dtype=float32),\n",
       "             ('simple',\n",
       "              (10.0, 3.6666666666666665)): Array(0.15321758, dtype=float32),\n",
       "             ('simple',\n",
       "              (10.0, 4.111111111111111)): Array(0.1253831, dtype=float32),\n",
       "             ('simple',\n",
       "              (10.0, 4.555555555555555)): Array(0.11315059, dtype=float32),\n",
       "             ('simple', (10.0, 5.0)): Array(0.11111111, dtype=float32),\n",
       "             ('simple',\n",
       "              (10.666666666666666, 1.0)): Array(0.47619048, dtype=float32),\n",
       "             ('simple',\n",
       "              (10.666666666666666,\n",
       "               1.4444444444444444)): Array(0.38461542, dtype=float32),\n",
       "             ('simple',\n",
       "              (10.666666666666666,\n",
       "               1.8888888888888888)): Array(0.420168, dtype=float32),\n",
       "             ('simple',\n",
       "              (10.666666666666666,\n",
       "               2.333333333333333)): Array(0.30181092, dtype=float32),\n",
       "             ('simple',\n",
       "              (10.666666666666666,\n",
       "               2.7777777777777777)): Array(0.2950819, dtype=float32),\n",
       "             ('simple',\n",
       "              (10.666666666666666,\n",
       "               3.2222222222222223)): Array(0.25027815, dtype=float32),\n",
       "             ('simple',\n",
       "              (10.666666666666666,\n",
       "               3.6666666666666665)): Array(0.24350652, dtype=float32),\n",
       "             ('simple',\n",
       "              (10.666666666666666,\n",
       "               4.111111111111111)): Array(0.2096924, dtype=float32),\n",
       "             ('simple',\n",
       "              (10.666666666666666,\n",
       "               4.555555555555555)): Array(0.18602723, dtype=float32),\n",
       "             ('simple',\n",
       "              (10.666666666666666, 5.0)): Array(0.15625, dtype=float32),\n",
       "             ('simple',\n",
       "              (11.333333333333334, 1.0)): Array(1.0204082, dtype=float32),\n",
       "             ('simple',\n",
       "              (11.333333333333334,\n",
       "               1.4444444444444444)): Array(0.8241759, dtype=float32),\n",
       "             ('simple',\n",
       "              (11.333333333333334,\n",
       "               1.8888888888888888)): Array(0.7563025, dtype=float32),\n",
       "             ('simple',\n",
       "              (11.333333333333334,\n",
       "               2.333333333333333)): Array(0.5639098, dtype=float32),\n",
       "             ('simple',\n",
       "              (11.333333333333334,\n",
       "               2.7777777777777777)): Array(0.54545444, dtype=float32),\n",
       "             ('simple',\n",
       "              (11.333333333333334,\n",
       "               3.2222222222222223)): Array(0.37846938, dtype=float32),\n",
       "             ('simple',\n",
       "              (11.333333333333334,\n",
       "               3.6666666666666665)): Array(0.37878793, dtype=float32),\n",
       "             ('simple',\n",
       "              (11.333333333333334,\n",
       "               4.111111111111111)): Array(0.32005683, dtype=float32),\n",
       "             ('simple',\n",
       "              (11.333333333333334,\n",
       "               4.555555555555555)): Array(0.33259416, dtype=float32),\n",
       "             ('simple',\n",
       "              (11.333333333333334, 5.0)): Array(0.25641027, dtype=float32),\n",
       "             ('simple', (12.0, 1.0)): Array(2., dtype=float32),\n",
       "             ('simple',\n",
       "              (12.0, 1.4444444444444444)): Array(1.331361, dtype=float32),\n",
       "             ('simple',\n",
       "              (12.0, 1.8888888888888888)): Array(1.3235292, dtype=float32),\n",
       "             ('simple',\n",
       "              (12.0, 2.333333333333333)): Array(0.9316771, dtype=float32),\n",
       "             ('simple',\n",
       "              (12.0, 2.7777777777777777)): Array(0.89999986, dtype=float32),\n",
       "             ('simple',\n",
       "              (12.0, 3.2222222222222223)): Array(0.77586216, dtype=float32),\n",
       "             ('simple',\n",
       "              (12.0, 3.6666666666666665)): Array(0.6493507, dtype=float32),\n",
       "             ('simple',\n",
       "              (12.0, 4.111111111111111)): Array(0.57915044, dtype=float32),\n",
       "             ('simple',\n",
       "              (12.0, 4.555555555555555)): Array(0.47720027, dtype=float32),\n",
       "             ('simple', (12.0, 5.0)): Array(0.45454547, dtype=float32),\n",
       "             ('simple',\n",
       "              (12.666666666666666, 1.0)): Array(3.125, dtype=float32),\n",
       "             ('simple',\n",
       "              (12.666666666666666,\n",
       "               1.4444444444444444)): Array(2.1634617, dtype=float32),\n",
       "             ('simple',\n",
       "              (12.666666666666666,\n",
       "               1.8888888888888888)): Array(1.8907561, dtype=float32),\n",
       "             ('simple',\n",
       "              (12.666666666666666,\n",
       "               2.333333333333333)): Array(1.4285716, dtype=float32),\n",
       "             ('simple',\n",
       "              (12.666666666666666,\n",
       "               2.7777777777777777)): Array(1.3846153, dtype=float32),\n",
       "             ('simple',\n",
       "              (12.666666666666666,\n",
       "               3.2222222222222223)): Array(1.2931037, dtype=float32),\n",
       "             ('simple',\n",
       "              (12.666666666666666,\n",
       "               3.6666666666666665)): Array(1.0489511, dtype=float32),\n",
       "             ('simple',\n",
       "              (12.666666666666666,\n",
       "               4.111111111111111)): Array(0.9355507, dtype=float32),\n",
       "             ('simple',\n",
       "              (12.666666666666666,\n",
       "               4.555555555555555)): Array(0.84427744, dtype=float32),\n",
       "             ('simple',\n",
       "              (12.666666666666666, 5.0)): Array(0.71428573, dtype=float32),\n",
       "             ('simple',\n",
       "              (13.333333333333332, 1.0)): Array(3.3333333, dtype=float32),\n",
       "             ('simple',\n",
       "              (13.333333333333332,\n",
       "               1.4444444444444444)): Array(2.8846157, dtype=float32),\n",
       "             ('simple',\n",
       "              (13.333333333333332,\n",
       "               1.8888888888888888)): Array(2.6470585, dtype=float32),\n",
       "             ('simple',\n",
       "              (13.333333333333332,\n",
       "               2.333333333333333)): Array(2.3809528, dtype=float32),\n",
       "             ('simple',\n",
       "              (13.333333333333332,\n",
       "               2.7777777777777777)): Array(1.9999996, dtype=float32),\n",
       "             ('simple',\n",
       "              (13.333333333333332,\n",
       "               3.2222222222222223)): Array(1.7241383, dtype=float32),\n",
       "             ('simple',\n",
       "              (13.333333333333332,\n",
       "               3.6666666666666665)): Array(1.5151517, dtype=float32),\n",
       "             ('simple',\n",
       "              (13.333333333333332,\n",
       "               4.111111111111111)): Array(1.5202699, dtype=float32),\n",
       "             ('simple',\n",
       "              (13.333333333333332,\n",
       "               4.555555555555555)): Array(1.3719509, dtype=float32),\n",
       "             ('simple',\n",
       "              (13.333333333333332, 5.0)): Array(1.1111112, dtype=float32),\n",
       "             ('simple', (14.0, 1.0)): Array(3.5714285, dtype=float32),\n",
       "             ('simple',\n",
       "              (14.0, 1.4444444444444444)): Array(3.1468534, dtype=float32),\n",
       "             ('simple',\n",
       "              (14.0, 1.8888888888888888)): Array(2.9411762, dtype=float32),\n",
       "             ('simple',\n",
       "              (14.0, 2.333333333333333)): Array(2.6785717, dtype=float32),\n",
       "             ('simple',\n",
       "              (14.0, 2.7777777777777777)): Array(2.5714283, dtype=float32),\n",
       "             ('simple',\n",
       "              (14.0, 3.2222222222222223)): Array(2.2167492, dtype=float32),\n",
       "             ('simple',\n",
       "              (14.0, 3.6666666666666665)): Array(2.2727275, dtype=float32),\n",
       "             ('simple',\n",
       "              (14.0, 4.111111111111111)): Array(2.0270267, dtype=float32),\n",
       "             ('simple',\n",
       "              (14.0, 4.555555555555555)): Array(1.8292679, dtype=float32),\n",
       "             ('simple', (14.0, 5.0)): Array(1.6666666, dtype=float32),\n",
       "             ('simple',\n",
       "              (14.666666666666666, 1.0)): Array(3.8461537, dtype=float32),\n",
       "             ('simple',\n",
       "              (14.666666666666666,\n",
       "               1.4444444444444444)): Array(3.4615388, dtype=float32),\n",
       "             ('simple',\n",
       "              (14.666666666666666,\n",
       "               1.8888888888888888)): Array(3.308823, dtype=float32),\n",
       "             ('simple',\n",
       "              (14.666666666666666,\n",
       "               2.333333333333333)): Array(3.0612247, dtype=float32),\n",
       "             ('simple',\n",
       "              (14.666666666666666,\n",
       "               2.7777777777777777)): Array(2.9999998, dtype=float32),\n",
       "             ('simple',\n",
       "              (14.666666666666666,\n",
       "               3.2222222222222223)): Array(2.5862074, dtype=float32),\n",
       "             ('simple',\n",
       "              (14.666666666666666,\n",
       "               3.6666666666666665)): Array(2.2727275, dtype=float32),\n",
       "             ('simple',\n",
       "              (14.666666666666666,\n",
       "               4.111111111111111)): Array(2.4324317, dtype=float32),\n",
       "             ('simple',\n",
       "              (14.666666666666666,\n",
       "               4.555555555555555)): Array(2.1951213, dtype=float32),\n",
       "             ('simple', (14.666666666666666, 5.0)): Array(2., dtype=float32),\n",
       "             ('simple',\n",
       "              (15.333333333333332, 1.0)): Array(3.5714285, dtype=float32),\n",
       "             ('simple',\n",
       "              (15.333333333333332,\n",
       "               1.4444444444444444)): Array(3.4615388, dtype=float32),\n",
       "             ('simple',\n",
       "              (15.333333333333332,\n",
       "               1.8888888888888888)): Array(3.308823, dtype=float32),\n",
       "             ('simple',\n",
       "              (15.333333333333332,\n",
       "               2.333333333333333)): Array(3.571429, dtype=float32),\n",
       "             ('simple',\n",
       "              (15.333333333333332,\n",
       "               2.7777777777777777)): Array(2.9999998, dtype=float32),\n",
       "             ('simple',\n",
       "              (15.333333333333332,\n",
       "               3.2222222222222223)): Array(2.5862074, dtype=float32),\n",
       "             ('simple',\n",
       "              (15.333333333333332,\n",
       "               3.6666666666666665)): Array(2.727273, dtype=float32),\n",
       "             ('simple',\n",
       "              (15.333333333333332,\n",
       "               4.111111111111111)): Array(2.4324317, dtype=float32),\n",
       "             ('simple',\n",
       "              (15.333333333333332,\n",
       "               4.555555555555555)): Array(2.7439017, dtype=float32),\n",
       "             ('simple', (15.333333333333332, 5.0)): Array(2.5, dtype=float32),\n",
       "             ('simple', (16.0, 1.0)): Array(3.3333333, dtype=float32),\n",
       "             ('simple',\n",
       "              (16.0, 1.4444444444444444)): Array(3.4615388, dtype=float32),\n",
       "             ('simple',\n",
       "              (16.0, 1.8888888888888888)): Array(3.308823, dtype=float32),\n",
       "             ('simple',\n",
       "              (16.0, 2.333333333333333)): Array(3.571429, dtype=float32),\n",
       "             ('simple',\n",
       "              (16.0, 2.7777777777777777)): Array(2.9999998, dtype=float32),\n",
       "             ('simple',\n",
       "              (16.0, 3.2222222222222223)): Array(3.1034486, dtype=float32),\n",
       "             ('simple',\n",
       "              (16.0, 3.6666666666666665)): Array(2.727273, dtype=float32),\n",
       "             ('simple',\n",
       "              (16.0, 4.111111111111111)): Array(2.4324317, dtype=float32),\n",
       "             ('simple',\n",
       "              (16.0, 4.555555555555555)): Array(2.7439017, dtype=float32),\n",
       "             ('simple', (16.0, 5.0)): Array(2.5, dtype=float32)})"
      ]
     },
     "execution_count": 10,
     "metadata": {},
     "output_type": "execute_result"
    }
   ],
   "source": [
    "results"
   ]
  },
  {
   "cell_type": "code",
   "execution_count": null,
   "metadata": {},
   "outputs": [],
   "source": []
  }
 ],
 "metadata": {
  "kernelspec": {
   "display_name": "mclmc",
   "language": "python",
   "name": "python3"
  },
  "language_info": {
   "codemirror_mode": {
    "name": "ipython",
    "version": 3
   },
   "file_extension": ".py",
   "mimetype": "text/x-python",
   "name": "python",
   "nbconvert_exporter": "python",
   "pygments_lexer": "ipython3",
   "version": "3.11.5"
  }
 },
 "nbformat": 4,
 "nbformat_minor": 2
}
