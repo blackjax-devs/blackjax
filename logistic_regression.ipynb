{
 "cells": [
  {
   "cell_type": "markdown",
   "id": "3cdc536d",
   "metadata": {},
   "source": [
    "# Waste Free SMC comparison\n",
    "\n",
    "In this notebook we demonstrate the use of the random walk Rosenbluth-Metropolis-Hasting algorithm on a simple logistic regression."
   ]
  },
  {
   "cell_type": "code",
   "execution_count": null,
   "id": "de1922dd",
   "metadata": {},
   "outputs": [],
   "source": [
    "%load_ext autoreload\n",
    "%autoreload 2"
   ]
  },
  {
   "cell_type": "code",
   "execution_count": null,
   "id": "e7dba964",
   "metadata": {
    "tags": [
     "hide-cell"
    ]
   },
   "outputs": [],
   "source": [
    "import matplotlib.pyplot as plt\n",
    "import sklearn\n",
    "\n",
    "plt.rcParams[\"axes.spines.right\"] = False\n",
    "plt.rcParams[\"axes.spines.top\"] = False\n",
    "plt.rcParams[\"figure.figsize\"] = (12, 8)\n",
    "import jax\n",
    "\n",
    "from datetime import date\n",
    "rng_key = jax.random.key(int(date.today().strftime(\"%Y%m%d\")))\n",
    "import jax.numpy as jnp\n",
    "from sklearn.datasets import make_biclusters\n",
    "import blackjax"
   ]
  },
  {
   "cell_type": "markdown",
   "id": "ee12f75d",
   "metadata": {},
   "source": [
    "## The Data"
   ]
  },
  {
   "cell_type": "code",
   "execution_count": null,
   "id": "7ec4566a",
   "metadata": {},
   "outputs": [],
   "source": [
    "num_points = 50\n",
    "X, rows, cols = make_biclusters(\n",
    "    (num_points, 2), 2, noise=0.6, random_state=314, minval=-3, maxval=3\n",
    ")\n",
    "y = rows[0] * 1.0  # y[i] = whether point i belongs to cluster 1"
   ]
  },
  {
   "cell_type": "code",
   "execution_count": null,
   "id": "40210fca",
   "metadata": {
    "tags": [
     "hide-input"
    ]
   },
   "outputs": [],
   "source": [
    "colors = [\"tab:red\" if el else \"tab:blue\" for el in rows[0]]\n",
    "plt.scatter(*X.T, edgecolors=colors, c=\"none\")\n",
    "plt.xlabel(r\"$X_0$\")\n",
    "plt.ylabel(r\"$X_1$\");"
   ]
  },
  {
   "cell_type": "markdown",
   "id": "49f196c9",
   "metadata": {},
   "source": [
    "## The Model\n",
    "\n",
    "We use a simple logistic regression model to infer to which cluster each of the points belongs. We note $y$ a binary variable that indicates whether a point belongs to the first cluster :\n",
    "\n",
    "$$\n",
    "y \\sim \\operatorname{Bernoulli}(p)\n",
    "$$\n",
    "\n",
    "The probability $p$ to belong to the first cluster commes from a logistic regression:\n",
    "\n",
    "$$\n",
    "p = \\operatorname{logistic}(\\Phi\\,\\boldsymbol{w})\n",
    "$$\n",
    "\n",
    "where $w$ is a vector of weights whose priors are a normal prior centered on 0:\n",
    "\n",
    "$$\n",
    "\\boldsymbol{w} \\sim \\operatorname{Normal}(0, \\sigma)\n",
    "$$\n",
    "\n",
    "And $\\Phi$ is the matrix that contains the data, so each row $\\Phi_{i,:}$ is the vector $\\left[1, X_0^i, X_1^i\\right]$"
   ]
  },
  {
   "cell_type": "code",
   "execution_count": null,
   "id": "f3c7dd2f",
   "metadata": {
    "tags": [
     "hide-stderr"
    ]
   },
   "outputs": [],
   "source": [
    "Phi = jnp.c_[jnp.ones(num_points)[:, None], X]\n",
    "N, M = Phi.shape\n",
    "\n",
    "\n",
    "def sigmoid(z):\n",
    "    return jnp.exp(z) / (1 + jnp.exp(z))\n",
    "\n",
    "\n",
    "def log_sigmoid(z):\n",
    "    return z - jnp.log(1 + jnp.exp(z))\n",
    "\n",
    "def logprior(w, alpha=1.0):\n",
    "    prior_term = alpha * w @ w / 2\n",
    "    return -prior_term\n",
    "    \n",
    "def loglikelihood(w, alpha=1.0):\n",
    "    \"\"\"The log-probability density function of the posterior distribution of the model.\"\"\"\n",
    "    log_an = log_sigmoid(Phi @ w)\n",
    "    an = Phi @ w\n",
    "    log_likelihood_term = y * log_an + (1 - y) * jnp.log(1 - sigmoid(an))\n",
    "    return log_likelihood_term.sum()\n",
    "    \n",
    "def logdensity_fn(w, alpha=1.0):\n",
    "    return logprior(w,alpha) + loglikelihood(w,alpha)"
   ]
  },
  {
   "cell_type": "code",
   "execution_count": null,
   "id": "043aff76",
   "metadata": {},
   "outputs": [],
   "source": [
    "from sklearn.linear_model import LogisticRegression"
   ]
  },
  {
   "cell_type": "markdown",
   "id": "93778681",
   "metadata": {},
   "source": [
    "## Posterior Sampling\n",
    "\n",
    "We use `blackjax`'s Random Walk RMH kernel to sample from the posterior distribution."
   ]
  },
  {
   "cell_type": "code",
   "execution_count": null,
   "id": "9889d938",
   "metadata": {},
   "outputs": [],
   "source": [
    "rng_key, init_key = jax.random.split(rng_key)\n",
    "\n",
    "w0 = jax.random.multivariate_normal(init_key, 0.1 + jnp.zeros(M), jnp.eye(M))\n",
    "rmh = blackjax.rmh(logdensity_fn, blackjax.mcmc.random_walk.normal(jnp.ones(M) * 0.05))\n",
    "initial_state = rmh.init(w0)\n",
    "\n",
    "def inference_loop(rng_key, kernel, initial_state, num_samples):\n",
    "    @jax.jit\n",
    "    def one_step(state, rng_key):\n",
    "        state, _ = kernel(rng_key, state)\n",
    "        return state, state\n",
    "\n",
    "    keys = jax.random.split(rng_key, num_samples)\n",
    "    _, states = jax.lax.scan(one_step, initial_state, keys)\n",
    "\n",
    "    return states\n",
    "\n",
    "rng_key, sample_key = jax.random.split(rng_key)\n",
    "states = inference_loop(sample_key, rmh.step, initial_state, 5_000)"
   ]
  },
  {
   "cell_type": "markdown",
   "id": "3301e09c",
   "metadata": {},
   "source": [
    "Trace display:"
   ]
  },
  {
   "cell_type": "code",
   "execution_count": null,
   "id": "69816b03",
   "metadata": {
    "tags": [
     "hide-input"
    ]
   },
   "outputs": [],
   "source": [
    "burnin = 300\n",
    "\n",
    "fig, ax = plt.subplots(1, 3, figsize=(12, 2))\n",
    "for i, axi in enumerate(ax):\n",
    "    axi.plot(states.position[:, i])\n",
    "    axi.set_title(f\"$w_{i}$\")\n",
    "    axi.axvline(x=burnin, c=\"tab:red\")\n",
    "plt.show()"
   ]
  },
  {
   "cell_type": "code",
   "execution_count": null,
   "id": "1f1306a6",
   "metadata": {},
   "outputs": [],
   "source": [
    "burnin = 300\n",
    "chains = states.position[burnin:, :]\n",
    "nsamp, _ = chains.shape"
   ]
  },
  {
   "cell_type": "markdown",
   "id": "daa2e425",
   "metadata": {},
   "source": [
    "# Classic SMC"
   ]
  },
  {
   "cell_type": "code",
   "execution_count": null,
   "id": "263a7714",
   "metadata": {},
   "outputs": [],
   "source": [
    "import jax.numpy as jnp\n",
    "import numpy as np\n",
    "\n",
    "from blackjax import adaptive_tempered_smc\n",
    "from blackjax.smc import resampling, extend_params\n",
    "from blackjax.smc.inner_kernel_tuning import StateWithParameterOverride\n",
    "from blackjax.smc.tempered import TemperedSMCState\n",
    "import jax\n",
    "from jax import numpy as jnp\n",
    "from datetime import date\n",
    "import numpy as np\n",
    "import pandas as pd\n",
    "import functools\n",
    "from jax.scipy.stats import multivariate_normal\n",
    "from blackjax import additive_step_random_walk, inner_kernel_tuning\n",
    "from blackjax.mcmc.random_walk import normal\n",
    "from blackjax.smc.tuning.from_particles import (\n",
    "    particles_covariance_matrix\n",
    ")\n",
    "\n",
    "n_predictors = 3\n",
    "def initial_particles_multivariate_normal(key, n_samples):\n",
    "    return jax.random.multivariate_normal(\n",
    "        key, jnp.zeros(n_predictors) + 0.1, jnp.eye(n_predictors), (n_samples,)\n",
    "    )"
   ]
  },
  {
   "cell_type": "code",
   "execution_count": null,
   "id": "88ccaf4c",
   "metadata": {},
   "outputs": [],
   "source": [
    "n_particles = 20000\n",
    "key = jax.random.PRNGKey(10)\n",
    "key, initial_particles_key, iterations_key = jax.random.split(key, 3)\n",
    "initial_particles = initial_particles_multivariate_normal(initial_particles_key, n_particles)\n",
    "initial_parameter_value = extend_params({\"cov\": particles_covariance_matrix(initial_particles)})\n",
    "\n",
    "\n",
    "def mcmc_parameter_update_fn(state: TemperedSMCState, info):\n",
    "    sigma_particles = particles_covariance_matrix(state.particles) * 0.75\n",
    "    return extend_params({\"cov\":sigma_particles})\n",
    "\n",
    "def step_fn(key, state, logdensity, cov):\n",
    "    return blackjax.rmh(logdensity, normal(cov)).step(key, state)\n",
    "\n",
    "\n",
    "kernel_tuned_proposal = inner_kernel_tuning(\n",
    "        logprior_fn=logprior,\n",
    "        loglikelihood_fn=loglikelihood,\n",
    "        mcmc_step_fn=step_fn,\n",
    "        mcmc_init_fn=blackjax.rmh.init,\n",
    "        resampling_fn=resampling.systematic,\n",
    "        smc_algorithm=adaptive_tempered_smc,\n",
    "        mcmc_parameter_update_fn=mcmc_parameter_update_fn,\n",
    "        initial_parameter_value=initial_parameter_value,\n",
    "        target_ess=0.5,\n",
    "        num_mcmc_steps=5,\n",
    ")\n",
    "\n",
    "from blackjax.smc.base import SMCInfo\n",
    "def loop(kernel, rng_key, initial_state):\n",
    "    normalizing_constant = jnp.zeros((1000))\n",
    "\n",
    "    def cond(carry):\n",
    "        _, state, _ = carry\n",
    "        return state.sampler_state.lmbda < 1\n",
    "\n",
    "    def body(carry):\n",
    "        i, state, op_key = carry\n",
    "        op_key, subkey = jax.random.split(op_key, 2)\n",
    "        state, info = kernel(subkey, state)\n",
    "        normalizing_constant.at[i].set(info.log_likelihood_increment)\n",
    "        return i + 1, state, op_key\n",
    "\n",
    "    def f(initial_state, key):\n",
    "        total_iter, final_state, _ = jax.lax.while_loop(\n",
    "            cond, body, (0, initial_state, key)\n",
    "        )\n",
    "        return total_iter, final_state\n",
    "\n",
    "    total_iter, final_state = f(initial_state, rng_key)\n",
    "    return total_iter, final_state, normalizing_constant"
   ]
  },
  {
   "cell_type": "code",
   "execution_count": null,
   "id": "c0ccdccc",
   "metadata": {},
   "outputs": [],
   "source": [
    "total_steps, final_state, normalizing_constant = loop(kernel_tuned_proposal.step, iterations_key, kernel_tuned_proposal.init(initial_particles))"
   ]
  },
  {
   "cell_type": "code",
   "execution_count": null,
   "id": "6a672bcc",
   "metadata": {},
   "outputs": [],
   "source": [
    "np.exp(normalizing_constant[:total_steps])"
   ]
  },
  {
   "cell_type": "code",
   "execution_count": null,
   "id": "81dae2ae",
   "metadata": {},
   "outputs": [],
   "source": [
    "particles = final_state.sampler_state.particles"
   ]
  },
  {
   "cell_type": "code",
   "execution_count": null,
   "id": "6e10f1f1",
   "metadata": {},
   "outputs": [],
   "source": [
    "final_state.sampler_state.weights"
   ]
  },
  {
   "cell_type": "code",
   "execution_count": null,
   "id": "85dd9f86",
   "metadata": {},
   "outputs": [],
   "source": [
    "burnin = 300\n",
    "\n",
    "fig, ax = plt.subplots(1, 3, figsize=(12, 2))\n",
    "for i, axi in enumerate(ax):\n",
    "    axi.hist(states.position[burnin:, i])\n",
    "    axi.hist(particles[:, i])\n",
    "    axi.set_title(f\"$w_{i}$\")\n",
    "plt.show()"
   ]
  },
  {
   "cell_type": "code",
   "execution_count": null,
   "id": "191ea71c",
   "metadata": {},
   "outputs": [],
   "source": [
    "fig, ax = plt.subplots(1, 3, figsize=(12, 2))\n",
    "for i, axi in enumerate(ax):\n",
    "    axi.hist(particles[:, i])\n",
    "    axi.set_title(f\"$w_{i}$\")\n",
    "plt.show()"
   ]
  },
  {
   "cell_type": "code",
   "execution_count": null,
   "id": "4032de45",
   "metadata": {},
   "outputs": [],
   "source": [
    "fig, ax = plt.subplots(1, 3, figsize=(12, 2))\n",
    "for i, axi in enumerate(ax):\n",
    "    axi.hist(initial_particles[:, i])\n",
    "    axi.set_title(f\"$w_{i}$\")\n",
    "plt.show()"
   ]
  },
  {
   "cell_type": "code",
   "execution_count": null,
   "id": "db7cd2eb",
   "metadata": {},
   "outputs": [],
   "source": [
    "def predict(x, w):\n",
    "    return sigmoid(x@w)\n",
    "    "
   ]
  },
  {
   "cell_type": "code",
   "execution_count": null,
   "id": "a58e1879",
   "metadata": {},
   "outputs": [],
   "source": [
    "pred=(predict(Phi,np.mean(particles, axis=0))>0.5).astype(int)"
   ]
  },
  {
   "cell_type": "code",
   "execution_count": null,
   "id": "2e3a9df9",
   "metadata": {},
   "outputs": [],
   "source": [
    "pred2=(predict(Phi,np.mean(states.position, axis=0))>0.5).astype(int)"
   ]
  },
  {
   "cell_type": "code",
   "execution_count": null,
   "id": "5a6a5dc6",
   "metadata": {},
   "outputs": [],
   "source": [
    "import sklearn\n",
    "sklearn.metrics.confusion_matrix(y, pred)"
   ]
  },
  {
   "cell_type": "code",
   "execution_count": null,
   "id": "1bc4fd5c",
   "metadata": {},
   "outputs": [],
   "source": [
    "sklearn.metrics.confusion_matrix(y, pred2)"
   ]
  },
  {
   "cell_type": "code",
   "execution_count": null,
   "id": "6834a6e5",
   "metadata": {},
   "outputs": [],
   "source": [
    "def posterior_predictive_plot(samples):\n",
    "    xmin, ymin = X.min(axis=0) - 0.1\n",
    "    xmax, ymax = X.max(axis=0) + 0.1\n",
    "    step = 0.1\n",
    "    Xspace = jnp.mgrid[xmin:xmax:step, ymin:ymax:step]\n",
    "    _, nx, ny = Xspace.shape\n",
    "    \n",
    "    # Compute the average probability to belong to the first cluster at each point on the meshgrid\n",
    "    Phispace = jnp.concatenate([jnp.ones((1, nx, ny)), Xspace])\n",
    "    Z_mcmc = sigmoid(jnp.einsum(\"mij,sm->sij\", Phispace, samples))\n",
    "    Z_mcmc = Z_mcmc.mean(axis=0)\n",
    "    \n",
    "    plt.contourf(*Xspace, Z_mcmc)\n",
    "    plt.scatter(*X.T, c=colors)\n",
    "    plt.xlabel(r\"$X_0$\")\n",
    "    plt.ylabel(r\"$X_1$\");"
   ]
  },
  {
   "cell_type": "code",
   "execution_count": null,
   "id": "c36ad97c",
   "metadata": {},
   "outputs": [],
   "source": [
    "posterior_predictive_plot(chains)"
   ]
  },
  {
   "cell_type": "code",
   "execution_count": null,
   "id": "0aa89f5a",
   "metadata": {},
   "outputs": [],
   "source": [
    "posterior_predictive_plot(particles)"
   ]
  },
  {
   "cell_type": "markdown",
   "id": "0a9dba30",
   "metadata": {},
   "source": [
    "# Waste-Free SMC"
   ]
  },
  {
   "cell_type": "code",
   "execution_count": null,
   "id": "647d1be6",
   "metadata": {},
   "outputs": [],
   "source": [
    "import importlib\n",
    "importlib.reload(blackjax)\n",
    "from blackjax.smc.waste_free import waste_free_smc\n",
    "\n",
    "waste_free_smc_kernel = inner_kernel_tuning(\n",
    "        logprior_fn=logprior,\n",
    "        loglikelihood_fn=loglikelihood,\n",
    "        mcmc_step_fn=step_fn,\n",
    "        mcmc_init_fn=blackjax.rmh.init,\n",
    "        resampling_fn=resampling.systematic,\n",
    "        smc_algorithm=adaptive_tempered_smc,\n",
    "        mcmc_parameter_update_fn=mcmc_parameter_update_fn,\n",
    "        initial_parameter_value=initial_parameter_value,\n",
    "        target_ess=0.5,\n",
    "        num_mcmc_steps=None,\n",
    "        update_strategy=waste_free_smc(n_particles,10)\n",
    ")"
   ]
  },
  {
   "cell_type": "code",
   "execution_count": null,
   "id": "4e3d2364",
   "metadata": {},
   "outputs": [],
   "source": [
    "total_steps_waste_free, final_state_waste_free, normalizing_constant_waste_free = loop(waste_free_smc_kernel.step, iterations_key, waste_free_smc_kernel.init(initial_particles))"
   ]
  },
  {
   "cell_type": "code",
   "execution_count": null,
   "id": "a2adf9e7",
   "metadata": {},
   "outputs": [],
   "source": [
    "posterior_predictive_plot(final_state_waste_free.sampler_state.particles)"
   ]
  },
  {
   "cell_type": "code",
   "execution_count": null,
   "id": "630b6a13",
   "metadata": {},
   "outputs": [],
   "source": [
    "particles_waste_free = final_state_waste_free.sampler_state.particles"
   ]
  },
  {
   "cell_type": "code",
   "execution_count": null,
   "id": "c1997aa9",
   "metadata": {},
   "outputs": [],
   "source": [
    "\n",
    "fig, ax = plt.subplots(1, 3, figsize=(12, 2))\n",
    "for i, axi in enumerate(ax):\n",
    "    axi.hist(chains[:,i])\n",
    "    axi.hist(particles[:, i])\n",
    "    axi.hist(particles_waste_free[:, i])\n",
    "    axi.set_title(f\"$w_{i}$\")\n",
    "plt.show()"
   ]
  },
  {
   "cell_type": "code",
   "execution_count": null,
   "id": "9c90387f",
   "metadata": {},
   "outputs": [],
   "source": [
    " final_state_waste_free.sampler_state"
   ]
  },
  {
   "cell_type": "code",
   "execution_count": null,
   "id": "df47baa9",
   "metadata": {},
   "outputs": [],
   "source": [
    "final_state_waste_free"
   ]
  },
  {
   "cell_type": "code",
   "execution_count": null,
   "id": "b2088325",
   "metadata": {},
   "outputs": [],
   "source": []
  }
 ],
 "metadata": {
  "jupytext": {
   "formats": "md,ipynb"
  },
  "kernelspec": {
   "display_name": "Python 3 (ipykernel)",
   "language": "python",
   "name": "python3"
  },
  "language_info": {
   "codemirror_mode": {
    "name": "ipython",
    "version": 3
   },
   "file_extension": ".py",
   "mimetype": "text/x-python",
   "name": "python",
   "nbconvert_exporter": "python",
   "pygments_lexer": "ipython3",
   "version": "3.12.4"
  }
 },
 "nbformat": 4,
 "nbformat_minor": 5
}
