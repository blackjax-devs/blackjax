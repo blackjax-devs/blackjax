{
 "cells": [
  {
   "cell_type": "markdown",
   "id": "cb5c1c2a",
   "metadata": {},
   "source": [
    "# Gaussian regression with the Elliptical Slice sampler\n",
    "\n",
    "Given a vector of obervations $\\mathbf{y}$ with known variance $\\sigma^2\\mathbb{I}$ and Gaussian likelihood, we model the mean parameter of these observations as a Gaussian process given input/feature matrix $\\mathbf{X}$\n",
    "\n",
    "\\begin{align*}\n",
    "\\mathbf{y}|\\mathbf{f} &\\sim N(\\mathbf{f}, \\sigma^2\\mathbb{I}) \\\\\n",
    "\\mathbf{f} &\\sim GP(0, \\Sigma),\n",
    "\\end{align*}\n",
    "\n",
    "where $\\Sigma$ is a covariance function of the feature vector derived from the squared exponential kenel. Thus, for any pair of observations $i$ and $j$ the covariance of these two observations is given by\n",
    "$$\n",
    "\\Sigma_{i,j} = \\sigma^2_f \\exp\\left(-\\frac{||\\mathbf{X}_{i, \\cdot} - \\mathbf{X}_{j, \\cdot}||^2}{2 l^2}\\right),\n",
    "$$\n",
    "for some lengthscale parameter $l$ and signal variance parameter $\\sigma_f^2$.\n",
    "\n",
    "In this example we will limit our analysis to the posterior distribution of the mean parameter $\\mathbf{f}$, by conjugacy the posterior is Gaussian with mean and covariance \n",
    "\\begin{align*}\n",
    "\\mathbf{f}|\\mathbf{y} &\\sim N(\\mu_f, \\Sigma_f) \\\\\n",
    "\\Sigma_f^{-1} &= \\Sigma^{-1} + \\sigma^{-2}\\mathbf{I} \\\\\n",
    "\\mu_f &= \\sigma^{-2} \\Sigma_f \\mathbf{y}.\n",
    "\\end{align*}\n",
    "\n",
    "Using this analytic result we can check the correct convergence of our sampler towards the posterior distribution. It is important to note, however, that the Elliptical Slice sampler can be used to sample from any vector of parameters so long as these parameters have a prior Multivariate Gaussian distribution."
   ]
  },
  {
   "cell_type": "code",
   "execution_count": 1,
   "id": "d840e394",
   "metadata": {},
   "outputs": [],
   "source": [
    "import jax\n",
    "import jax.numpy as jnp\n",
    "import jax.random as jrnd\n",
    "import matplotlib.pyplot as plt\n",
    "import numpy as np\n",
    "\n",
    "from blackjax import elliptical_slice, nuts, window_adaptation"
   ]
  },
  {
   "cell_type": "code",
   "execution_count": 2,
   "id": "2bbf691a",
   "metadata": {},
   "outputs": [],
   "source": [
    "def squared_exponential(x, y, length, scale):\n",
    "    dot_diff = jnp.dot(x, x) + jnp.dot(y, y) - 2 * jnp.dot(x, y)\n",
    "    return scale**2 * jnp.exp(-0.5 * dot_diff / length**2)"
   ]
  },
  {
   "cell_type": "code",
   "execution_count": 3,
   "id": "4da44a3c",
   "metadata": {},
   "outputs": [],
   "source": [
    "def inference_loop(rng, init_state, kernel, n_iter):\n",
    "    keys = jrnd.split(rng, n_iter)\n",
    "\n",
    "    def step(state, key):\n",
    "        state, info = kernel(key, state)\n",
    "        return state, (state, info)\n",
    "\n",
    "    _, (states, info) = jax.lax.scan(step, init_state, keys)\n",
    "    return states, info"
   ]
  },
  {
   "cell_type": "markdown",
   "id": "2937e0ba",
   "metadata": {},
   "source": [
    "We fix the lengthscale $l$, signal variance $\\sigma_f^2$ and likelihood variance $\\sigma^2$ parameters to 1. and generate data from the model described above. Deliberately, we set a large value (2000) for the dimension of the target variable $\\mathbf{f}$ to showcase the gradient-free Elliptical Slice sampler on a situation where its efficiency is apparent in comparison to gradient-based black box samplers such as NUTS. The dynamics of the sampler are equivalent to those of the [preconditioned Crank–Nicolson algorithm](https://en.wikipedia.org/wiki/Preconditioned_Crank%E2%80%93Nicolson_algorithm) (with its Metropolis-Hastings step replaced by a slice sampling step), thus making it robust to increasing dimensionality."
   ]
  },
  {
   "cell_type": "code",
   "execution_count": 4,
   "id": "0e012044",
   "metadata": {},
   "outputs": [
    {
     "name": "stderr",
     "output_type": "stream",
     "text": [
      "WARNING:absl:No GPU/TPU found, falling back to CPU. (Set TF_CPP_MIN_LOG_LEVEL=0 and rerun for more info.)\n"
     ]
    },
    {
     "data": {
      "image/png": "[encoded data removed]",
      "text/plain": [
       "<Figure size 576x360 with 1 Axes>"
      ]
     },
     "metadata": {
      "needs_background": "light"
     },
     "output_type": "display_data"
    }
   ],
   "source": [
    "n, d = 2000, 2\n",
    "length, scale = 1.0, 1.0\n",
    "y_sd = 1.0\n",
    "\n",
    "# fake data\n",
    "rng = jrnd.PRNGKey(10)\n",
    "kX, kf, ky = jrnd.split(rng, 3)\n",
    "X = jrnd.uniform(kX, shape=(n, d))\n",
    "Sigma = jax.vmap(\n",
    "    lambda x: jax.vmap(lambda y: squared_exponential(x, y, length, scale))(X)\n",
    ")(X) + 1e-3 * jnp.eye(n)\n",
    "invSigma = jnp.linalg.inv(Sigma)\n",
    "f = jrnd.multivariate_normal(kf, jnp.zeros(n), Sigma)\n",
    "y = f + jrnd.normal(ky, shape=(n,)) * y_sd\n",
    "\n",
    "# conjugate results\n",
    "posterior_cov = jnp.linalg.inv(invSigma + 1 / y_sd**2 * jnp.eye(n))\n",
    "posterior_mean = jnp.dot(posterior_cov, y) * 1 / y_sd**2\n",
    "\n",
    "plt.figure(figsize=(8, 5))\n",
    "plt.hist(np.array(y), bins=50, density=True)\n",
    "plt.xlabel(\"y\")\n",
    "plt.title(\"Histogram of data.\")\n",
    "plt.show()"
   ]
  },
  {
   "cell_type": "markdown",
   "id": "2427f5b2",
   "metadata": {},
   "source": [
    "### Sampling\n",
    "\n",
    "The Elliptical Slice sampler samples a latent parameter from the Gaussian prior, builds an ellipse passing though the previous position and the latent variable, and samples points from this ellipse which it then corrects for the likelihood using slice sampling. More details can be found in the [original paper](https://arxiv.org/abs/1001.0175).\n",
    "\n",
    "We compare the sampling time to NUTS, notice the difference in computation times. A couple of important considerations when using the elliptical slice sampler:\n",
    "- The Elliptical slice sampler takes as input the likelihood function and the mean and covariance $\\Sigma$ parameters of the Gaussian prior separetley, since **the sampler assumes that the prior is Gaussian**. On the contrary case of NUTS, the algorithm takes as input the unnormalized posterior distribution, i.e. the likelihood times the prior density.\n",
    "- The Ellipical slice sampler is tuning-free, the warm up iterations are needed only for the sampler to start from a sensible initial position. While for NUTS the warm up samples are necessary not only to find a sensible initial position but also to tune the parameters of the algorithm, aiming at some average acceptance probability of its Metropolis-Hastings step. This additional tuning also contributes to the longer computation time."
   ]
  },
  {
   "cell_type": "code",
   "execution_count": 20,
   "id": "c5042af1",
   "metadata": {},
   "outputs": [],
   "source": [
    "# sampling parameters\n",
    "n_warm = 2000\n",
    "n_iter = 8000"
   ]
  },
  {
   "cell_type": "code",
   "execution_count": 21,
   "id": "2ffce595",
   "metadata": {},
   "outputs": [
    {
     "name": "stdout",
     "output_type": "stream",
     "text": [
      "CPU times: user 14.4 s, sys: 1.03 s, total: 15.5 s\n",
      "Wall time: 13.9 s\n"
     ]
    }
   ],
   "source": [
    "%%time\n",
    "loglikelihood_fn = lambda f: -0.5 * jnp.dot(y - f, y - f) / y_sd**2\n",
    "init, kernel = elliptical_slice(loglikelihood_fn, mean=jnp.zeros(n), cov=Sigma)\n",
    "states, info = inference_loop(jrnd.PRNGKey(0), init(f), kernel, n_warm + n_iter)\n",
    "samples = states.position[n_warm:]"
   ]
  },
  {
   "cell_type": "code",
   "execution_count": 7,
   "id": "c200f832",
   "metadata": {},
   "outputs": [
    {
     "name": "stdout",
     "output_type": "stream",
     "text": [
      "CPU times: user 10min 12s, sys: 580 ms, total: 10min 12s\n",
      "Wall time: 10min 11s\n"
     ]
    }
   ],
   "source": [
    "%%time\n",
    "logprob_fn = lambda f: loglikelihood_fn(f) - 0.5 * jnp.dot(f @ invSigma, f)\n",
    "warmup = window_adaptation(nuts, logprob_fn, n_warm, target_acceptance_rate=0.8)\n",
    "key_warm, key_sample = jrnd.split(jrnd.PRNGKey(0))\n",
    "state, kernel, _ = warmup.run(key_warm, f)\n",
    "states, _ = inference_loop(key_sample, state, kernel, n_iter)"
   ]
  },
  {
   "cell_type": "markdown",
   "id": "d59b720e",
   "metadata": {},
   "source": [
    "We check that the sampler is targeting the correct distribution by comparing the sample's mean and covariance to the conjugate results, and plotting the predictive distribution of our samples over the real observations."
   ]
  },
  {
   "cell_type": "code",
   "execution_count": 29,
   "id": "671b5d41",
   "metadata": {
    "scrolled": true
   },
   "outputs": [
    {
     "name": "stdout",
     "output_type": "stream",
     "text": [
      "Mean squared error for the mean vector 0.0001699214626569301 and covariance matrix 2.0051408000654192e-07\n"
     ]
    }
   ],
   "source": [
    "error_mean = jnp.mean((samples.mean(axis=0) - posterior_mean) ** 2)\n",
    "error_cov = jnp.mean((jnp.cov(samples, rowvar=False) - posterior_cov) ** 2)\n",
    "print(\n",
    "    f\"Mean squared error for the mean vector {error_mean} and covariance matrix {error_cov}\"\n",
    ")"
   ]
  },
  {
   "cell_type": "code",
   "execution_count": 23,
   "id": "16be77c5",
   "metadata": {},
   "outputs": [
    {
     "data": {
      "image/png": "[encoded data removed]",
      "text/plain": [
       "<Figure size 576x360 with 1 Axes>"
      ]
     },
     "metadata": {
      "needs_background": "light"
     },
     "output_type": "display_data"
    }
   ],
   "source": [
    "keys = jrnd.split(rng, 1000)\n",
    "predictive = jax.vmap(lambda k, f: f + jrnd.normal(k, (n,)) * y_sd)(\n",
    "    keys, samples[-1000:]\n",
    ")\n",
    "plt.figure(figsize=(8, 5))\n",
    "plt.hist(np.array(y), bins=50, density=True)\n",
    "plt.hist(np.array(predictive.reshape(-1)), bins=50, density=True, alpha=0.8)\n",
    "plt.xlabel(\"y\")\n",
    "plt.title(\"Predictive distribution\")\n",
    "plt.show()"
   ]
  },
  {
   "cell_type": "markdown",
   "id": "45a8c6b1",
   "metadata": {},
   "source": [
    "### Diagnostics\n",
    "\n",
    "The Elliptical slice sampler does not have a Metropolis-Hastings step, at every iteration it proposes a new position using slice sampling on the likelihood. The sampler is more efficient the less informative the likelihood is in comparison to the prior.\n",
    "\n",
    "Assuming the degenerate case when the likelihood is always equal to 1 (infinite variance, not informative), we have that the slice sampler will always accept the first point it samples from the ellipsis, hence the number of sub iterations per iteration of the sampler will always be 1. To see this, notice that all the points on the ellipsis keep the joint distribution given by the *prior* measure for the target variable $\\mathbf{f}$ and the same measure but for the latent variable, invariant. We can get an idea of how efficient the sampler is by looking at the number of sub iterations per iteration of the sampler, below we plot a histogram for our current example. \n",
    "\n",
    "Another parameter of interest for diagnostics is the location on the ellipse the returned sample is from. This parameter, dubbed theta, is expressed in radians hence putting it on the interval $[-2\\pi, 2\\pi]$ (i.e. moving around the ellipse clockwise for positive numbers and counter clockwise for negative numbers). If theta $\\in \\{0, -2\\pi, 2\\pi\\}$ we are at the initial position of the iteration, i.e. the closer theta is to any of these three values the closer the new sample is to the previous one. A histogram for this parameter is plotted below.\n",
    "\n",
    "Since the likelihood's variance is set at 1., it is quite informative. Increasing the likelihood's variance leads to less sub iterations per iteration of the Elliptical Slice sampler and the parameter theta becoming more uniform on its range."
   ]
  },
  {
   "cell_type": "code",
   "execution_count": 24,
   "id": "db4c821f",
   "metadata": {},
   "outputs": [
    {
     "data": {
      "image/png": "[encoded data removed]",
      "text/plain": [
       "<Figure size 720x360 with 1 Axes>"
      ]
     },
     "metadata": {
      "needs_background": "light"
     },
     "output_type": "display_data"
    }
   ],
   "source": [
    "plt.figure(figsize=(10, 5))\n",
    "plt.hist(np.array(info.subiter), bins=50)\n",
    "plt.xlabel(\"Sub iterations\")\n",
    "plt.title(\"Counts of number of sub iterations needed per sample.\")\n",
    "plt.show()"
   ]
  },
  {
   "cell_type": "code",
   "execution_count": 25,
   "id": "5e249caf",
   "metadata": {},
   "outputs": [
    {
     "data": {
      "image/png": "[encoded data removed]",
      "text/plain": [
       "<Figure size 720x360 with 1 Axes>"
      ]
     },
     "metadata": {
      "needs_background": "light"
     },
     "output_type": "display_data"
    }
   ],
   "source": [
    "plt.figure(figsize=(10, 5))\n",
    "plt.hist(np.array(info.theta), bins=100)\n",
    "plt.xlabel(\"theta\")\n",
    "plt.title(\n",
    "    \"Histogram of theta parameter, i.e. location on the circumference of the ellipsis.\"\n",
    ")\n",
    "plt.show()"
   ]
  },
  {
   "cell_type": "code",
   "execution_count": null,
   "id": "9a260d94",
   "metadata": {},
   "outputs": [],
   "source": []
  }
 ],
 "metadata": {
  "interpreter": {
   "hash": "916dbcbb3f70747c44a77c7bcd40155683ae19c65e1c03b4aa3499c5328201f1"
  },
  "kernelspec": {
   "display_name": "imcmc_blackjax",
   "language": "python",
   "name": "imcmc_blackjax"
  },
  "language_info": {
   "codemirror_mode": {
    "name": "ipython",
    "version": 3
   },
   "file_extension": ".py",
   "mimetype": "text/x-python",
   "name": "python",
   "nbconvert_exporter": "python",
   "pygments_lexer": "ipython3",
   "version": "3.8.10"
  }
 },
 "nbformat": 4,
 "nbformat_minor": 5
}
