{
 "cells": [
  {
   "cell_type": "markdown",
   "id": "cc9d7129",
   "metadata": {
    "id": "397995ab"
   },
   "source": [
    "# Use BlackJAX with PyMC\n",
    "Author: Kaustubh Chaudhari"
   ]
  },
  {
   "cell_type": "markdown",
   "id": "19f9bcb8",
   "metadata": {
    "id": "bb51846d"
   },
   "source": [
    "BlackJAX can take any log-probability function as long as it is compatible with JAX's JIT. In this notebook we show how we can use PyMC as a modeling language and BlackJAX as an inference library.\n",
    "\n",
    "This example relies on PyMC v4, see [installation instructions](https://github.com/pymc-devs/pymc#installation) on the PyMC repository."
   ]
  },
  {
   "cell_type": "code",
   "execution_count": null,
   "id": "b260c3fa",
   "metadata": {
    "id": "3a905211"
   },
   "outputs": [],
   "source": [
    "import jax\n",
    "import numpy as np\n",
    "import pymc as pm\n",
    "import pymc.sampling_jax\n",
    "\n",
    "import blackjax\n",
    "\n",
    "print(f\"Running on PyMC v{pm.__version__}\")"
   ]
  },
  {
   "cell_type": "markdown",
   "id": "05f0126b",
   "metadata": {
    "id": "8VrYFaoIX--y"
   },
   "source": [
    "## Data\n",
    "\n",
    "Please refer to the [original TFP example](https://www.tensorflow.org/probability/examples/Eight_Schools) for a description of the problem and the model that is used."
   ]
  },
  {
   "cell_type": "code",
   "execution_count": null,
   "id": "0b6aaeb6",
   "metadata": {
    "id": "imotOe9sUNYF"
   },
   "outputs": [],
   "source": [
    "# Data of the Eight Schools Model\n",
    "J = 8\n",
    "y = np.array([28.0, 8.0, -3.0, 7.0, -1.0, 1.0, 18.0, 12.0])\n",
    "sigma = np.array([15.0, 10.0, 16.0, 11.0, 9.0, 11.0, 10.0, 18.0])"
   ]
  },
  {
   "cell_type": "markdown",
   "id": "5693278e",
   "metadata": {
    "id": "aabSQ11iYGZw"
   },
   "source": [
    "## Model\n"
   ]
  },
  {
   "cell_type": "code",
   "execution_count": null,
   "id": "e82b0be9",
   "metadata": {
    "id": "PiBv9iOvRK0f"
   },
   "outputs": [],
   "source": [
    "with pm.Model() as model:\n",
    "\n",
    "    mu = pm.Normal(\"mu\", mu=0.0, sigma=10.0)\n",
    "    tau = pm.HalfCauchy(\"tau\", 5.0)\n",
    "\n",
    "    theta = pm.Normal(\"theta\", mu=0, sigma=1, shape=J)\n",
    "    theta_1 = mu + tau * theta\n",
    "    obs = pm.Normal(\"obs\", mu=theta, sigma=sigma, shape=J, observed=y)"
   ]
  },
  {
   "cell_type": "markdown",
   "id": "1af0a7f0",
   "metadata": {
    "id": "VKMdLEu1Y5jb"
   },
   "source": [
    "## Sampling using PyMC NUTS Sampler"
   ]
  },
  {
   "cell_type": "code",
   "execution_count": null,
   "id": "d69ddad1",
   "metadata": {
    "colab": {
     "base_uri": "https://localhost:8080/",
     "height": 244
    },
    "id": "0ZyMxwLFY_ZI",
    "outputId": "793af037-31e4-4e55-9c76-231c9d78532d"
   },
   "outputs": [],
   "source": [
    "%%time\n",
    "\n",
    "with model:\n",
    "    posterior = pm.sample(50_000, chains=1)"
   ]
  },
  {
   "cell_type": "markdown",
   "id": "14d220c4",
   "metadata": {
    "id": "3I6zXC-JZCfs"
   },
   "source": [
    "## Sampling using PyMC JAX Numpyro NUTS sampler"
   ]
  },
  {
   "cell_type": "code",
   "execution_count": null,
   "id": "de0ad319",
   "metadata": {
    "colab": {
     "base_uri": "https://localhost:8080/"
    },
    "id": "daQ5OO6aZS9t",
    "outputId": "d865c9dc-45ae-4baa-c643-f145492ea4ab"
   },
   "outputs": [],
   "source": [
    "%%time\n",
    "\n",
    "with model:\n",
    "    hierarchical_trace_jax = pm.sampling_jax.sample_numpyro_nuts(\n",
    "        50_000, target_accept=0.9, chains=1, progress_bar=False\n",
    "    )"
   ]
  },
  {
   "cell_type": "markdown",
   "id": "7c7a7a72",
   "metadata": {
    "id": "h8cMqFwiZjxS"
   },
   "source": [
    "## Sampling using BlackJax\n",
    "\n",
    "### Configuring the model for BlackJax\n",
    "\n",
    "We first need to transpile the PyMC model into a logprobability density function that is compatible with JAX:"
   ]
  },
  {
   "cell_type": "code",
   "execution_count": null,
   "id": "a1de0d56",
   "metadata": {},
   "outputs": [],
   "source": [
    "from pymc.sampling_jax import get_jaxified_graph\n",
    "\n",
    "rvs = [rv.name for rv in model.value_vars]\n",
    "init_position_dict = model.compute_initial_point()\n",
    "init_position = [init_position_dict[rv] for rv in rvs]\n",
    "\n",
    "\n",
    "def get_jaxified_logp(model):\n",
    "\n",
    "    logp_fn = get_jaxified_graph(inputs=model.value_vars, outputs=[model.logpt()])\n",
    "\n",
    "    def logp_fn_wrap(x):\n",
    "        return logp_fn(*x)[0]\n",
    "\n",
    "    return logp_fn_wrap\n",
    "\n",
    "\n",
    "logprob_fn = get_jaxified_logp(model)"
   ]
  },
  {
   "cell_type": "markdown",
   "id": "cd52b9bc",
   "metadata": {},
   "source": [
    "### Sampling"
   ]
  },
  {
   "cell_type": "code",
   "execution_count": null,
   "id": "e0dcad4d",
   "metadata": {
    "id": "cTlcZCYmidZ6"
   },
   "outputs": [],
   "source": [
    "%%time\n",
    "\n",
    "seed = jax.random.PRNGKey(1234)\n",
    "\n",
    "adapt = blackjax.window_adaptation(blackjax.nuts, logprob_fn, 1000)\n",
    "last_state, kernel, _ = adapt.run(seed, init_position)\n",
    "\n",
    "\n",
    "def inference_loop(rng_key, kernel, initial_state, num_samples):\n",
    "    def one_step(state, rng_key):\n",
    "        state, info = kernel(rng_key, state)\n",
    "        return state, (state, info)\n",
    "\n",
    "    keys = jax.random.split(rng_key, num_samples)\n",
    "    _, (states, infos) = jax.lax.scan(one_step, initial_state, keys)\n",
    "\n",
    "    return states, infos\n",
    "\n",
    "\n",
    "# Sample from the posterior distribution\n",
    "states, infos = inference_loop(seed, kernel, last_state, 50_000)"
   ]
  },
  {
   "cell_type": "code",
   "execution_count": null,
   "id": "aa558fa7-d323-4b4e-813c-a4e8ab8f519a",
   "metadata": {},
   "outputs": [],
   "source": []
  }
 ],
 "metadata": {
  "colab": {
   "collapsed_sections": [],
   "name": "use_with_pymc3.ipynb",
   "provenance": []
  },
  "kernelspec": {
   "display_name": "blackjax",
   "language": "python",
   "name": "blackjax"
  },
  "language_info": {
   "codemirror_mode": {
    "name": "ipython",
    "version": 3
   },
   "file_extension": ".py",
   "mimetype": "text/x-python",
   "name": "python",
   "nbconvert_exporter": "python",
   "pygments_lexer": "ipython3",
   "version": "3.9.7"
  },
  "metadata": {
   "interpreter": {
    "hash": "da83a268153c84bc9ca9703c2cea4521d98c583fc99858c9f792a1bd45c27e3c"
   }
  }
 },
 "nbformat": 4,
 "nbformat_minor": 5
}
