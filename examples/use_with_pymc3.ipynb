{
 "cells": [
  {
   "cell_type": "markdown",
   "id": "cc9d7129",
   "metadata": {
    "id": "397995ab"
   },
   "source": [
    "# Use BlackJAX with PyMC3\n",
    "Author: Kaustubh Chaudhari"
   ]
  },
  {
   "cell_type": "markdown",
   "id": "19f9bcb8",
   "metadata": {
    "id": "bb51846d"
   },
   "source": [
    "BlackJAX can take any log-probability function as long as it is compatible with JAX's JIT. In this notebook we show how we can use PyMC as a modeling language and BlackJAX as an inference library.\n",
    "\n",
    "This example relies on PyMC v4, see [installation instructions](https://github.com/pymc-devs/pymc#installation) on the PyMC repository."
   ]
  },
  {
   "cell_type": "code",
   "execution_count": 1,
   "id": "b260c3fa",
   "metadata": {
    "id": "3a905211"
   },
   "outputs": [
    {
     "name": "stderr",
     "output_type": "stream",
     "text": [
      "/bin/ld: /tmp/tmpewbjudzh/tmp/tmpewbjudzh/source.o: in function `main':\n",
      "/tmp/tmpewbjudzh/source.c:6: undefined reference to `cblas_ddot'\n",
      "collect2: error: ld returned 1 exit status\n"
     ]
    },
    {
     "name": "stdout",
     "output_type": "stream",
     "text": [
      "Running on PyMC3 v4.0.0b2\n"
     ]
    },
    {
     "name": "stderr",
     "output_type": "stream",
     "text": [
      "/home/remi/.virtualenvs/blackjax/lib/python3.9/site-packages/aesara/link/jax/dispatch.py:86: UserWarning: JAX omnistaging couldn't be disabled: Disabling of omnistaging is no longer supported in JAX version 0.2.12 and higher: see https://github.com/google/jax/blob/main/design_notes/omnistaging.md.\n",
      "  warnings.warn(f\"JAX omnistaging couldn't be disabled: {e}\")\n",
      "/home/remi/projects/pymc/pymc/sampling_jax.py:31: UserWarning: This module is experimental.\n",
      "  warnings.warn(\"This module is experimental.\")\n"
     ]
    }
   ],
   "source": [
    "import jax\n",
    "import numpy as np\n",
    "import pymc as pm\n",
    "import pymc.sampling_jax\n",
    "\n",
    "import blackjax\n",
    "\n",
    "print(f\"Running on PyMC3 v{pm.__version__}\")"
   ]
  },
  {
   "cell_type": "markdown",
   "id": "05f0126b",
   "metadata": {
    "id": "8VrYFaoIX--y"
   },
   "source": [
    "## Data\n",
    "\n",
    "Please refer to the [original TFP example](https://www.tensorflow.org/probability/examples/Eight_Schools) for a description of the problem and the model that is used."
   ]
  },
  {
   "cell_type": "code",
   "execution_count": 2,
   "id": "0b6aaeb6",
   "metadata": {
    "id": "imotOe9sUNYF"
   },
   "outputs": [],
   "source": [
    "# Data of the Eight Schools Model\n",
    "J = 8\n",
    "y = np.array([28.0, 8.0, -3.0, 7.0, -1.0, 1.0, 18.0, 12.0])\n",
    "sigma = np.array([15.0, 10.0, 16.0, 11.0, 9.0, 11.0, 10.0, 18.0])"
   ]
  },
  {
   "cell_type": "markdown",
   "id": "5693278e",
   "metadata": {
    "id": "aabSQ11iYGZw"
   },
   "source": [
    "## Model\n"
   ]
  },
  {
   "cell_type": "code",
   "execution_count": 3,
   "id": "e82b0be9",
   "metadata": {
    "id": "PiBv9iOvRK0f"
   },
   "outputs": [],
   "source": [
    "with pm.Model() as model:\n",
    "\n",
    "    mu = pm.Normal(\"mu\", mu=0.0, sigma=10.0)\n",
    "    tau = pm.HalfCauchy(\"tau\", 5.0)\n",
    "\n",
    "    theta = pm.Normal(\"theta\", mu=0, sigma=1, shape=J)\n",
    "    theta_1 = mu + tau * theta\n",
    "    obs = pm.Normal(\"obs\", mu=theta, sigma=sigma, shape=J, observed=y)"
   ]
  },
  {
   "cell_type": "markdown",
   "id": "1af0a7f0",
   "metadata": {
    "id": "VKMdLEu1Y5jb"
   },
   "source": [
    "## Sampling using PyMC NUTS Sampler"
   ]
  },
  {
   "cell_type": "code",
   "execution_count": 4,
   "id": "d69ddad1",
   "metadata": {
    "colab": {
     "base_uri": "https://localhost:8080/",
     "height": 244
    },
    "id": "0ZyMxwLFY_ZI",
    "outputId": "793af037-31e4-4e55-9c76-231c9d78532d"
   },
   "outputs": [
    {
     "name": "stderr",
     "output_type": "stream",
     "text": [
      "Auto-assigning NUTS sampler...\n",
      "Initializing NUTS using jitter+adapt_diag...\n",
      "Sequential sampling (1 chains in 1 job)\n",
      "NUTS: [mu, tau, theta]\n"
     ]
    },
    {
     "data": {
      "text/html": [
       "\n",
       "    <div>\n",
       "        <style>\n",
       "            /* Turns off some styling */\n",
       "            progress {\n",
       "                /* gets rid of default border in Firefox and Opera. */\n",
       "                border: none;\n",
       "                /* Needs to be in here for Safari polyfill so background images work as expected. */\n",
       "                background-size: auto;\n",
       "            }\n",
       "            .progress-bar-interrupted, .progress-bar-interrupted::-webkit-progress-bar {\n",
       "                background: #F44336;\n",
       "            }\n",
       "        </style>\n",
       "      <progress value='51000' class='' max='51000' style='width:300px; height:20px; vertical-align: middle;'></progress>\n",
       "      100.00% [51000/51000 00:29<00:00 Sampling chain 0, 0 divergences]\n",
       "    </div>\n",
       "    "
      ],
      "text/plain": [
       "<IPython.core.display.HTML object>"
      ]
     },
     "metadata": {},
     "output_type": "display_data"
    },
    {
     "name": "stderr",
     "output_type": "stream",
     "text": [
      "Sampling 1 chain for 1_000 tune and 50_000 draw iterations (1_000 + 50_000 draws total) took 30 seconds.\n",
      "Only one chain was sampled, this makes it impossible to run some convergence checks\n"
     ]
    },
    {
     "name": "stdout",
     "output_type": "stream",
     "text": [
      "CPU times: user 30.8 s, sys: 285 ms, total: 31.1 s\n",
      "Wall time: 32.9 s\n"
     ]
    }
   ],
   "source": [
    "%%time\n",
    "\n",
    "with model:\n",
    "    posterior = pm.sample(50_000, chains=1)"
   ]
  },
  {
   "cell_type": "markdown",
   "id": "14d220c4",
   "metadata": {
    "id": "3I6zXC-JZCfs"
   },
   "source": [
    "## Sampling using PyMC JAX Numpyro NUTS sampler"
   ]
  },
  {
   "cell_type": "code",
   "execution_count": 5,
   "id": "de0ad319",
   "metadata": {
    "colab": {
     "base_uri": "https://localhost:8080/"
    },
    "id": "daQ5OO6aZS9t",
    "outputId": "d865c9dc-45ae-4baa-c643-f145492ea4ab"
   },
   "outputs": [
    {
     "name": "stdout",
     "output_type": "stream",
     "text": [
      "Compiling...\n",
      "Compilation time =  0 days 00:00:00.102013\n",
      "Sampling...\n",
      "Sampling time =  0 days 00:00:03.760742\n",
      "Transforming variables...\n",
      "Transformation time =  0 days 00:00:00.020388\n",
      "CPU times: user 3.98 s, sys: 43.6 ms, total: 4.03 s\n",
      "Wall time: 3.99 s\n"
     ]
    }
   ],
   "source": [
    "%%time\n",
    "\n",
    "with model:\n",
    "    hierarchical_trace_jax = pm.sampling_jax.sample_numpyro_nuts(\n",
    "        50_000, target_accept=0.9, chains=1, progress_bar=False\n",
    "    )"
   ]
  },
  {
   "cell_type": "markdown",
   "id": "7c7a7a72",
   "metadata": {
    "id": "h8cMqFwiZjxS"
   },
   "source": [
    "## Sampling using BlackJax\n",
    "\n",
    "### Configuring the model for BlackJax\n",
    "\n",
    "We first need to transpile the PyMC model into a logprobability density function that is compatible with JAX:"
   ]
  },
  {
   "cell_type": "code",
   "execution_count": 6,
   "id": "a1de0d56",
   "metadata": {},
   "outputs": [],
   "source": [
    "rvs = [rv.name for rv in model.value_vars]\n",
    "init_position_dict = model.compute_initial_point()\n",
    "init_position = [init_position_dict[rv] for rv in rvs]\n",
    "\n",
    "logprob_fn = pm.sampling_jax.get_jaxified_logp(model)"
   ]
  },
  {
   "cell_type": "markdown",
   "id": "cd52b9bc",
   "metadata": {},
   "source": [
    "### Sampling"
   ]
  },
  {
   "cell_type": "code",
   "execution_count": 7,
   "id": "e0dcad4d",
   "metadata": {
    "id": "cTlcZCYmidZ6"
   },
   "outputs": [
    {
     "name": "stdout",
     "output_type": "stream",
     "text": [
      "CPU times: user 5.21 s, sys: 10.9 ms, total: 5.22 s\n",
      "Wall time: 5.17 s\n"
     ]
    }
   ],
   "source": [
    "%%time\n",
    "\n",
    "seed = jax.random.PRNGKey(1234)\n",
    "\n",
    "adapt = blackjax.window_adaptation(blackjax.nuts, logprob_fn, 1000)\n",
    "last_state, kernel, _ = adapt.run(seed, init_position)\n",
    "\n",
    "\n",
    "def inference_loop(rng_key, kernel, initial_state, num_samples):\n",
    "    def one_step(state, rng_key):\n",
    "        state, info = kernel(rng_key, state)\n",
    "        return state, (state, info)\n",
    "\n",
    "    keys = jax.random.split(rng_key, num_samples)\n",
    "    _, (states, infos) = jax.lax.scan(one_step, initial_state, keys)\n",
    "\n",
    "    return states, infos\n",
    "\n",
    "\n",
    "# Sample from the posterior distribution\n",
    "states, infos = inference_loop(seed, kernel, last_state, 50_000)"
   ]
  }
 ],
 "metadata": {
  "colab": {
   "collapsed_sections": [],
   "name": "use_with_pymc3.ipynb",
   "provenance": []
  },
  "kernelspec": {
   "display_name": "blackjax",
   "language": "python",
   "name": "blackjax"
  },
  "language_info": {
   "codemirror_mode": {
    "name": "ipython",
    "version": 3
   },
   "file_extension": ".py",
   "mimetype": "text/x-python",
   "name": "python",
   "nbconvert_exporter": "python",
   "pygments_lexer": "ipython3",
   "version": "3.9.7"
  },
  "metadata": {
   "interpreter": {
    "hash": "da83a268153c84bc9ca9703c2cea4521d98c583fc99858c9f792a1bd45c27e3c"
   }
  }
 },
 "nbformat": 4,
 "nbformat_minor": 5
}
