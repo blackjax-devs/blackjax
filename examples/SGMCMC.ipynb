{
 "cells": [
  {
   "cell_type": "markdown",
   "id": "1bc15ed9",
   "metadata": {},
   "source": [
    "# MNIST digit recognition with a 3-layer Perceptron"
   ]
  },
  {
   "cell_type": "markdown",
   "id": "0a8d8318",
   "metadata": {},
   "source": [
    "This example is inspired form [this notebook](https://github.com/jeremiecoullon/SGMCMCJax/blob/master/docs/nbs/BNN.ipynb) in the SGMCMCJax repository. We try to use a 3-layer neural network to recognise the digits in the MNIST dataset."
   ]
  },
  {
   "cell_type": "code",
   "execution_count": 1,
   "id": "5007f852",
   "metadata": {},
   "outputs": [],
   "source": [
    "import jax\n",
    "import jax.nn as nn\n",
    "import jax.numpy as jnp\n",
    "import jax.scipy.stats as stats\n",
    "import numpy as np"
   ]
  },
  {
   "cell_type": "markdown",
   "id": "35a8537a",
   "metadata": {},
   "source": [
    "## Data preparation"
   ]
  },
  {
   "cell_type": "markdown",
   "id": "5741b935",
   "metadata": {},
   "source": [
    "We download the MNIST data using `tensorflow-datasets`:"
   ]
  },
  {
   "cell_type": "code",
   "execution_count": 2,
   "id": "2369bd92",
   "metadata": {},
   "outputs": [
    {
     "name": "stderr",
     "output_type": "stream",
     "text": [
      "/home/remi/.virtualenvs/blackjax/lib/python3.10/site-packages/tqdm/auto.py:22: TqdmWarning: IProgress not found. Please update jupyter and ipywidgets. See https://ipywidgets.readthedocs.io/en/stable/user_install.html\n",
      "  from .autonotebook import tqdm as notebook_tqdm\n"
     ]
    }
   ],
   "source": [
    "import tensorflow_datasets as tfds\n",
    "\n",
    "mnist_data, _ = tfds.load(\n",
    "    name=\"mnist\", batch_size=-1, with_info=True, as_supervised=True\n",
    ")\n",
    "mnist_data = tfds.as_numpy(mnist_data)\n",
    "data_train, data_test = mnist_data[\"train\"], mnist_data[\"test\"]"
   ]
  },
  {
   "cell_type": "markdown",
   "id": "82264d9c",
   "metadata": {},
   "source": [
    "Now we need to apply several transformations to the dataset before splitting it into a test and a test set:\n",
    "- The images come into 28x28 pixels matrices; we reshape them into a vector;\n",
    "- The images are arrays of RGB codes between 0 and 255. We normalize them by the maximum value to get a range between 0 and 1;\n",
    "- We hot-encode category numbers."
   ]
  },
  {
   "cell_type": "code",
   "execution_count": 3,
   "id": "94a9eddc",
   "metadata": {},
   "outputs": [
    {
     "name": "stderr",
     "output_type": "stream",
     "text": [
      "WARNING:absl:No GPU/TPU found, falling back to CPU. (Set TF_CPP_MIN_LOG_LEVEL=0 and rerun for more info.)\n"
     ]
    }
   ],
   "source": [
    "def one_hot_encode(x, k, dtype=np.float32):\n",
    "    \"Create a one-hot encoding of x of size k.\"\n",
    "    return np.array(x[:, None] == np.arange(k), dtype)\n",
    "\n",
    "\n",
    "def prepare_data(dataset: tuple, num_categories=10):\n",
    "    X, y = dataset\n",
    "    y = one_hot_encode(y, num_categories)\n",
    "\n",
    "    num_examples = X.shape[0]\n",
    "    num_pixels = 28 * 28\n",
    "    X = X.reshape(num_examples, num_pixels)\n",
    "    X = X / 255.0\n",
    "\n",
    "    return jnp.array(X), jnp.array(y), num_examples\n",
    "\n",
    "\n",
    "def batch_data(rng_key, data, batch_size, data_size):\n",
    "    \"\"\"Return an iterator over batches of data.\"\"\"\n",
    "    while True:\n",
    "        _, rng_key = jax.random.split(rng_key)\n",
    "        idx = jax.random.choice(\n",
    "            key=rng_key, a=jnp.arange(data_size), shape=(batch_size,)\n",
    "        )\n",
    "        minibatch = tuple(elem[idx] for elem in data)\n",
    "        yield minibatch\n",
    "\n",
    "\n",
    "X_train, y_train, N_train = prepare_data(data_train)\n",
    "X_test, y_test, N_test = prepare_data(data_train)"
   ]
  },
  {
   "cell_type": "markdown",
   "id": "e94b4fc8",
   "metadata": {},
   "source": [
    "## Model:  3-layer perceptron"
   ]
  },
  {
   "cell_type": "markdown",
   "id": "498ce3f2",
   "metadata": {},
   "source": [
    "We will use a very simple (bayesian) neural network in this example: A MLP with gaussian priors on the weights. We first need a function that computes the model's logposterior density given the data and the current values of the parameters. If we note $X$ the array that represents an image and $y$ the array such that $y_i = 0$  if the image is in category $i$, $y_i=1$ otherwise, the model can be written as:\n",
    "\n",
    "\\begin{align*}\n",
    "  \\boldsymbol{p} &= \\operatorname{NN}(X)\\\\\n",
    "  \\boldsymbol{y} &\\sim \\operatorname{Categorical}(\\boldsymbol{p})\n",
    "\\end{align*}"
   ]
  },
  {
   "cell_type": "code",
   "execution_count": 4,
   "id": "8c348e3d",
   "metadata": {},
   "outputs": [],
   "source": [
    "def predict_fn(parameters, X):\n",
    "    \"\"\"Returns the probability for the image represented by X\n",
    "    to be in each category given the MLP's weights vakues.\n",
    "\n",
    "    \"\"\"\n",
    "    activations = X\n",
    "    for W, b in parameters[:-1]:\n",
    "        outputs = jnp.dot(W, activations) + b\n",
    "        activations = nn.softmax(outputs)\n",
    "\n",
    "    final_W, final_b = parameters[-1]\n",
    "    logits = jnp.dot(final_W, activations) + final_b\n",
    "    return nn.log_softmax(logits)\n",
    "\n",
    "\n",
    "def logprior_fn(parameters):\n",
    "    \"\"\"Compute the value of the log-prior density function.\"\"\"\n",
    "    logprob = 0.0\n",
    "    for W, b in parameters:\n",
    "        logprob += jnp.sum(stats.norm.logpdf(W))\n",
    "        logprob += jnp.sum(stats.norm.logpdf(b))\n",
    "    return logprob\n",
    "\n",
    "\n",
    "def loglikelihood_fn(parameters, data):\n",
    "    \"\"\"Categorical log-likelihood\"\"\"\n",
    "    X, y = data\n",
    "    return jnp.sum(y * predict_fn(parameters, X))\n",
    "\n",
    "\n",
    "def compute_accuracy(parameters, X, y):\n",
    "    \"\"\"Compute the accuracy of the model.\n",
    "\n",
    "    To make predictions we take the number that corresponds to the highest probability value.\n",
    "    \"\"\"\n",
    "    target_class = jnp.argmax(y, axis=1)\n",
    "    predicted_class = jnp.argmax(\n",
    "        jax.vmap(predict_fn, in_axes=(None, 0))(parameters, X), axis=1\n",
    "    )\n",
    "    return jnp.mean(predicted_class == target_class)"
   ]
  },
  {
   "cell_type": "markdown",
   "id": "bfbe31d8",
   "metadata": {},
   "source": [
    "## Sample from the posterior distribution of the perceptron's weights"
   ]
  },
  {
   "cell_type": "markdown",
   "id": "03d4d58e",
   "metadata": {},
   "source": [
    "Now we need to get initial values for the parameters, and we simply sample from their prior distribution:"
   ]
  },
  {
   "cell_type": "code",
   "execution_count": 5,
   "id": "c608ce11",
   "metadata": {},
   "outputs": [],
   "source": [
    "def init_parameters(rng_key, sizes):\n",
    "    \"\"\"\n",
    "\n",
    "    Parameter\n",
    "    ----------\n",
    "    rng_key\n",
    "        PRNGKey used by JAX to generate pseudo-random numbers\n",
    "    sizes\n",
    "        List of size for the subsequent layers. The first size must correspond\n",
    "        to the size of the input data and the last one to the number of\n",
    "        categories.\n",
    "\n",
    "    \"\"\"\n",
    "    num_layers = len(sizes)\n",
    "    keys = jax.random.split(rng_key, num_layers)\n",
    "    return [\n",
    "        init_layer(rng_key, m, n) for rng_key, m, n in zip(keys, sizes[:-1], sizes[1:])\n",
    "    ]\n",
    "\n",
    "\n",
    "def init_layer(rng_key, m, n, scale=1e-2):\n",
    "    \"\"\"Initialize the weights for a single layer.\"\"\"\n",
    "    key_W, key_b = jax.random.split(rng_key)\n",
    "    return (scale * jax.random.normal(key_W, (n, m))), scale * jax.random.normal(\n",
    "        key_b, (n,)\n",
    "    )"
   ]
  },
  {
   "cell_type": "markdown",
   "id": "04151cb9",
   "metadata": {},
   "source": [
    "### Using SGLD"
   ]
  },
  {
   "cell_type": "markdown",
   "id": "e9de87de",
   "metadata": {},
   "source": [
    "We now sample from the model's posteriors. We discard the first 1000 samples until the sampler has reached the typical set, and then take 2000 samples. We record the model's accuracy with the current values every 100 steps."
   ]
  },
  {
   "cell_type": "code",
   "execution_count": 6,
   "id": "f53d3f70",
   "metadata": {},
   "outputs": [
    {
     "name": "stdout",
     "output_type": "stream",
     "text": [
      "CPU times: user 1min 20s, sys: 9.39 s, total: 1min 30s\n",
      "Wall time: 16.6 s\n"
     ]
    }
   ],
   "source": [
    "%%time\n",
    "\n",
    "import blackjax\n",
    "from blackjax.sgmcmc.gradients import grad_estimator\n",
    "\n",
    "data_size = len(y_train)\n",
    "batch_size = int(0.01 * data_size)\n",
    "layer_sizes = [784, 100, 10]\n",
    "step_size = 5e-5\n",
    "num_warmup = 1000\n",
    "num_samples = 2000\n",
    "\n",
    "# Batch the data\n",
    "rng_key = jax.random.PRNGKey(1)\n",
    "batches = batch_data(rng_key, (X_train, y_train), batch_size, data_size)\n",
    "\n",
    "# Build the SGLD kernel\n",
    "schedule_fn = lambda _: step_size  # constant step size\n",
    "grad_fn = grad_estimator(logprior_fn, loglikelihood_fn, data_size)\n",
    "sgld = blackjax.sgld(grad_fn, schedule_fn)\n",
    "\n",
    "# Set the initial state\n",
    "init_positions = init_parameters(rng_key, layer_sizes)\n",
    "state = sgld.init(init_positions, next(batches))\n",
    "step_fn = jax.jit(sgld.step)\n",
    "\n",
    "# Sample from the posterior\n",
    "accuracies = []\n",
    "samples = []\n",
    "steps = []\n",
    "for step in range(num_samples + num_warmup):\n",
    "    _, rng_key = jax.random.split(rng_key)\n",
    "    batch = next(batches)\n",
    "    state = step_fn(rng_key, state, batch)\n",
    "    if step % 100 == 0:\n",
    "        accuracy = compute_accuracy(state.position, X_test, y_test)\n",
    "        accuracies.append(accuracy)\n",
    "        steps.append(step)\n",
    "    if step > num_warmup:\n",
    "        samples.append(state.position)"
   ]
  },
  {
   "cell_type": "markdown",
   "id": "a58241c8",
   "metadata": {},
   "source": [
    "Let us plot the accuracy at different points in the sampling process:"
   ]
  },
  {
   "cell_type": "code",
   "execution_count": 7,
   "id": "6de19b79",
   "metadata": {},
   "outputs": [
    {
     "data": {
      "text/plain": [
       "[]"
      ]
     },
     "execution_count": 7,
     "metadata": {},
     "output_type": "execute_result"
    },
    {
     "data": {
      "image/png": "[encoded data removed]",
      "text/plain": [
       "<Figure size 864x576 with 1 Axes>"
      ]
     },
     "metadata": {
      "needs_background": "light"
     },
     "output_type": "display_data"
    }
   ],
   "source": [
    "import matplotlib.pylab as plt\n",
    "\n",
    "fig = plt.figure(figsize=(12, 8))\n",
    "ax = fig.add_subplot(111)\n",
    "ax.plot(steps, accuracies)\n",
    "ax.set_xlabel(\"Number of sampling steps\")\n",
    "ax.set_ylabel(\"Prediction accuracy\")\n",
    "ax.set_xlim([0, num_warmup + num_samples])\n",
    "ax.set_ylim([0, 1])\n",
    "ax.set_yticks([0.1, 0.3, 0.5, 0.7, 0.9])\n",
    "plt.title(\"Sample from 3-layer MLP posterior (MNIST dataset) with SgLD\")\n",
    "plt.plot()"
   ]
  },
  {
   "cell_type": "code",
   "execution_count": 8,
   "id": "51b2b8e6",
   "metadata": {},
   "outputs": [
    {
     "name": "stdout",
     "output_type": "stream",
     "text": [
      "The average accuracy in the sampling phase is 0.93\n"
     ]
    }
   ],
   "source": [
    "print(f\"The average accuracy in the sampling phase is {np.mean(accuracies[10:]):.2f}\")"
   ]
  },
  {
   "cell_type": "markdown",
   "id": "8ac952f6",
   "metadata": {},
   "source": [
    "Which is not a bad accuracy at all for such a simple model and after only 1000 steps! Remember though that we draw samples from the posterior distribution of the digit probabilities; we can thus use this information to filter out examples for which the model is \"unsure\" of its prediction.\n",
    "\n",
    "Here we will say that the model is unsure of its prediction for a given image if the digit that is most often predicted for this image is predicted less tham 95% of the time."
   ]
  },
  {
   "cell_type": "code",
   "execution_count": 9,
   "id": "7a5b2061",
   "metadata": {},
   "outputs": [],
   "source": [
    "predicted_class = np.exp(\n",
    "    np.stack([jax.vmap(predict_fn, in_axes=(None, 0))(s, X_test) for s in samples])\n",
    ")\n",
    "\n",
    "max_predicted = [np.argmax(predicted_class[:, i, :], axis=1) for i in range(60000)]\n",
    "freq_max_predicted = np.array(\n",
    "    [\n",
    "        (max_predicted[i] == np.argmax(np.bincount(max_predicted[i]))).sum()\n",
    "        / num_samples\n",
    "        for i in range(60000)\n",
    "    ]\n",
    ")\n",
    "certain_mask = freq_max_predicted > 0.95"
   ]
  },
  {
   "cell_type": "markdown",
   "id": "3b9e6a15",
   "metadata": {},
   "source": [
    "Let's plot a few examples where the model was very uncertain:"
   ]
  },
  {
   "cell_type": "code",
   "execution_count": 10,
   "id": "87cebc7d",
   "metadata": {},
   "outputs": [
    {
     "name": "stdout",
     "output_type": "stream",
     "text": [
      "[0.     0.128  0.07   0.     0.214  0.0775 0.2115 0.     0.1755 0.123 ]\n"
     ]
    },
    {
     "data": {
      "image/png": "[encoded data removed]",
      "text/plain": [
       "<Figure size 432x288 with 1 Axes>"
      ]
     },
     "metadata": {
      "needs_background": "light"
     },
     "output_type": "display_data"
    },
    {
     "name": "stdout",
     "output_type": "stream",
     "text": [
      "[0.2265 0.     0.     0.1665 0.     0.145  0.     0.1025 0.1445 0.2145]\n"
     ]
    },
    {
     "data": {
      "image/png": "[encoded data removed]",
      "text/plain": [
       "<Figure size 432x288 with 1 Axes>"
      ]
     },
     "metadata": {
      "needs_background": "light"
     },
     "output_type": "display_data"
    },
    {
     "name": "stdout",
     "output_type": "stream",
     "text": [
      "[0.     0.     0.1945 0.222  0.0055 0.237  0.171  0.0115 0.158 ]\n"
     ]
    },
    {
     "data": {
      "image/png": "[encoded data removed]",
      "text/plain": [
       "<Figure size 432x288 with 1 Axes>"
      ]
     },
     "metadata": {
      "needs_background": "light"
     },
     "output_type": "display_data"
    },
    {
     "name": "stdout",
     "output_type": "stream",
     "text": [
      "[0.     0.1055 0.0475 0.179  0.0005 0.201  0.0035 0.     0.252  0.2105]\n"
     ]
    },
    {
     "data": {
      "image/png": "[encoded data removed]",
      "text/plain": [
       "<Figure size 432x288 with 1 Axes>"
      ]
     },
     "metadata": {
      "needs_background": "light"
     },
     "output_type": "display_data"
    },
    {
     "name": "stdout",
     "output_type": "stream",
     "text": [
      "[0.056  0.     0.229  0.065  0.     0.0065 0.0155 0.157  0.2145 0.256 ]\n"
     ]
    },
    {
     "data": {
      "image/png": "[encoded data removed]",
      "text/plain": [
       "<Figure size 432x288 with 1 Axes>"
      ]
     },
     "metadata": {
      "needs_background": "light"
     },
     "output_type": "display_data"
    },
    {
     "name": "stdout",
     "output_type": "stream",
     "text": [
      "[0.     0.     0.254  0.24   0.     0.2645 0.     0.     0.2345 0.0065]\n"
     ]
    },
    {
     "data": {
      "image/png": "[encoded data removed]",
      "text/plain": [
       "<Figure size 432x288 with 1 Axes>"
      ]
     },
     "metadata": {
      "needs_background": "light"
     },
     "output_type": "display_data"
    },
    {
     "name": "stdout",
     "output_type": "stream",
     "text": [
      "[0.     0.263  0.     0.     0.1295 0.2655 0.     0.038  0.1725 0.131 ]\n"
     ]
    },
    {
     "data": {
      "image/png": "[encoded data removed]",
      "text/plain": [
       "<Figure size 432x288 with 1 Axes>"
      ]
     },
     "metadata": {
      "needs_background": "light"
     },
     "output_type": "display_data"
    },
    {
     "name": "stdout",
     "output_type": "stream",
     "text": [
      "[0.     0.     0.0985 0.222  0.     0.     0.     0.271  0.1435 0.2645]\n"
     ]
    },
    {
     "data": {
      "image/png": "[encoded data removed]",
      "text/plain": [
       "<Figure size 432x288 with 1 Axes>"
      ]
     },
     "metadata": {
      "needs_background": "light"
     },
     "output_type": "display_data"
    },
    {
     "name": "stdout",
     "output_type": "stream",
     "text": [
      "[0.     0.     0.273  0.007  0.0325 0.097  0.001  0.2045 0.137  0.2475]\n"
     ]
    },
    {
     "data": {
      "image/png": "[encoded data removed]",
      "text/plain": [
       "<Figure size 432x288 with 1 Axes>"
      ]
     },
     "metadata": {
      "needs_background": "light"
     },
     "output_type": "display_data"
    },
    {
     "name": "stdout",
     "output_type": "stream",
     "text": [
      "[0.     0.2775 0.2355 0.     0.1395 0.012  0.004  0.0075 0.1785 0.145 ]\n"
     ]
    },
    {
     "data": {
      "image/png": "[encoded data removed]",
      "text/plain": [
       "<Figure size 432x288 with 1 Axes>"
      ]
     },
     "metadata": {
      "needs_background": "light"
     },
     "output_type": "display_data"
    }
   ],
   "source": [
    "most_uncertain_idx = np.argsort(freq_max_predicted)\n",
    "\n",
    "for i in range(10):\n",
    "    print(np.bincount(max_predicted[most_uncertain_idx[i]]) / num_samples)\n",
    "    fig = plt.figure()\n",
    "    plt.imshow(X_test[most_uncertain_idx[i]].reshape(28, 28), cmap=\"gray\")\n",
    "    plt.show()"
   ]
  },
  {
   "cell_type": "markdown",
   "id": "277e6729",
   "metadata": {},
   "source": [
    "And now compute the average accuracy over all the samples without these uncertain predictions:"
   ]
  },
  {
   "cell_type": "code",
   "execution_count": 11,
   "id": "c45869fd",
   "metadata": {
    "scrolled": true
   },
   "outputs": [
    {
     "name": "stdout",
     "output_type": "stream",
     "text": [
      "The average accuracy removing the samples for which the model is uncertain is 0.983\n",
      "The model was unsure about 13.4% of the examples\n"
     ]
    }
   ],
   "source": [
    "avg_accuracy = np.mean(\n",
    "    [compute_accuracy(s, X_test[certain_mask], y_test[certain_mask]) for s in samples]\n",
    ")\n",
    "\n",
    "print(\n",
    "    f\"The average accuracy removing the samples for which the model is uncertain is {avg_accuracy:.3f}\"\n",
    ")\n",
    "\n",
    "print(\n",
    "    f\"The model was unsure about {100 * (len(certain_mask) - np.sum(certain_mask)) / len(certain_mask):.1f}% of the examples\"\n",
    ")"
   ]
  },
  {
   "cell_type": "markdown",
   "id": "81f5d8ed",
   "metadata": {},
   "source": [
    "### Using SGHMC"
   ]
  },
  {
   "cell_type": "code",
   "execution_count": 12,
   "id": "d3de0765",
   "metadata": {},
   "outputs": [
    {
     "name": "stderr",
     "output_type": "stream",
     "text": [
      "/home/remi/.virtualenvs/blackjax/lib/python3.10/site-packages/jax/_src/tree_util.py:200: FutureWarning: jax.tree_util.tree_multimap() is deprecated. Please use jax.tree_util.tree_map() instead as a drop-in replacement.\n",
      "  warnings.warn('jax.tree_util.tree_multimap() is deprecated. Please use jax.tree_util.tree_map() '\n"
     ]
    }
   ],
   "source": [
    "import blackjax\n",
    "from blackjax.sgmcmc.gradients import grad_estimator\n",
    "\n",
    "data_size = len(y_train)\n",
    "batch_size = int(0.01 * data_size)\n",
    "layer_sizes = [784, 100, 10]\n",
    "num_warmup = 1000\n",
    "num_samples = 1000\n",
    "\n",
    "\n",
    "# Batch the data\n",
    "rng_key = jax.random.PRNGKey(1)\n",
    "batches = batch_data(rng_key, (X_train, y_train), batch_size, data_size)\n",
    "\n",
    "# Build the SGLD kernel\n",
    "step_size = 9e-6\n",
    "num_integration_steps = 10\n",
    "schedule_fn = lambda _: step_size  # constant step size\n",
    "grad_fn = grad_estimator(logprior_fn, loglikelihood_fn, data_size)\n",
    "sghmc = blackjax.sghmc(grad_fn, schedule_fn, num_integration_steps)\n",
    "\n",
    "# Set the initial state\n",
    "init_positions = init_parameters(rng_key, layer_sizes)\n",
    "state = sghmc.init(init_positions, next(batches))\n",
    "step_fn = jax.jit(sghmc.step)\n",
    "\n",
    "# Sample from the posterior\n",
    "accuracies = []\n",
    "samples = []\n",
    "steps = []\n",
    "for step in range(num_warmup + num_samples):\n",
    "    _, rng_key = jax.random.split(rng_key)\n",
    "    batch = next(batches)\n",
    "    state = step_fn(rng_key, state, batch)\n",
    "    if step % 100 == 0:\n",
    "        accuracy = compute_accuracy(state.position, X_test, y_test)\n",
    "        accuracies.append(accuracy)\n",
    "        steps.append(step)\n",
    "    if step > num_warmup:\n",
    "        samples.append(state.position)"
   ]
  },
  {
   "cell_type": "code",
   "execution_count": 13,
   "id": "91ea85bc",
   "metadata": {},
   "outputs": [
    {
     "data": {
      "text/plain": [
       "[]"
      ]
     },
     "execution_count": 13,
     "metadata": {},
     "output_type": "execute_result"
    },
    {
     "data": {
      "image/png": "[encoded data removed]",
      "text/plain": [
       "<Figure size 864x576 with 1 Axes>"
      ]
     },
     "metadata": {
      "needs_background": "light"
     },
     "output_type": "display_data"
    }
   ],
   "source": [
    "import matplotlib.pylab as plt\n",
    "\n",
    "fig = plt.figure(figsize=(12, 8))\n",
    "ax = fig.add_subplot(111)\n",
    "ax.plot(steps, accuracies)\n",
    "ax.set_xlabel(\"Number of sampling steps\")\n",
    "ax.set_ylabel(\"Prediction accuracy\")\n",
    "ax.set_xlim([0, num_warmup + num_samples])\n",
    "ax.set_ylim([0, 1])\n",
    "ax.set_yticks([0.1, 0.3, 0.5, 0.7, 0.9])\n",
    "plt.title(\"Sample from 3-layer MLP posterior (MNIST dataset) with SgLD\")\n",
    "plt.plot()"
   ]
  },
  {
   "cell_type": "code",
   "execution_count": 14,
   "id": "e731a656",
   "metadata": {},
   "outputs": [
    {
     "name": "stdout",
     "output_type": "stream",
     "text": [
      "The average accuracy in the sampling phase is 0.94\n"
     ]
    }
   ],
   "source": [
    "print(f\"The average accuracy in the sampling phase is {np.mean(accuracies[10:]):.2f}\")"
   ]
  },
  {
   "cell_type": "code",
   "execution_count": 15,
   "id": "8e6de54f",
   "metadata": {},
   "outputs": [],
   "source": [
    "predicted_class = np.exp(\n",
    "    np.stack([jax.vmap(predict_fn, in_axes=(None, 0))(s, X_test) for s in samples])\n",
    ")\n",
    "\n",
    "max_predicted = [np.argmax(predicted_class[:, i, :], axis=1) for i in range(60000)]\n",
    "freq_max_predicted = np.array(\n",
    "    [\n",
    "        (max_predicted[i] == np.argmax(np.bincount(max_predicted[i]))).sum()\n",
    "        / num_samples\n",
    "        for i in range(60000)\n",
    "    ]\n",
    ")\n",
    "certain_mask = freq_max_predicted > 0.95"
   ]
  },
  {
   "cell_type": "code",
   "execution_count": 16,
   "id": "8c78758e",
   "metadata": {},
   "outputs": [
    {
     "name": "stdout",
     "output_type": "stream",
     "text": [
      "[0.227 0.202 0.006 0.136 0.006 0.099 0.195 0.001 0.046 0.081]\n"
     ]
    },
    {
     "data": {
      "image/png": "[encoded data removed]",
      "text/plain": [
       "<Figure size 432x288 with 1 Axes>"
      ]
     },
     "metadata": {
      "needs_background": "light"
     },
     "output_type": "display_data"
    },
    {
     "name": "stdout",
     "output_type": "stream",
     "text": [
      "[0.    0.    0.251 0.028 0.274 0.    0.236 0.    0.081 0.129]\n"
     ]
    },
    {
     "data": {
      "image/png": "[encoded data removed]",
      "text/plain": [
       "<Figure size 432x288 with 1 Axes>"
      ]
     },
     "metadata": {
      "needs_background": "light"
     },
     "output_type": "display_data"
    },
    {
     "name": "stdout",
     "output_type": "stream",
     "text": [
      "[0.    0.    0.063 0.252 0.    0.    0.    0.167 0.237 0.28 ]\n"
     ]
    },
    {
     "data": {
      "image/png": "[encoded data removed]",
      "text/plain": [
       "<Figure size 432x288 with 1 Axes>"
      ]
     },
     "metadata": {
      "needs_background": "light"
     },
     "output_type": "display_data"
    },
    {
     "name": "stdout",
     "output_type": "stream",
     "text": [
      "[0.    0.139 0.274 0.039 0.    0.    0.    0.286 0.261]\n"
     ]
    },
    {
     "data": {
      "image/png": "[encoded data removed]",
      "text/plain": [
       "<Figure size 432x288 with 1 Axes>"
      ]
     },
     "metadata": {
      "needs_background": "light"
     },
     "output_type": "display_data"
    },
    {
     "name": "stdout",
     "output_type": "stream",
     "text": [
      "[0.    0.    0.283 0.248 0.    0.286 0.    0.    0.182]\n"
     ]
    },
    {
     "data": {
      "image/png": "[encoded data removed]",
      "text/plain": [
       "<Figure size 432x288 with 1 Axes>"
      ]
     },
     "metadata": {
      "needs_background": "light"
     },
     "output_type": "display_data"
    },
    {
     "name": "stdout",
     "output_type": "stream",
     "text": [
      "[0.009 0.    0.    0.209 0.    0.291 0.    0.    0.287 0.203]\n"
     ]
    },
    {
     "data": {
      "image/png": "[encoded data removed]",
      "text/plain": [
       "<Figure size 432x288 with 1 Axes>"
      ]
     },
     "metadata": {
      "needs_background": "light"
     },
     "output_type": "display_data"
    },
    {
     "name": "stdout",
     "output_type": "stream",
     "text": [
      "[0.    0.    0.102 0.174 0.158 0.233 0.004 0.    0.294 0.034]\n"
     ]
    },
    {
     "data": {
      "image/png": "[encoded data removed]",
      "text/plain": [
       "<Figure size 432x288 with 1 Axes>"
      ]
     },
     "metadata": {
      "needs_background": "light"
     },
     "output_type": "display_data"
    },
    {
     "name": "stdout",
     "output_type": "stream",
     "text": [
      "[0.266 0.    0.059 0.004 0.001 0.117 0.256 0.    0.296]\n"
     ]
    },
    {
     "data": {
      "image/png": "[encoded data removed]",
      "text/plain": [
       "<Figure size 432x288 with 1 Axes>"
      ]
     },
     "metadata": {
      "needs_background": "light"
     },
     "output_type": "display_data"
    },
    {
     "name": "stdout",
     "output_type": "stream",
     "text": [
      "[0.    0.    0.121 0.008 0.002 0.297 0.205 0.018 0.267 0.081]\n"
     ]
    },
    {
     "data": {
      "image/png": "[encoded data removed]",
      "text/plain": [
       "<Figure size 432x288 with 1 Axes>"
      ]
     },
     "metadata": {
      "needs_background": "light"
     },
     "output_type": "display_data"
    },
    {
     "name": "stdout",
     "output_type": "stream",
     "text": [
      "[0.295 0.    0.303 0.018 0.001 0.003 0.161 0.    0.218]\n"
     ]
    },
    {
     "data": {
      "image/png": "[encoded data removed]",
      "text/plain": [
       "<Figure size 432x288 with 1 Axes>"
      ]
     },
     "metadata": {
      "needs_background": "light"
     },
     "output_type": "display_data"
    }
   ],
   "source": [
    "most_uncertain_idx = np.argsort(freq_max_predicted)\n",
    "\n",
    "for i in range(10):\n",
    "    print(np.bincount(max_predicted[most_uncertain_idx[i]]) / num_samples)\n",
    "    fig = plt.figure()\n",
    "    plt.imshow(X_test[most_uncertain_idx[i]].reshape(28, 28), cmap=\"gray\")\n",
    "    plt.show()"
   ]
  },
  {
   "cell_type": "code",
   "execution_count": 17,
   "id": "a0c352cb",
   "metadata": {},
   "outputs": [
    {
     "name": "stdout",
     "output_type": "stream",
     "text": [
      "The average accuracy removing the samples for which the model is uncertain is 0.988\n",
      "The model was unsure about 13.8% of the examples\n"
     ]
    }
   ],
   "source": [
    "avg_accuracy = np.mean(\n",
    "    [compute_accuracy(s, X_test[certain_mask], y_test[certain_mask]) for s in samples]\n",
    ")\n",
    "\n",
    "print(\n",
    "    f\"The average accuracy removing the samples for which the model is uncertain is {avg_accuracy:.3f}\"\n",
    ")\n",
    "\n",
    "print(\n",
    "    f\"The model was unsure about {100 * (len(certain_mask) - np.sum(certain_mask)) / len(certain_mask):.1f}% of the examples\"\n",
    ")"
   ]
  }
 ],
 "metadata": {
  "kernelspec": {
   "display_name": "blackjax",
   "language": "python",
   "name": "blackjax"
  },
  "language_info": {
   "codemirror_mode": {
    "name": "ipython",
    "version": 3
   },
   "file_extension": ".py",
   "mimetype": "text/x-python",
   "name": "python",
   "nbconvert_exporter": "python",
   "pygments_lexer": "ipython3",
   "version": "3.10.5"
  }
 },
 "nbformat": 4,
 "nbformat_minor": 5
}
